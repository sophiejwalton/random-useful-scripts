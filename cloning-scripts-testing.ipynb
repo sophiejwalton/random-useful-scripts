{
 "cells": [
  {
   "cell_type": "code",
   "execution_count": 10,
   "metadata": {},
   "outputs": [
    {
     "data": {
      "text/html": [
       "\n",
       "    <div class=\"bk-root\">\n",
       "        <a href=\"https://bokeh.org\" target=\"_blank\" class=\"bk-logo bk-logo-small bk-logo-notebook\"></a>\n",
       "        <span id=\"1001\">Loading BokehJS ...</span>\n",
       "    </div>"
      ]
     },
     "metadata": {},
     "output_type": "display_data"
    },
    {
     "data": {
      "application/javascript": [
       "\n",
       "(function(root) {\n",
       "  function now() {\n",
       "    return new Date();\n",
       "  }\n",
       "\n",
       "  var force = true;\n",
       "\n",
       "  if (typeof root._bokeh_onload_callbacks === \"undefined\" || force === true) {\n",
       "    root._bokeh_onload_callbacks = [];\n",
       "    root._bokeh_is_loading = undefined;\n",
       "  }\n",
       "\n",
       "  var JS_MIME_TYPE = 'application/javascript';\n",
       "  var HTML_MIME_TYPE = 'text/html';\n",
       "  var EXEC_MIME_TYPE = 'application/vnd.bokehjs_exec.v0+json';\n",
       "  var CLASS_NAME = 'output_bokeh rendered_html';\n",
       "\n",
       "  /**\n",
       "   * Render data to the DOM node\n",
       "   */\n",
       "  function render(props, node) {\n",
       "    var script = document.createElement(\"script\");\n",
       "    node.appendChild(script);\n",
       "  }\n",
       "\n",
       "  /**\n",
       "   * Handle when an output is cleared or removed\n",
       "   */\n",
       "  function handleClearOutput(event, handle) {\n",
       "    var cell = handle.cell;\n",
       "\n",
       "    var id = cell.output_area._bokeh_element_id;\n",
       "    var server_id = cell.output_area._bokeh_server_id;\n",
       "    // Clean up Bokeh references\n",
       "    if (id != null && id in Bokeh.index) {\n",
       "      Bokeh.index[id].model.document.clear();\n",
       "      delete Bokeh.index[id];\n",
       "    }\n",
       "\n",
       "    if (server_id !== undefined) {\n",
       "      // Clean up Bokeh references\n",
       "      var cmd = \"from bokeh.io.state import curstate; print(curstate().uuid_to_server['\" + server_id + \"'].get_sessions()[0].document.roots[0]._id)\";\n",
       "      cell.notebook.kernel.execute(cmd, {\n",
       "        iopub: {\n",
       "          output: function(msg) {\n",
       "            var id = msg.content.text.trim();\n",
       "            if (id in Bokeh.index) {\n",
       "              Bokeh.index[id].model.document.clear();\n",
       "              delete Bokeh.index[id];\n",
       "            }\n",
       "          }\n",
       "        }\n",
       "      });\n",
       "      // Destroy server and session\n",
       "      var cmd = \"import bokeh.io.notebook as ion; ion.destroy_server('\" + server_id + \"')\";\n",
       "      cell.notebook.kernel.execute(cmd);\n",
       "    }\n",
       "  }\n",
       "\n",
       "  /**\n",
       "   * Handle when a new output is added\n",
       "   */\n",
       "  function handleAddOutput(event, handle) {\n",
       "    var output_area = handle.output_area;\n",
       "    var output = handle.output;\n",
       "\n",
       "    // limit handleAddOutput to display_data with EXEC_MIME_TYPE content only\n",
       "    if ((output.output_type != \"display_data\") || (!output.data.hasOwnProperty(EXEC_MIME_TYPE))) {\n",
       "      return\n",
       "    }\n",
       "\n",
       "    var toinsert = output_area.element.find(\".\" + CLASS_NAME.split(' ')[0]);\n",
       "\n",
       "    if (output.metadata[EXEC_MIME_TYPE][\"id\"] !== undefined) {\n",
       "      toinsert[toinsert.length - 1].firstChild.textContent = output.data[JS_MIME_TYPE];\n",
       "      // store reference to embed id on output_area\n",
       "      output_area._bokeh_element_id = output.metadata[EXEC_MIME_TYPE][\"id\"];\n",
       "    }\n",
       "    if (output.metadata[EXEC_MIME_TYPE][\"server_id\"] !== undefined) {\n",
       "      var bk_div = document.createElement(\"div\");\n",
       "      bk_div.innerHTML = output.data[HTML_MIME_TYPE];\n",
       "      var script_attrs = bk_div.children[0].attributes;\n",
       "      for (var i = 0; i < script_attrs.length; i++) {\n",
       "        toinsert[toinsert.length - 1].firstChild.setAttribute(script_attrs[i].name, script_attrs[i].value);\n",
       "        toinsert[toinsert.length - 1].firstChild.textContent = bk_div.children[0].textContent\n",
       "      }\n",
       "      // store reference to server id on output_area\n",
       "      output_area._bokeh_server_id = output.metadata[EXEC_MIME_TYPE][\"server_id\"];\n",
       "    }\n",
       "  }\n",
       "\n",
       "  function register_renderer(events, OutputArea) {\n",
       "\n",
       "    function append_mime(data, metadata, element) {\n",
       "      // create a DOM node to render to\n",
       "      var toinsert = this.create_output_subarea(\n",
       "        metadata,\n",
       "        CLASS_NAME,\n",
       "        EXEC_MIME_TYPE\n",
       "      );\n",
       "      this.keyboard_manager.register_events(toinsert);\n",
       "      // Render to node\n",
       "      var props = {data: data, metadata: metadata[EXEC_MIME_TYPE]};\n",
       "      render(props, toinsert[toinsert.length - 1]);\n",
       "      element.append(toinsert);\n",
       "      return toinsert\n",
       "    }\n",
       "\n",
       "    /* Handle when an output is cleared or removed */\n",
       "    events.on('clear_output.CodeCell', handleClearOutput);\n",
       "    events.on('delete.Cell', handleClearOutput);\n",
       "\n",
       "    /* Handle when a new output is added */\n",
       "    events.on('output_added.OutputArea', handleAddOutput);\n",
       "\n",
       "    /**\n",
       "     * Register the mime type and append_mime function with output_area\n",
       "     */\n",
       "    OutputArea.prototype.register_mime_type(EXEC_MIME_TYPE, append_mime, {\n",
       "      /* Is output safe? */\n",
       "      safe: true,\n",
       "      /* Index of renderer in `output_area.display_order` */\n",
       "      index: 0\n",
       "    });\n",
       "  }\n",
       "\n",
       "  // register the mime type if in Jupyter Notebook environment and previously unregistered\n",
       "  if (root.Jupyter !== undefined) {\n",
       "    var events = require('base/js/events');\n",
       "    var OutputArea = require('notebook/js/outputarea').OutputArea;\n",
       "\n",
       "    if (OutputArea.prototype.mime_types().indexOf(EXEC_MIME_TYPE) == -1) {\n",
       "      register_renderer(events, OutputArea);\n",
       "    }\n",
       "  }\n",
       "\n",
       "  \n",
       "  if (typeof (root._bokeh_timeout) === \"undefined\" || force === true) {\n",
       "    root._bokeh_timeout = Date.now() + 5000;\n",
       "    root._bokeh_failed_load = false;\n",
       "  }\n",
       "\n",
       "  var NB_LOAD_WARNING = {'data': {'text/html':\n",
       "     \"<div style='background-color: #fdd'>\\n\"+\n",
       "     \"<p>\\n\"+\n",
       "     \"BokehJS does not appear to have successfully loaded. If loading BokehJS from CDN, this \\n\"+\n",
       "     \"may be due to a slow or bad network connection. Possible fixes:\\n\"+\n",
       "     \"</p>\\n\"+\n",
       "     \"<ul>\\n\"+\n",
       "     \"<li>re-rerun `output_notebook()` to attempt to load from CDN again, or</li>\\n\"+\n",
       "     \"<li>use INLINE resources instead, as so:</li>\\n\"+\n",
       "     \"</ul>\\n\"+\n",
       "     \"<code>\\n\"+\n",
       "     \"from bokeh.resources import INLINE\\n\"+\n",
       "     \"output_notebook(resources=INLINE)\\n\"+\n",
       "     \"</code>\\n\"+\n",
       "     \"</div>\"}};\n",
       "\n",
       "  function display_loaded() {\n",
       "    var el = document.getElementById(\"1001\");\n",
       "    if (el != null) {\n",
       "      el.textContent = \"BokehJS is loading...\";\n",
       "    }\n",
       "    if (root.Bokeh !== undefined) {\n",
       "      if (el != null) {\n",
       "        el.textContent = \"BokehJS \" + root.Bokeh.version + \" successfully loaded.\";\n",
       "      }\n",
       "    } else if (Date.now() < root._bokeh_timeout) {\n",
       "      setTimeout(display_loaded, 100)\n",
       "    }\n",
       "  }\n",
       "\n",
       "\n",
       "  function run_callbacks() {\n",
       "    try {\n",
       "      root._bokeh_onload_callbacks.forEach(function(callback) {\n",
       "        if (callback != null)\n",
       "          callback();\n",
       "      });\n",
       "    } finally {\n",
       "      delete root._bokeh_onload_callbacks\n",
       "    }\n",
       "    console.debug(\"Bokeh: all callbacks have finished\");\n",
       "  }\n",
       "\n",
       "  function load_libs(css_urls, js_urls, callback) {\n",
       "    if (css_urls == null) css_urls = [];\n",
       "    if (js_urls == null) js_urls = [];\n",
       "\n",
       "    root._bokeh_onload_callbacks.push(callback);\n",
       "    if (root._bokeh_is_loading > 0) {\n",
       "      console.debug(\"Bokeh: BokehJS is being loaded, scheduling callback at\", now());\n",
       "      return null;\n",
       "    }\n",
       "    if (js_urls == null || js_urls.length === 0) {\n",
       "      run_callbacks();\n",
       "      return null;\n",
       "    }\n",
       "    console.debug(\"Bokeh: BokehJS not loaded, scheduling load and callback at\", now());\n",
       "    root._bokeh_is_loading = css_urls.length + js_urls.length;\n",
       "\n",
       "    function on_load() {\n",
       "      root._bokeh_is_loading--;\n",
       "      if (root._bokeh_is_loading === 0) {\n",
       "        console.debug(\"Bokeh: all BokehJS libraries/stylesheets loaded\");\n",
       "        run_callbacks()\n",
       "      }\n",
       "    }\n",
       "\n",
       "    function on_error() {\n",
       "      console.error(\"failed to load \" + url);\n",
       "    }\n",
       "\n",
       "    for (var i = 0; i < css_urls.length; i++) {\n",
       "      var url = css_urls[i];\n",
       "      const element = document.createElement(\"link\");\n",
       "      element.onload = on_load;\n",
       "      element.onerror = on_error;\n",
       "      element.rel = \"stylesheet\";\n",
       "      element.type = \"text/css\";\n",
       "      element.href = url;\n",
       "      console.debug(\"Bokeh: injecting link tag for BokehJS stylesheet: \", url);\n",
       "      document.body.appendChild(element);\n",
       "    }\n",
       "\n",
       "    const hashes = {\"https://cdn.bokeh.org/bokeh/release/bokeh-2.0.2.min.js\": \"ufR9RFnRs6lniiaFvtJziE0YeidtAgBRH6ux2oUItHw5WTvE1zuk9uzhUU/FJXDp\", \"https://cdn.bokeh.org/bokeh/release/bokeh-widgets-2.0.2.min.js\": \"8QM/PGWBT+IssZuRcDcjzwIh1mkOmJSoNMmyYDZbCfXJg3Ap1lEvdVgFuSAwhb/J\", \"https://cdn.bokeh.org/bokeh/release/bokeh-tables-2.0.2.min.js\": \"Jm8cH3Rg0P6UeZhVY5cLy1WzKajUT9KImCY+76hEqrcJt59/d8GPvFHjCkYgnSIn\", \"https://cdn.bokeh.org/bokeh/release/bokeh-gl-2.0.2.min.js\": \"Ozhzj+SI7ywm74aOI/UajcWz+C0NjsPunEVyVIrxzYkB+jA+2tUw8x5xJCbVtK5I\"};\n",
       "\n",
       "    for (var i = 0; i < js_urls.length; i++) {\n",
       "      var url = js_urls[i];\n",
       "      var element = document.createElement('script');\n",
       "      element.onload = on_load;\n",
       "      element.onerror = on_error;\n",
       "      element.async = false;\n",
       "      element.src = url;\n",
       "      if (url in hashes) {\n",
       "        element.crossOrigin = \"anonymous\";\n",
       "        element.integrity = \"sha384-\" + hashes[url];\n",
       "      }\n",
       "      console.debug(\"Bokeh: injecting script tag for BokehJS library: \", url);\n",
       "      document.head.appendChild(element);\n",
       "    }\n",
       "  };\n",
       "\n",
       "  function inject_raw_css(css) {\n",
       "    const element = document.createElement(\"style\");\n",
       "    element.appendChild(document.createTextNode(css));\n",
       "    document.body.appendChild(element);\n",
       "  }\n",
       "\n",
       "  \n",
       "  var js_urls = [\"https://cdn.bokeh.org/bokeh/release/bokeh-2.0.2.min.js\", \"https://cdn.bokeh.org/bokeh/release/bokeh-widgets-2.0.2.min.js\", \"https://cdn.bokeh.org/bokeh/release/bokeh-tables-2.0.2.min.js\", \"https://cdn.bokeh.org/bokeh/release/bokeh-gl-2.0.2.min.js\"];\n",
       "  var css_urls = [];\n",
       "  \n",
       "\n",
       "  var inline_js = [\n",
       "    function(Bokeh) {\n",
       "      Bokeh.set_log_level(\"info\");\n",
       "    },\n",
       "    function(Bokeh) {\n",
       "    \n",
       "    \n",
       "    }\n",
       "  ];\n",
       "\n",
       "  function run_inline_js() {\n",
       "    \n",
       "    if (root.Bokeh !== undefined || force === true) {\n",
       "      \n",
       "    for (var i = 0; i < inline_js.length; i++) {\n",
       "      inline_js[i].call(root, root.Bokeh);\n",
       "    }\n",
       "    if (force === true) {\n",
       "        display_loaded();\n",
       "      }} else if (Date.now() < root._bokeh_timeout) {\n",
       "      setTimeout(run_inline_js, 100);\n",
       "    } else if (!root._bokeh_failed_load) {\n",
       "      console.log(\"Bokeh: BokehJS failed to load within specified timeout.\");\n",
       "      root._bokeh_failed_load = true;\n",
       "    } else if (force !== true) {\n",
       "      var cell = $(document.getElementById(\"1001\")).parents('.cell').data().cell;\n",
       "      cell.output_area.append_execute_result(NB_LOAD_WARNING)\n",
       "    }\n",
       "\n",
       "  }\n",
       "\n",
       "  if (root._bokeh_is_loading === 0) {\n",
       "    console.debug(\"Bokeh: BokehJS loaded, going straight to plotting\");\n",
       "    run_inline_js();\n",
       "  } else {\n",
       "    load_libs(css_urls, js_urls, function() {\n",
       "      console.debug(\"Bokeh: BokehJS plotting callback run at\", now());\n",
       "      run_inline_js();\n",
       "    });\n",
       "  }\n",
       "}(window));"
      ],
      "application/vnd.bokehjs_load.v0+json": "\n(function(root) {\n  function now() {\n    return new Date();\n  }\n\n  var force = true;\n\n  if (typeof root._bokeh_onload_callbacks === \"undefined\" || force === true) {\n    root._bokeh_onload_callbacks = [];\n    root._bokeh_is_loading = undefined;\n  }\n\n  \n\n  \n  if (typeof (root._bokeh_timeout) === \"undefined\" || force === true) {\n    root._bokeh_timeout = Date.now() + 5000;\n    root._bokeh_failed_load = false;\n  }\n\n  var NB_LOAD_WARNING = {'data': {'text/html':\n     \"<div style='background-color: #fdd'>\\n\"+\n     \"<p>\\n\"+\n     \"BokehJS does not appear to have successfully loaded. If loading BokehJS from CDN, this \\n\"+\n     \"may be due to a slow or bad network connection. Possible fixes:\\n\"+\n     \"</p>\\n\"+\n     \"<ul>\\n\"+\n     \"<li>re-rerun `output_notebook()` to attempt to load from CDN again, or</li>\\n\"+\n     \"<li>use INLINE resources instead, as so:</li>\\n\"+\n     \"</ul>\\n\"+\n     \"<code>\\n\"+\n     \"from bokeh.resources import INLINE\\n\"+\n     \"output_notebook(resources=INLINE)\\n\"+\n     \"</code>\\n\"+\n     \"</div>\"}};\n\n  function display_loaded() {\n    var el = document.getElementById(\"1001\");\n    if (el != null) {\n      el.textContent = \"BokehJS is loading...\";\n    }\n    if (root.Bokeh !== undefined) {\n      if (el != null) {\n        el.textContent = \"BokehJS \" + root.Bokeh.version + \" successfully loaded.\";\n      }\n    } else if (Date.now() < root._bokeh_timeout) {\n      setTimeout(display_loaded, 100)\n    }\n  }\n\n\n  function run_callbacks() {\n    try {\n      root._bokeh_onload_callbacks.forEach(function(callback) {\n        if (callback != null)\n          callback();\n      });\n    } finally {\n      delete root._bokeh_onload_callbacks\n    }\n    console.debug(\"Bokeh: all callbacks have finished\");\n  }\n\n  function load_libs(css_urls, js_urls, callback) {\n    if (css_urls == null) css_urls = [];\n    if (js_urls == null) js_urls = [];\n\n    root._bokeh_onload_callbacks.push(callback);\n    if (root._bokeh_is_loading > 0) {\n      console.debug(\"Bokeh: BokehJS is being loaded, scheduling callback at\", now());\n      return null;\n    }\n    if (js_urls == null || js_urls.length === 0) {\n      run_callbacks();\n      return null;\n    }\n    console.debug(\"Bokeh: BokehJS not loaded, scheduling load and callback at\", now());\n    root._bokeh_is_loading = css_urls.length + js_urls.length;\n\n    function on_load() {\n      root._bokeh_is_loading--;\n      if (root._bokeh_is_loading === 0) {\n        console.debug(\"Bokeh: all BokehJS libraries/stylesheets loaded\");\n        run_callbacks()\n      }\n    }\n\n    function on_error() {\n      console.error(\"failed to load \" + url);\n    }\n\n    for (var i = 0; i < css_urls.length; i++) {\n      var url = css_urls[i];\n      const element = document.createElement(\"link\");\n      element.onload = on_load;\n      element.onerror = on_error;\n      element.rel = \"stylesheet\";\n      element.type = \"text/css\";\n      element.href = url;\n      console.debug(\"Bokeh: injecting link tag for BokehJS stylesheet: \", url);\n      document.body.appendChild(element);\n    }\n\n    const hashes = {\"https://cdn.bokeh.org/bokeh/release/bokeh-2.0.2.min.js\": \"ufR9RFnRs6lniiaFvtJziE0YeidtAgBRH6ux2oUItHw5WTvE1zuk9uzhUU/FJXDp\", \"https://cdn.bokeh.org/bokeh/release/bokeh-widgets-2.0.2.min.js\": \"8QM/PGWBT+IssZuRcDcjzwIh1mkOmJSoNMmyYDZbCfXJg3Ap1lEvdVgFuSAwhb/J\", \"https://cdn.bokeh.org/bokeh/release/bokeh-tables-2.0.2.min.js\": \"Jm8cH3Rg0P6UeZhVY5cLy1WzKajUT9KImCY+76hEqrcJt59/d8GPvFHjCkYgnSIn\", \"https://cdn.bokeh.org/bokeh/release/bokeh-gl-2.0.2.min.js\": \"Ozhzj+SI7ywm74aOI/UajcWz+C0NjsPunEVyVIrxzYkB+jA+2tUw8x5xJCbVtK5I\"};\n\n    for (var i = 0; i < js_urls.length; i++) {\n      var url = js_urls[i];\n      var element = document.createElement('script');\n      element.onload = on_load;\n      element.onerror = on_error;\n      element.async = false;\n      element.src = url;\n      if (url in hashes) {\n        element.crossOrigin = \"anonymous\";\n        element.integrity = \"sha384-\" + hashes[url];\n      }\n      console.debug(\"Bokeh: injecting script tag for BokehJS library: \", url);\n      document.head.appendChild(element);\n    }\n  };\n\n  function inject_raw_css(css) {\n    const element = document.createElement(\"style\");\n    element.appendChild(document.createTextNode(css));\n    document.body.appendChild(element);\n  }\n\n  \n  var js_urls = [\"https://cdn.bokeh.org/bokeh/release/bokeh-2.0.2.min.js\", \"https://cdn.bokeh.org/bokeh/release/bokeh-widgets-2.0.2.min.js\", \"https://cdn.bokeh.org/bokeh/release/bokeh-tables-2.0.2.min.js\", \"https://cdn.bokeh.org/bokeh/release/bokeh-gl-2.0.2.min.js\"];\n  var css_urls = [];\n  \n\n  var inline_js = [\n    function(Bokeh) {\n      Bokeh.set_log_level(\"info\");\n    },\n    function(Bokeh) {\n    \n    \n    }\n  ];\n\n  function run_inline_js() {\n    \n    if (root.Bokeh !== undefined || force === true) {\n      \n    for (var i = 0; i < inline_js.length; i++) {\n      inline_js[i].call(root, root.Bokeh);\n    }\n    if (force === true) {\n        display_loaded();\n      }} else if (Date.now() < root._bokeh_timeout) {\n      setTimeout(run_inline_js, 100);\n    } else if (!root._bokeh_failed_load) {\n      console.log(\"Bokeh: BokehJS failed to load within specified timeout.\");\n      root._bokeh_failed_load = true;\n    } else if (force !== true) {\n      var cell = $(document.getElementById(\"1001\")).parents('.cell').data().cell;\n      cell.output_area.append_execute_result(NB_LOAD_WARNING)\n    }\n\n  }\n\n  if (root._bokeh_is_loading === 0) {\n    console.debug(\"Bokeh: BokehJS loaded, going straight to plotting\");\n    run_inline_js();\n  } else {\n    load_libs(css_urls, js_urls, function() {\n      console.debug(\"Bokeh: BokehJS plotting callback run at\", now());\n      run_inline_js();\n    });\n  }\n}(window));"
     },
     "metadata": {},
     "output_type": "display_data"
    }
   ],
   "source": [
    "import os\n",
    "import glob\n",
    "import copy\n",
    "import numpy as np\n",
    "import Bio\n",
    "import scipy.spatial\n",
    "import pickle\n",
    "import matplotlib.pyplot as plt\n",
    "import pandas as pd\n",
    "from rnai_scripts import *\n",
    "import bokeh.io\n",
    "import bokeh.plotting\n",
    "\n",
    "# Enable viewing Bokeh plots in the notebook\n",
    "bokeh.io.output_notebook()"
   ]
  },
  {
   "cell_type": "markdown",
   "metadata": {},
   "source": [
    "# RNAi recoding "
   ]
  },
  {
   "cell_type": "markdown",
   "metadata": {},
   "source": [
    "## Reading in the Smed transcriptome\n",
    "We read in the Smed_v6 transcriptome orfs that were extracted using orfipy. We then join them all into one string and obtain the weights (based on the weight definition for the CAI) for all codons \n",
    "\n",
    "$$w_i = \\frac{f_i}{\\max (f_j)} i,j \\in [ \\text{synonymouse codons for amino acid} ]$$\n",
    "\n",
    "Where $f_i$ is the frequency of codon $i$. \n",
    "\n",
    "We obtain two dictionaries: \n",
    "\n",
    "\n",
    "aminoacidweights: keys are amino acids, values are arrays of $w_i$ for all synonymous codons. The order of the codons is the as those used in aminoacidcode. \n",
    "    \n",
    "gencodeweights: keys are codons, values are $w_i$ for each codon"
   ]
  },
  {
   "cell_type": "code",
   "execution_count": 2,
   "metadata": {},
   "outputs": [],
   "source": [
    "fname = 'data/dd_Smed_v6_transcripts_orfs.fa'\n",
    "descriptors, seqs = read_many_fasta(fname)\n",
    "# join all ORFS into one large transcriptome \n",
    "transcriptome = ''.join(seqs)\n",
    "# get aminoacidweights and codon weights \n",
    "aminoacidweights, gencodeweights = get_codon_weights_dic(transcriptome)"
   ]
  },
  {
   "cell_type": "markdown",
   "metadata": {},
   "source": [
    "We pickle dump everything so we do not have to repeat the above line later. "
   ]
  },
  {
   "cell_type": "code",
   "execution_count": 3,
   "metadata": {},
   "outputs": [],
   "source": [
    "pickle.dump( aminoacidweights,\n",
    "            open( \"data/Smed_transcriptome_aminoacidweights.p\", \"wb\" ) )\n",
    "pickle.dump( gencodeweights, \n",
    "            open( \"data/Smed_transcriptome_gencodeweights.p\", \"wb\" ) )\n",
    "pickle.dump( aminoacidcode,\n",
    "            open( \"data/aminoacidcode.p\", \"wb\" ))"
   ]
  },
  {
   "cell_type": "markdown",
   "metadata": {},
   "source": [
    "We reload everything with pickle because why not. "
   ]
  },
  {
   "cell_type": "code",
   "execution_count": 4,
   "metadata": {},
   "outputs": [],
   "source": [
    "aminoacidweights = pickle.load( open( \"data/Smed_transcriptome_aminoacidweights.p\",\n",
    "                                     \"rb\" ) )\n",
    "gencodeweights = pickle.load( open( \"data/Smed_transcriptome_gencodeweights.p\", \n",
    "                                   \"rb\" ) )\n",
    "aminoacidcode = pickle.load(open(\"data/aminoacidcode.p\", 'rb'))"
   ]
  },
  {
   "cell_type": "markdown",
   "metadata": {},
   "source": [
    "## Recoding the H2B ORF for RNAi"
   ]
  },
  {
   "cell_type": "markdown",
   "metadata": {},
   "source": [
    "Here we define the ORF for the histone 2B gene."
   ]
  },
  {
   "cell_type": "code",
   "execution_count": 5,
   "metadata": {},
   "outputs": [],
   "source": [
    "H2B_ORF = 'atggcaattaaaggtaagatcgctgctaagtctgttaagaagatttcaaaggaagttgctcctaaaacagacaaaaagaaaaggatacataaacgcaaagaaagttatggtatttacatctacaaagtgttgagacaagttcatccagatactggaatttctggcaaagcaatgtctattatgaatagctttgtcaacgatgttttcgaaagaatcgcttcggaggctagcaagttggcaacttataataagaaatcaaccataaccagcagagagattcaaactgcagtcaggttaattttaccaggagaattggctaaacacgcagttagtgaaggaaccaaagctgttacaaaatacacaggatccaaa'"
   ]
  },
  {
   "cell_type": "markdown",
   "metadata": {},
   "source": [
    "We add on the stop codon. "
   ]
  },
  {
   "cell_type": "code",
   "execution_count": 6,
   "metadata": {},
   "outputs": [],
   "source": [
    "H2B_ORF = H2B_ORF.upper() + 'TAA'"
   ]
  },
  {
   "cell_type": "markdown",
   "metadata": {},
   "source": [
    "Here we define the protein for the histone 2B gene."
   ]
  },
  {
   "cell_type": "code",
   "execution_count": 7,
   "metadata": {},
   "outputs": [],
   "source": [
    "H2B_protein = 'MAIKGKIAAKSVKKISKEVAPKTDKKKRIHKRKESYGIYIYKVLRQVHPDTGISGKAMSIMNSFVNDVFERIASEASKLATYNKKSTITSREIQTAVRLILPGELAKHAVSEGTKAVTKYTGSK*'\n"
   ]
  },
  {
   "cell_type": "markdown",
   "metadata": {},
   "source": [
    "Now we can use the function get_RNAi_seq to randomly sample different recoded H2B proteins. \n",
    "\n",
    "The function get_RNAi_seq requires the ORF, protein sequence, an aminoacidweights and gencodeweights dictionary. We run 1000 random samples and do not enforce that every codon be different. It returns the list of tested sequences (seqs), scores ($CAI + D$/2) for each sequence, codon adaptation indices (CAIs), and Hamming distances (dists = $D$). "
   ]
  },
  {
   "cell_type": "code",
   "execution_count": 8,
   "metadata": {},
   "outputs": [],
   "source": [
    "seqs, scores, cais, dists = get_RNAi_seq(H2B_ORF, H2B_protein, aminoacidweights,\n",
    "                            gencodeweights, trials = 1000,  enforce_different_codons = False)\n"
   ]
  },
  {
   "cell_type": "markdown",
   "metadata": {},
   "source": [
    "We redo the process but enforce that every codon must be different. "
   ]
  },
  {
   "cell_type": "code",
   "execution_count": 35,
   "metadata": {},
   "outputs": [],
   "source": [
    "seqs_diff, scores_diff, cais_diff, dists_diff = get_RNAi_seq(H2B_ORF, H2B_protein, aminoacidweights,\n",
    "                            gencodeweights, trials = 5000,  enforce_different_codons = True)\n"
   ]
  },
  {
   "cell_type": "markdown",
   "metadata": {},
   "source": [
    "We define a function to compute ECDFs"
   ]
  },
  {
   "cell_type": "code",
   "execution_count": 11,
   "metadata": {},
   "outputs": [],
   "source": [
    "def ecdf_vals(data):\n",
    "    \"\"\"Return x and y values for an ECDF.\"\"\"\n",
    "    return np.sort(data), np.arange(1, len(data)+1) / len(data)\n"
   ]
  },
  {
   "cell_type": "markdown",
   "metadata": {},
   "source": [
    "We plot ECDFs of the CAIs.  "
   ]
  },
  {
   "cell_type": "code",
   "execution_count": 33,
   "metadata": {},
   "outputs": [
    {
     "data": {
      "text/html": [
       "\n",
       "\n",
       "\n",
       "\n",
       "\n",
       "\n",
       "  <div class=\"bk-root\" id=\"c2bde465-8329-48b8-9af0-b5c5ea3ae749\" data-root-id=\"4785\"></div>\n"
      ]
     },
     "metadata": {},
     "output_type": "display_data"
    },
    {
     "data": {
      "application/javascript": [
       "(function(root) {\n",
       "  function embed_document(root) {\n",
       "    \n",
       "  var docs_json = {\"d36f31db-8076-41d2-a544-0eb0dc7b8686\":{\"roots\":{\"references\":[{\"attributes\":{\"below\":[{\"id\":\"4794\"}],\"center\":[{\"id\":\"4797\"},{\"id\":\"4801\"},{\"id\":\"4828\"}],\"frame_height\":300,\"frame_width\":400,\"left\":[{\"id\":\"4798\"}],\"renderers\":[{\"id\":\"4819\"},{\"id\":\"4833\"}],\"title\":{\"id\":\"4821\"},\"toolbar\":{\"id\":\"4809\"},\"x_range\":{\"id\":\"4786\"},\"x_scale\":{\"id\":\"4790\"},\"y_range\":{\"id\":\"4788\"},\"y_scale\":{\"id\":\"4792\"}},\"id\":\"4785\",\"subtype\":\"Figure\",\"type\":\"Plot\"},{\"attributes\":{},\"id\":\"4807\",\"type\":\"HelpTool\"},{\"attributes\":{},\"id\":\"4790\",\"type\":\"LinearScale\"},{\"attributes\":{},\"id\":\"4788\",\"type\":\"DataRange1d\"},{\"attributes\":{\"data\":{\"x\":{\"__ndarray__\":\"15MJ3t594T/rPm/xXpnhP2dwDLRf8OE/WRfTz7n04T/4byCS8/bhP4WgkTsaAeI/XyTdiVsM4j++tUaudRfiPyPt3AoAH+I/Velyo5En4j83OWINhCriP3gg1UBQLeI/o4barlIt4j8TG5SuXy3iP4L3zIq+MOI/CsJIB/cy4j+wuYgjDzXiPxPnXF80NeI/Oy3J67E24j+cgJ61TjniP2BduVh6PeI/4Nlj5Gs+4j8tZA2uEkjiP54NZ9JWS+I/tz3/G95L4j9Ahen1zEziPyp6mRmMTuI/cviTvuNP4j/7qNlyaFPiP0VnV3VFVOI/mSRoINlW4j837/CQHljiP2bYnIiOWuI/OnZnClNb4j+7UIH1uVviP5paa+BQXuI/zrlXSfpi4j+UQ6qdB2TiPwDdC8fiZOI/dB5FB+Bl4j8tEkWFdmbiP5Rb3AuSZuI/gz0GWahm4j9o++L5mmfiP08NhX+caeI/yd/55GRq4j+SMv5obmriP4KwVzzza+I/U2pO7xVs4j89QWp+cGziP4FY+FcibuI/5tQjIOBv4j87wi50QXHiP2OreJbYcuI/2h93391y4j/UrJVQz3PiP6wqH7n2c+I/ndxUHGV14j+uecTORnbiP24mXxdXduI/XVZzVFh24j8lIR96RXfiP4jTxek8eOI/T1RR3tF44j/GV/gH1XniP81sOGmCeuI/DgHdQkx74j9W0IkceHviPy54jSp7e+I/Ta07RMR74j/Wwxef3XviPyF4KzABfOI/ejIrqJF+4j8VtgDp337iPy8m9Dccf+I/x4iGoDl/4j+xPx3rWX/iP1nx9Wplg+I/2k+QD+KD4j9dhVWXL4TiP9AADXRRhOI/3UKiFZmE4j8yZhlhhIbiP/j/BS1Ah+I/VU5h0gCI4j8CCdAvD4jiP4zUG/atiOI/SA37XeuI4j+9jSSbkYniP7Q6sAquiuI/qSpP24yM4j+TUuZIOY3iP3XCayZ4juI/oI/R5K+P4j/SAz+x+4/iP1dtUeULkOI/PwHMHXCQ4j9k6DkHqJPiP6RFjxI+lOI/kmOjIw2V4j8iLiANNZXiPx/lEpM4leI/QsGgPlyV4j9Z7HAkZZbiP2cyVmzWl+I/4hkIo4eZ4j/JKUVGBpriP12ibWU5m+I/geAK3Kab4j8/YxzX05ziP5lEFPccneI/SWJD0HKe4j9FysMqfZ7iP62XUbuUn+I/w+rrD6Gf4j+7ATprVKDiP08r+0IgoeI/NBneFaCh4j9NPV4Zq6HiPz4ZhtmwoeI/3eeZueuh4j8bFcvT9aHiP7TxZ2LdouI/XCkXWYqj4j8R5BfhD6TiP32o6RpipeI/gx1Cn6ul4j/u+laEy6XiP0nYy/XRpuI/1nSAhCun4j8IMxQWsqjiP+Gg10DfqOI/7wCkfIup4j81ihHc36riPyt4f/brquI/PbQtkpSr4j8AfRi306viP3G9Mszpq+I/R22URi6s4j+7xzPZTaziPzDzUIxSrOI/v2xqu1Ks4j/jQT6LX6ziP1bXcLt4rOI/npd8pU6t4j8mUPVMaK3iP0d1bF9rreI/hE1Kww2u4j81vfedta7iP2hQLfthr+I/PQu8UJOv4j/TJSmia7DiPxmaoDqQseI/QvveV6Sx4j+8tcq8W7LiP5PFAEB2suI/Xd7kq9Gy4j9lAKYM/bLiP4pyunFos+I/8th0Nomz4j/J9ARqqrPiP7PraQHvs+I/BsdbxzS04j+rAkIh3LTiPy1X6yfqtOI/Mh/auPq14j+hSCZiFbbiPzlbOcpGtuI/Zh3gjHC24j9lRvACXLjiP9WF6Fv5uOI/Eupb5TG54j/xvkOZTrniP33r5MdiueI/sNCTvHO54j8vqLxL7bniPxV70tkOuuI/j5PBwZe74j8DxSN1tLziP7KOyULUvOI/+29+/dm84j/GKeVfE73iP+fZ+KCdveI/uBMI2AW+4j9j9LHWb77iP/8Ynrfov+I/EpqG+VjA4j/nMgRsWcDiPwSXBqtsweI/G/2v/DvC4j9y9+QImMLiP0By+ivUwuI/w8NJGwPD4j/EJ2OVFMPiPwaTDy9pw+I/xzEX+RPE4j+YxTNHI8TiP3sEKwVmxOI/sStu8sTE4j8zEFEKSMXiP3mk2GVSxeI/nc8fAP/F4j8po6nxEMfiPx31yExhx+I/89udMZbH4j9f4kll/8fiPz53w9wwyOI/u3w4GjvI4j+jzoLof8jiP1stUVYyyeI/ReiRUTnJ4j816QzcR8niP3sxtus9yuI/Qjo5J/fK4j/nAq5ms8viPxK3Ete7y+I/kkq9qOrL4j8jZmAn8cviP1XT9CG3zOI/xfnKxL3N4j8Iz2JhO87iPzMDDIcbz+I/64Xmi2PQ4j/1281l1NDiP9mghsTx0OI/D4ck7QvR4j+Q77vIktHiP7JIW8r10eI/HL7Ni/jS4j+39kcmX9PiPzYUblrC1OI/rau5XsPV4j+F6smsEdbiPxQDRyc/1uI/eS9x627W4j/AKC3W1dbiP+SGyAcn1+I/OVP1MjnX4j97dYaiRtfiP5kYiy101+I/Eykiw7zX4j/9RY1wwtfiP78+xu0h2OI/DpQ18DnY4j+PQI/YQNjiPw2GMlVj2OI/PfXM6b3Y4j/9xCALwNjiP4nydF8D2eI/8vS13yvZ4j91+iX77tniP3G5fO/z2eI/qA/t2iPa4j/S2BeRR9riPw9tdhWO2uI/OWl8z8Pa4j9ofX+qTtviP9D5OSaK2+I/x5jDwp7b4j+8cEgCFtziP4Qu0Q5F3OI/ve/OP5/c4j87feTrD93iPxYoibNH3eI/35/7ZITd4j9YFEDP19/iP5hXI1T13+I/aID7Fi7g4j++/eYGzuDiPzwijW804eI/Ew1QKdvh4j+7+nBm8+HiP8TNpZIG4uI/2a3dBgji4j/Zlu1gMeLiP9uiJImY4uI/apg6lP3i4j/tgRYdLuPiP5aybvo94+I/ofgaGKvj4j9NF+P/rOPiPy/xFI/a4+I/KvYXiNzj4j+U9AzB5ePiP7U0JeQD5OI/Gs4oe37k4j8/e92duOTiPw3M3mlT5eI/dDlCVV7l4j821KyIcOXiP9Vw6W175eI/sKm8XL7m4j97YUqmO+fiP/+XbNm95+I/rh/6eNnn4j+9ZdYRBujiPwH5Pbz66OI/xeQNdFPp4j/LM7mTveniP+1mIWlb6uI/kl5t8pnq4j+A+GbIm+riPyO22xfB6uI/lU3VGNfr4j+YtHI7A+ziP2JqMSoy7OI/QO5jDj7s4j+ohYbkT+ziP2JIyI2Q7OI/IyAGukjt4j8i9J11Xe3iP2PK6pF/7eI/72uH1pvt4j+WDHTARO7iP7D5G6qP7uI/1nIkO/zu4j9cO24hZe/iP8pSFXzf7+I/BvrLJgbw4j/ebzjuu/DiP4BQue8z8eI/kdwLDdTx4j/C1pV0+PHiP/2gHzqs8uI/f9ZcubPy4j+zayynxPLiP4DzjZks8+I/wv//Fezz4j/Lg2WKPvTiP4N4vLBJ9OI/+1xDb2j04j/yrPjm9PTiP6jeq6419eI/dzga08X14j9c5KLqDfbiP3CTdaa+9uI/3jlFHof34j9tgprY0ffiP8ioKlpB+OI/MsN/OS354j+Ac7p2hfniPymaZFyN+eI/Sad6Nq354j8cUkiwwPniP4iZUzc6+uI/zc9L3I/64j+LkUZpsPriP4tB8F0e++I/lx6VVrL74j9+QBrEX/ziP6liOEdx/OI/cJ7NhFj94j8WVz4IMf7iP3112gd2/uI/g42zzYH+4j8syaj1gf7iP5qCZo2W/uI/Uflh5sf+4j99KDnuy/7iPyScRo8d/+I/QhZh/VL/4j8Z8FGVU//iP5kZ+QFn/+I/DSOxmGn/4j9CbqVJnf/iP2/qiizA/+I/9F7ggdH/4j8wwNZK1//iPxtfn0knAOM/Ejp9UF8A4z/WAgA+lADjPwmDie7aAOM/yoQF/gsB4z/Zq9Q71QHjP3gbcGTXAeM/uJQhRlwC4z89OeYfdQLjPy7F6eV3AuM/5BEnqH0C4z+subGupALjP/nKjq/1AuM/6QPofwsD4z+QM2nhJAPjPzTSPSpJA+M/r/4W/V0D4z/wa3QhsgPjP30A43bTA+M/+03LAH0E4z88KBwJzgTjP97REGxHBeM/dVp6nGcF4z9CsX61PAbjPybo7mitBuM/NV3cMLEH4z9V+2lOtAfjP8zGKoHiB+M/k4NvZUMI4z8Hi3kcRQjjP8HPK2tJCOM/m7POzzYJ4z/bvkGoignjP7l4VJKrCeM/2egVEPcJ4z+8TGe+IwrjP/2zsuBgCuM/b2MV8aAK4z/vZ4zUwgrjP2nYX8mQC+M/hCHHNtoL4z+P53AwjQzjP/sdxbX2DOM/h2sVgwIN4z8dOHiGbw7jPygl6nr8DuM/HN+0K1sP4z8mN3zzghDjP9Vd/3KZEOM/GyPdZ6YQ4z/xwLtMSRLjP2F1BMWuEuM/5Bzfer0S4z9c4XO+gRPjP+5nBj4pFOM/O8c35HEU4z9Zb5MHKxXjPxQU4J5hFeM/AZdsAIAV4z81ljL3oBXjP3wrC/OiFeM/Nci5iwAW4z/2LeOlMhbjP+A8UDpRFuM/kBfOF14W4z8RsnxU5hbjP6IZM/ZEF+M/x++S1McX4z9OWbBlzhfjP9COzyjRF+M/8darqQcY4z+KYfZadRjjP5K2p1abGOM/iOpADsoY4z9ggl+9/hjjP0FU61wLGeM/DLJxqTEZ4z+cuaEHyhnjP1bvIsY6GuM/8px24Toa4z+ihxrhjxrjP5hgV7LJGuM/a0gZQNga4z8t3JfL6RrjPywqekaAG+M/3q5QtYAb4z8On1eQkhvjP2EoyfJnHOM/tKcTPm0c4z8GmCJ2qxzjP3xgZr/CHOM/8Qw0avQc4z+HBlAeTR3jP1Rl6SRRHeM/2w3Hb3Yd4z8gKi52xh3jP7Ln3/lAHuM/WTJcM38e4z9Gj2fOhR7jP90BmpUUH+M/XJB0oFEf4z89rMLxqB/jP0u+juq/H+M/xMb8m1Qg4z/WgFNCFCHjPytRkJdMIeM/5PgmZ1Uh4z/oWzgWlSHjP/tHrS/sIeM/xkOijCAi4z+CU/88LCLjP2Oe9mUXI+M/NgUzTEkj4z9/3bkFgiPjP7RKNXhdJOM/gRnvonkk4z/O8JK8pCTjP7Kt+7/MJOM/FDCosBAl4z/tJWQ7FiXjP0YTjy0tJeM/q4Ze+nYl4z//j9OQQCbjP2mcEltyJuM/2b73CIgm4z/zH+qFnCbjP7yZ9SA1J+M/38UCkbon4z+UsKkZ5CfjP9OuYL3kJ+M/LMaY+v8n4z9PkSRsLyjjPwc+NQE/KOM/eK726Gko4z9CXGiXsyjjP039Iq7sKOM/1PVsYxIp4z+oHDulgynjP1buE3JIKuM/tMCdRewq4z/5uA9A/CrjPy2bV+O4K+M/xjuk2g4s4z9XvTPeQCzjP25rTGjCLOM/7v9NPQ0t4z9ev8zCJC3jP4YCQJB/LeM/XMihH6kt4z8vNM69Ky7jPzpXnNJzLuM/KrgHFeEu4z8pYMc4CS/jPxc7PF4gL+M/01G1kSgv4z+nwLnEtS/jP0UIm5AtMOM/l7Xk3dUw4z9Xz/iz8DDjP5hCb3T8MOM/aZeC6IAx4z9ymPTPzDHjP/hIDpgXMuM/2MUpwRYz4z/co0WrTjPjPxgd0hemM+M/blxKosIz4z9/2qztATTjPxpiMd8DNOM/PzmZxr004z8v39dYPDXjP6oT5X5qNeM/oVPKlvQ14z9SS4gzJzbjP8kdA+13NuM/6bFarOo24z+3HVYkAjfjP+cLy2JPN+M/2awS3Wk34z+yutYnSjjjP0EhFiqJOOM/NdWYZNU44z+MjVGe6DjjPykJyUBIOeM/h1diTN454z9Cc1973jnjP2huaNItOuM/IN2mmZM64z+7HgT+kzrjP6UVYYK3OuM/BT5xl/A64z/cdglpEjvjP3W4nKn1O+M/fyb+SWQ84z/St7mfajzjPz+hPPi6POM/hSROUxg94z/Cx5oCPj3jP/5TWqFfPeM/fOA5EXA94z/w07gffT3jP/ZEn0WjPeM/pb0bENo94z+GVQJ5ej7jP/b4ulTAPuM/HdejJxA/4z/omoZYTT/jPyRSfax/P+M/Rh9oktU/4z893uym5D/jP+GLjg5LQOM/Cjpp02ZA4z+cbKvdZ0HjP38fbIRzQeM/PArWbd1B4z+HPtagFkLjPwPWL8pDQuM/6c0jG2FC4z8pjY8hbULjP4/MxuDEQuM/LNW8aiZD4z8gOowTg0PjP+A5VvCVQ+M/vIB0Yf5D4z+/IqZyGUTjP6Mqz9tXReM/TKMQHoBF4z+pWEIxkkXjPx3Yu4muReM/EN3VJcxF4z8Mk/GRJUbjP3Eh2F9ARuM/lMYEEdpG4z/EL8bQsEfjP2u8Z6ftR+M/LfOrAjVJ4z9PR52/ZEnjP/vbvKaESeM/UkzSNFtK4z/fs1k8m0rjP3akjvinSuM/Y3X/8dhK4z+IbBBUE0vjP1cugQgYS+M/2DiIZI1L4z8hInlawUvjPzVoy3ZWTOM/1Eh7rmRM4z82x5zhukzjP/vDxycSTeM/IcHs3qpN4z/bR08R3U3jP7mR7eQ3TuM/uXScv0NO4z/v+ERXjk7jP6/1vr+/TuM/Q4pTsYBP4z/QpFLxsU/jP1r9QSTGT+M/AYTFNHtQ4z9uR7Ta4lDjP/FPDSuAUeM/hYTGEp9R4z+p84NHIlLjPxbwJNGdUuM/GeWsOFxT4z+nGkZSaFPjP4pqYrXcU+M/UkkGEbxU4z8KcFJv61TjP/zUmdDtVOM/YSx/mfVU4z968G4sr1XjP9sLc02zVeM/7fHASvxV4z+9q686OVbjP1ccZE9kVuM/+dAzRsdW4z/RnSsl5FfjPyJPhRsnWOM/aDj3KlBY4z99afoocVjjP0imaa56WOM/RgNjMtZY4z+Ou9CE+ljjP4ZOc7ERWeM/QdFvBHBZ4z+/GagNh1njP/49ElmrWeM/HcWkQBVa4z+aaEUl2VrjP7JuFAP2WuM/KUyoOXVb4z/XUC778VvjPy+mFo4hXOM/zY5q1iVc4z+ixhL1M1zjPzUWc8qYXOM/8Wwg1/Bc4z9OkjZYDF3jPwEGg0JNXeM/TTEFIX1d4z/xv02Pm13jP5GiAzCpXeM/N3lW86td4z8iTs8wwl3jPzDI56fzXeM/8YW/NyJe4z+KyOKzWl7jPyE/QKmWXuM/pifh48Fe4z/wjU58xl7jP/gFkc8OX+M/SFVzP1Bf4z8vEeAxc1/jP1KHtFGJX+M/ctgF8JNf4z+dsZXxlV/jPxwMjYK8X+M/KA2Uaf1f4z9PmQcgGWDjPyUcNM8qYOM/rVe93DFg4z+uuUB8QGDjPx7vLcbJYOM/4wuL2Rth4z+My7qjaGHjP/LTh/rvYeM/MpaqtBpi4z+LEBqbX2LjP8G4WIaaYuM/Jzbmplxj4z9I0JMpdWPjP4QphTXkY+M/5lzA4F1k4z/qlKZY4mTjPyAm+N92ZeM/k6UkadJl4z+cAe6x42XjP3T1hhXRZuM/0VK8QuVm4z8mKbfr9mbjPyn50IJ5Z+M/MxbztJJn4z/KxrpP6mfjPx9VsBRPaOM/DK36mMVo4z9bP44s8GjjP8hnYkFoaeM//FSWSlxq4z9CpCpJ6GrjP1ymgNwbbOM/8fRUgTRs4z9rcuACTGzjP9g/W0yAbOM/YRZJx6xs4z8xzQKOu2zjP0qT8DEJbeM/Ld25Hi9t4z/BqGZh+W3jPyOdjx0zbuM/7X6Cejpu4z8DBq2wQW7jP5LXhPJObuM/Euo5Aq1u4z82L1XX2W7jP5cLoL07b+M/KbWxw2Bv4z/oyYhbtW/jP+Lc4cvxcOM/Txeat/Jw4z/s3Ls3/HDjPzF5SSELceM/vM0He9hx4z/HeXgB8HHjPzdMq7PrcuM/ExmQEQFz4z8tcwHAJ3PjP3rMg35Nc+M/HHoIg/Rz4z/2/CW2NHTjP4x3UolIdOM/PvMIkq504z+tPUHYuXTjP5vo63a+dOM/X+lYJvV04z9EDANVInXjP4sdxiJddeM/8/hXB3914z/GIu4Z6nXjPzy7vohwd+M/vqRofsZ34z8LUBOv3nfjP4FFovQleOM/JWcq+sB44z86WPai7HnjP0OT8QQFeuM/8BP1rSx64z8a6poLUXrjP/vWgnvreuM/WBQil4J74z9OyoAxOHzjP4gq5lZ7fOM/83eXGP184z+27S9QKn3jP/rRMgdQfeM/sQluuMB94z8SlHH/In7jPzd/bLU/fuM/5SdsEU9+4z8E14xEYH7jP81DGK+Hf+M/No9qLdB/4z/CBxldD4DjP9nB9/2vgeM/zZA1LOqC4z9Lc2tlLYPjP/FMAKUaheM/7ZdLYuWG4z8PVuNjcofjP7UgF0Ljh+M/hltxyCeI4z+kC/jaIInjPyGXEfAfiuM/JvNDRXuK4z/0ADPzqIrjP1yu7nXAiuM/Yc7lz8+K4z8uQK5I44rjP8mdQEHkiuM/cfpM0B+L4z/mYNqqPYvjP+HwqaBYi+M/9LwQI1mM4z9bdXfadYzjP519O/97jOM/cMLpaBiN4z8zcyPXc43jP5pPpXaljeM/8w7K+tON4z9QfjqJ2Y3jPykCEBNHjuM/485E4VGP4z8NWjJxxo/jP5/KzEClkOM/nAYjFQKR4z9y6Y9+xZHjP8oTAd8nkuM/aHOPNDGS4z/N/dtLz5LjP8VIn9Fkk+M/bCU4cuST4z/mvvVfZpTjP5q900+HlOM/+JHZB4OV4z9P0KEQq5XjPy8QrrXeleM/gYDDbheX4z+3CL5pgJfjP67LWvSdl+M/L/6Ad+GX4z97MrM3t5jjP1TstIjbmOM/LdcUNQ6Z4z8LIbhRxpnjP9HHtL0ZmuM/zPXeJPaa4z9GK5yP95rjPxmKhF3Um+M/k03VISKc4z+TONO9s5zjP0yLGev4nOM/Tv7x8Q2d4z+QkHUpIp3jP1HITIl1neM/9KAqjcSd4z+/EX5uIp7jP2xA36ZFnuM/L0CaHdie4z8/01/ruZ/jP1viVPLWn+M/1gtHE+ig4z+auPfulKHjP5JnpOv7oeM/YYXwf4mi4z8GGoOrOaPjPz3EuYdMo+M/6xJjdqGj4z9kRVAjtKPjP+pChAVwpOM/BF8V25Wk4z8+ryCNsKTjP8GsqSPHpOM/WMxVUMKl4z/jTeJz6qbjP6afBmoZp+M/ghq0JjWn4z9WybgVZ6fjP60mKtWTp+M/7K6NOoWo4z/peYM9p6jjP55nGAjWqOM/wBSwzg+p4z+JDkwMOKnjP2R9JW67qeM/ysu8h/Gp4z/DYmM7OarjP//e//p9quM/Cus07+Oq4z8QiksejavjP8l56U/Gq+M/5utF0RKs4z9vt1Z0KK3jP97fEoo5reM/ULMSWJqt4z+bmxc5wa7jP2A0gkU5sOM/CExwrIOw4z8GNP6weLHjPwjantkhsuM/Ij5zfqyy4z9XheP93bLjPxwCetTxsuM/prXyWTm04z/ySf+lArXjP4YvTU3IteM/ckD3MDm24z97dRE4gLbjPyffloHAtuM/A3y3OTC34z+cS9HyF7jjPwAJCEwpueM/Tu6nj3e64z9mBGVDt7vjP+PDOiFBvOM/KleJ/Ca94z9NgC4N0r3jP9m5vxyOvuM/mh7wzbm+4z/cPZCWEb/jPx2wcJNnwOM/ujJ2a+XA4z9/hmYAtcLjP7SN+vYPw+M/zVoWNUrD4z9N5Kgsf8PjPwTFYB3Sw+M/TbnSGorE4z9b5HvY+cTjPwzrZ74kxeM/fwvHmPzF4z+MHNrJ/MXjP7PvGKX+xuM/tnFZrhnH4z9QPe7+bsjjP7fYGdYSyeM/rlv36CLJ4z9HA/mHrsrjPxrmf8E1y+M/QLr7BH/M4z/lIFZod83jP7J+ASVzzuM/YFquCFDQ4z+21py9v9DjP64YmD6t0eM/OEjta7vR4z8fx2rV0tHjP0R4rO8c0uM/781UnHXV4z/gw9eEUNfjP8a+tgtB2eM/8XiUs9DZ4z9vHnjg+dnjP8k4v4Pd2+M/sFLj+mTd4z9rqhSAQ97jP5Akkqwc3+M/qPWiNSTf4z+wwqX7e9/jP1maOCsW5OM/bd4YLNnm4z/0u87w8+bjPywqwC4P5+M/y7WuHZ7n4z9fxXOoMOnjPyRnQmyZ6uM/sHZF6cjr4z+DQ1c35uvjP8JfleSS7OM/UdW1qcbs4z9EYeRAju7jP/F+Jg6y7uM/nWmXFCLv4z/r6ds3vvTjP3lR94RO9eM/NkfbCVD14z/IFjKuvPbjP1FUqx8m9+M/deS4JkP44z9mA4mbPvnjP6WZX3Wf+uM/MSF07n374z+5Nb9hHvzjP7w78B0//eM/ho3y3uv94z/SvWbN4//jPzyJL4erAuQ/W5/Nv+ID5D8mn+Ta5wbkP6xTXpKCB+Q/LAy4KYEJ5D8GZihICQzkP95NpamJDOQ/i5rvEggR5D8WQg+tmxLkP4vM9gfwFeQ/9PwyY9QX5D9utDLnURnkPzfLQqLoGeQ/rkxk7N8f5D8V5Fig4B/kPzC8oipYIOQ/a/IenrAg5D8BzV6NnyPkP7PRX/CIJeQ/tZimwB455D8R6GN6m0LkPw0d+rSyT+Q/THprO95Z5D9IWViqeGXkP4ZMU9vHZuQ/xacgAjCr5D8=\",\"dtype\":\"float64\",\"shape\":[1000]},\"y\":{\"__ndarray__\":\"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\",\"dtype\":\"float64\",\"shape\":[1000]}},\"selected\":{\"id\":\"5044\"},\"selection_policy\":{\"id\":\"5045\"}},\"id\":\"4830\",\"type\":\"ColumnDataSource\"},{\"attributes\":{\"axis_label\":\"CAI\",\"formatter\":{\"id\":\"4825\"},\"ticker\":{\"id\":\"4795\"}},\"id\":\"4794\",\"type\":\"LinearAxis\"},{\"attributes\":{\"label\":{\"value\":\"all different\"},\"renderers\":[{\"id\":\"4833\"}]},\"id\":\"4844\",\"type\":\"LegendItem\"},{\"attributes\":{\"axis\":{\"id\":\"4798\"},\"dimension\":1,\"ticker\":null},\"id\":\"4801\",\"type\":\"Grid\"},{\"attributes\":{},\"id\":\"4795\",\"type\":\"BasicTicker\"},{\"attributes\":{},\"id\":\"4792\",\"type\":\"LinearScale\"},{\"attributes\":{},\"id\":\"4843\",\"type\":\"UnionRenderers\"},{\"attributes\":{\"axis\":{\"id\":\"4794\"},\"ticker\":null},\"id\":\"4797\",\"type\":\"Grid\"},{\"attributes\":{},\"id\":\"4786\",\"type\":\"DataRange1d\"},{\"attributes\":{\"fill_alpha\":{\"value\":0.1},\"fill_color\":{\"value\":\"orange\"},\"line_alpha\":{\"value\":0.1},\"line_color\":{\"value\":\"orange\"},\"x\":{\"field\":\"x\"},\"y\":{\"field\":\"y\"}},\"id\":\"4832\",\"type\":\"Circle\"},{\"attributes\":{},\"id\":\"4799\",\"type\":\"BasicTicker\"},{\"attributes\":{\"source\":{\"id\":\"4830\"}},\"id\":\"4834\",\"type\":\"CDSView\"},{\"attributes\":{\"axis_label\":\"ECDF\",\"formatter\":{\"id\":\"4823\"},\"ticker\":{\"id\":\"4799\"}},\"id\":\"4798\",\"type\":\"LinearAxis\"},{\"attributes\":{},\"id\":\"5045\",\"type\":\"UnionRenderers\"},{\"attributes\":{},\"id\":\"4842\",\"type\":\"Selection\"},{\"attributes\":{},\"id\":\"5044\",\"type\":\"Selection\"},{\"attributes\":{\"data_source\":{\"id\":\"4816\"},\"glyph\":{\"id\":\"4817\"},\"hover_glyph\":null,\"muted_glyph\":null,\"nonselection_glyph\":{\"id\":\"4818\"},\"selection_glyph\":null,\"view\":{\"id\":\"4820\"}},\"id\":\"4819\",\"type\":\"GlyphRenderer\"},{\"attributes\":{\"data_source\":{\"id\":\"4830\"},\"glyph\":{\"id\":\"4831\"},\"hover_glyph\":null,\"muted_glyph\":null,\"nonselection_glyph\":{\"id\":\"4832\"},\"selection_glyph\":null,\"view\":{\"id\":\"4834\"}},\"id\":\"4833\",\"type\":\"GlyphRenderer\"},{\"attributes\":{\"text\":\"\"},\"id\":\"4821\",\"type\":\"Title\"},{\"attributes\":{\"label\":{\"value\":\"Not all different \"},\"renderers\":[{\"id\":\"4819\"}]},\"id\":\"4829\",\"type\":\"LegendItem\"},{\"attributes\":{\"source\":{\"id\":\"4816\"}},\"id\":\"4820\",\"type\":\"CDSView\"},{\"attributes\":{\"fill_color\":{\"value\":\"orange\"},\"line_color\":{\"value\":\"orange\"},\"x\":{\"field\":\"x\"},\"y\":{\"field\":\"y\"}},\"id\":\"4831\",\"type\":\"Circle\"},{\"attributes\":{\"bottom_units\":\"screen\",\"fill_alpha\":0.5,\"fill_color\":\"lightgrey\",\"left_units\":\"screen\",\"level\":\"overlay\",\"line_alpha\":1.0,\"line_color\":\"black\",\"line_dash\":[4,4],\"line_width\":2,\"render_mode\":\"css\",\"right_units\":\"screen\",\"top_units\":\"screen\"},\"id\":\"4808\",\"type\":\"BoxAnnotation\"},{\"attributes\":{\"active_drag\":\"auto\",\"active_inspect\":\"auto\",\"active_multi\":null,\"active_scroll\":\"auto\",\"active_tap\":\"auto\",\"tools\":[{\"id\":\"4802\"},{\"id\":\"4803\"},{\"id\":\"4804\"},{\"id\":\"4805\"},{\"id\":\"4806\"},{\"id\":\"4807\"}]},\"id\":\"4809\",\"type\":\"Toolbar\"},{\"attributes\":{\"items\":[{\"id\":\"4829\"},{\"id\":\"4844\"}],\"location\":\"bottom_right\"},\"id\":\"4828\",\"type\":\"Legend\"},{\"attributes\":{\"fill_alpha\":{\"value\":0.1},\"fill_color\":{\"value\":\"#1f77b4\"},\"line_alpha\":{\"value\":0.1},\"line_color\":{\"value\":\"#1f77b4\"},\"x\":{\"field\":\"x\"},\"y\":{\"field\":\"y\"}},\"id\":\"4818\",\"type\":\"Circle\"},{\"attributes\":{},\"id\":\"4802\",\"type\":\"PanTool\"},{\"attributes\":{\"fill_color\":{\"value\":\"#1f77b4\"},\"line_color\":{\"value\":\"#1f77b4\"},\"x\":{\"field\":\"x\"},\"y\":{\"field\":\"y\"}},\"id\":\"4817\",\"type\":\"Circle\"},{\"attributes\":{},\"id\":\"4803\",\"type\":\"WheelZoomTool\"},{\"attributes\":{\"data\":{\"x\":{\"__ndarray__\":\"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\",\"dtype\":\"float64\",\"shape\":[1000]},\"y\":{\"__ndarray__\":\"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\",\"dtype\":\"float64\",\"shape\":[1000]}},\"selected\":{\"id\":\"4842\"},\"selection_policy\":{\"id\":\"4843\"}},\"id\":\"4816\",\"type\":\"ColumnDataSource\"},{\"attributes\":{\"overlay\":{\"id\":\"4808\"}},\"id\":\"4804\",\"type\":\"BoxZoomTool\"},{\"attributes\":{},\"id\":\"4805\",\"type\":\"SaveTool\"},{\"attributes\":{},\"id\":\"4825\",\"type\":\"BasicTickFormatter\"},{\"attributes\":{},\"id\":\"4806\",\"type\":\"ResetTool\"},{\"attributes\":{},\"id\":\"4823\",\"type\":\"BasicTickFormatter\"}],\"root_ids\":[\"4785\"]},\"title\":\"Bokeh Application\",\"version\":\"2.0.2\"}};\n",
       "  var render_items = [{\"docid\":\"d36f31db-8076-41d2-a544-0eb0dc7b8686\",\"root_ids\":[\"4785\"],\"roots\":{\"4785\":\"c2bde465-8329-48b8-9af0-b5c5ea3ae749\"}}];\n",
       "  root.Bokeh.embed.embed_items_notebook(docs_json, render_items);\n",
       "\n",
       "  }\n",
       "  if (root.Bokeh !== undefined) {\n",
       "    embed_document(root);\n",
       "  } else {\n",
       "    var attempts = 0;\n",
       "    var timer = setInterval(function(root) {\n",
       "      if (root.Bokeh !== undefined) {\n",
       "        clearInterval(timer);\n",
       "        embed_document(root);\n",
       "      } else {\n",
       "        attempts++;\n",
       "        if (attempts > 100) {\n",
       "          clearInterval(timer);\n",
       "          console.log(\"Bokeh: ERROR: Unable to run BokehJS code because BokehJS library is missing\");\n",
       "        }\n",
       "      }\n",
       "    }, 10, root)\n",
       "  }\n",
       "})(window);"
      ],
      "application/vnd.bokehjs_exec.v0+json": ""
     },
     "metadata": {
      "application/vnd.bokehjs_exec.v0+json": {
       "id": "4785"
      }
     },
     "output_type": "display_data"
    }
   ],
   "source": [
    "# Make figure\n",
    "p = bokeh.plotting.figure(\n",
    "    frame_width=400,\n",
    "    frame_height=300,\n",
    "    x_axis_label='CAI',\n",
    "    y_axis_label='ECDF',\n",
    ")\n",
    "cais, ecdf_cais = ecdf_vals(cais)\n",
    "p.circle(cais, ecdf_cais, legend_label = 'Not all different ')\n",
    "\n",
    "cais_diff, ecdf_cais_diff = ecdf_vals(cais_diff)\n",
    "p.circle(cais_diff, ecdf_cais_diff, legend_label = 'all different', color = 'orange')\n",
    "p.legend.location = 'bottom_right'\n",
    "bokeh.io.show(p)"
   ]
  },
  {
   "cell_type": "markdown",
   "metadata": {},
   "source": [
    "We plot ECDFs of the hamming distances "
   ]
  },
  {
   "cell_type": "code",
   "execution_count": 34,
   "metadata": {},
   "outputs": [
    {
     "data": {
      "text/html": [
       "\n",
       "\n",
       "\n",
       "\n",
       "\n",
       "\n",
       "  <div class=\"bk-root\" id=\"64d0fe13-0628-421b-9eec-908874696c25\" data-root-id=\"5112\"></div>\n"
      ]
     },
     "metadata": {},
     "output_type": "display_data"
    },
    {
     "data": {
      "application/javascript": [
       "(function(root) {\n",
       "  function embed_document(root) {\n",
       "    \n",
       "  var docs_json = {\"cf248fe9-eedf-447a-8231-c68308c847dc\":{\"roots\":{\"references\":[{\"attributes\":{\"below\":[{\"id\":\"5121\"}],\"center\":[{\"id\":\"5124\"},{\"id\":\"5128\"},{\"id\":\"5155\"}],\"frame_height\":300,\"frame_width\":400,\"left\":[{\"id\":\"5125\"}],\"renderers\":[{\"id\":\"5146\"},{\"id\":\"5160\"}],\"title\":{\"id\":\"5148\"},\"toolbar\":{\"id\":\"5136\"},\"x_range\":{\"id\":\"5172\"},\"x_scale\":{\"id\":\"5117\"},\"y_range\":{\"id\":\"5115\"},\"y_scale\":{\"id\":\"5119\"}},\"id\":\"5112\",\"subtype\":\"Figure\",\"type\":\"Plot\"},{\"attributes\":{},\"id\":\"5134\",\"type\":\"HelpTool\"},{\"attributes\":{},\"id\":\"5119\",\"type\":\"LinearScale\"},{\"attributes\":{\"axis_label\":\"Hamming Distance\",\"formatter\":{\"id\":\"5152\"},\"ticker\":{\"id\":\"5122\"}},\"id\":\"5121\",\"type\":\"LinearAxis\"},{\"attributes\":{},\"id\":\"5150\",\"type\":\"BasicTickFormatter\"},{\"attributes\":{\"text\":\"\"},\"id\":\"5148\",\"type\":\"Title\"},{\"attributes\":{\"fill_alpha\":{\"value\":0.1},\"fill_color\":{\"value\":\"#1f77b4\"},\"line_alpha\":{\"value\":0.1},\"line_color\":{\"value\":\"#1f77b4\"},\"x\":{\"field\":\"x\"},\"y\":{\"field\":\"y\"}},\"id\":\"5145\",\"type\":\"Circle\"},{\"attributes\":{},\"id\":\"5122\",\"type\":\"BasicTicker\"},{\"attributes\":{\"axis_label\":\"ECDF\",\"formatter\":{\"id\":\"5150\"},\"ticker\":{\"id\":\"5126\"}},\"id\":\"5125\",\"type\":\"LinearAxis\"},{\"attributes\":{\"axis\":{\"id\":\"5121\"},\"ticker\":null},\"id\":\"5124\",\"type\":\"Grid\"},{\"attributes\":{\"items\":[{\"id\":\"5156\"},{\"id\":\"5171\"}],\"location\":\"bottom_right\"},\"id\":\"5155\",\"type\":\"Legend\"},{\"attributes\":{\"source\":{\"id\":\"5143\"}},\"id\":\"5147\",\"type\":\"CDSView\"},{\"attributes\":{},\"id\":\"5383\",\"type\":\"Selection\"},{\"attributes\":{},\"id\":\"5384\",\"type\":\"UnionRenderers\"},{\"attributes\":{},\"id\":\"5169\",\"type\":\"Selection\"},{\"attributes\":{\"axis\":{\"id\":\"5125\"},\"dimension\":1,\"ticker\":null},\"id\":\"5128\",\"type\":\"Grid\"},{\"attributes\":{\"end\":0.6,\"start\":0.1},\"id\":\"5172\",\"type\":\"Range1d\"},{\"attributes\":{\"data\":{\"x\":{\"__ndarray__\":\"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\",\"dtype\":\"float64\",\"shape\":[1000]},\"y\":{\"__ndarray__\":\"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\",\"dtype\":\"float64\",\"shape\":[1000]}},\"selected\":{\"id\":\"5169\"},\"selection_policy\":{\"id\":\"5170\"}},\"id\":\"5143\",\"type\":\"ColumnDataSource\"},{\"attributes\":{\"source\":{\"id\":\"5157\"}},\"id\":\"5161\",\"type\":\"CDSView\"},{\"attributes\":{},\"id\":\"5152\",\"type\":\"BasicTickFormatter\"},{\"attributes\":{\"label\":{\"value\":\"all different\"},\"renderers\":[{\"id\":\"5160\"}]},\"id\":\"5171\",\"type\":\"LegendItem\"},{\"attributes\":{\"fill_color\":{\"value\":\"orange\"},\"line_color\":{\"value\":\"orange\"},\"x\":{\"field\":\"x\"},\"y\":{\"field\":\"y\"}},\"id\":\"5158\",\"type\":\"Circle\"},{\"attributes\":{\"label\":{\"value\":\"Not all different \"},\"renderers\":[{\"id\":\"5146\"}]},\"id\":\"5156\",\"type\":\"LegendItem\"},{\"attributes\":{\"bottom_units\":\"screen\",\"fill_alpha\":0.5,\"fill_color\":\"lightgrey\",\"left_units\":\"screen\",\"level\":\"overlay\",\"line_alpha\":1.0,\"line_color\":\"black\",\"line_dash\":[4,4],\"line_width\":2,\"render_mode\":\"css\",\"right_units\":\"screen\",\"top_units\":\"screen\"},\"id\":\"5135\",\"type\":\"BoxAnnotation\"},{\"attributes\":{\"fill_color\":{\"value\":\"#1f77b4\"},\"line_color\":{\"value\":\"#1f77b4\"},\"x\":{\"field\":\"x\"},\"y\":{\"field\":\"y\"}},\"id\":\"5144\",\"type\":\"Circle\"},{\"attributes\":{},\"id\":\"5170\",\"type\":\"UnionRenderers\"},{\"attributes\":{\"active_drag\":\"auto\",\"active_inspect\":\"auto\",\"active_multi\":null,\"active_scroll\":\"auto\",\"active_tap\":\"auto\",\"tools\":[{\"id\":\"5129\"},{\"id\":\"5130\"},{\"id\":\"5131\"},{\"id\":\"5132\"},{\"id\":\"5133\"},{\"id\":\"5134\"}]},\"id\":\"5136\",\"type\":\"Toolbar\"},{\"attributes\":{\"data_source\":{\"id\":\"5157\"},\"glyph\":{\"id\":\"5158\"},\"hover_glyph\":null,\"muted_glyph\":null,\"nonselection_glyph\":{\"id\":\"5159\"},\"selection_glyph\":null,\"view\":{\"id\":\"5161\"}},\"id\":\"5160\",\"type\":\"GlyphRenderer\"},{\"attributes\":{},\"id\":\"5126\",\"type\":\"BasicTicker\"},{\"attributes\":{},\"id\":\"5129\",\"type\":\"PanTool\"},{\"attributes\":{},\"id\":\"5130\",\"type\":\"WheelZoomTool\"},{\"attributes\":{\"fill_alpha\":{\"value\":0.1},\"fill_color\":{\"value\":\"orange\"},\"line_alpha\":{\"value\":0.1},\"line_color\":{\"value\":\"orange\"},\"x\":{\"field\":\"x\"},\"y\":{\"field\":\"y\"}},\"id\":\"5159\",\"type\":\"Circle\"},{\"attributes\":{\"overlay\":{\"id\":\"5135\"}},\"id\":\"5131\",\"type\":\"BoxZoomTool\"},{\"attributes\":{\"data\":{\"x\":{\"__ndarray__\":\"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\",\"dtype\":\"float64\",\"shape\":[1000]},\"y\":{\"__ndarray__\":\"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\",\"dtype\":\"float64\",\"shape\":[1000]}},\"selected\":{\"id\":\"5383\"},\"selection_policy\":{\"id\":\"5384\"}},\"id\":\"5157\",\"type\":\"ColumnDataSource\"},{\"attributes\":{},\"id\":\"5132\",\"type\":\"SaveTool\"},{\"attributes\":{},\"id\":\"5115\",\"type\":\"DataRange1d\"},{\"attributes\":{},\"id\":\"5117\",\"type\":\"LinearScale\"},{\"attributes\":{},\"id\":\"5133\",\"type\":\"ResetTool\"},{\"attributes\":{\"data_source\":{\"id\":\"5143\"},\"glyph\":{\"id\":\"5144\"},\"hover_glyph\":null,\"muted_glyph\":null,\"nonselection_glyph\":{\"id\":\"5145\"},\"selection_glyph\":null,\"view\":{\"id\":\"5147\"}},\"id\":\"5146\",\"type\":\"GlyphRenderer\"}],\"root_ids\":[\"5112\"]},\"title\":\"Bokeh Application\",\"version\":\"2.0.2\"}};\n",
       "  var render_items = [{\"docid\":\"cf248fe9-eedf-447a-8231-c68308c847dc\",\"root_ids\":[\"5112\"],\"roots\":{\"5112\":\"64d0fe13-0628-421b-9eec-908874696c25\"}}];\n",
       "  root.Bokeh.embed.embed_items_notebook(docs_json, render_items);\n",
       "\n",
       "  }\n",
       "  if (root.Bokeh !== undefined) {\n",
       "    embed_document(root);\n",
       "  } else {\n",
       "    var attempts = 0;\n",
       "    var timer = setInterval(function(root) {\n",
       "      if (root.Bokeh !== undefined) {\n",
       "        clearInterval(timer);\n",
       "        embed_document(root);\n",
       "      } else {\n",
       "        attempts++;\n",
       "        if (attempts > 100) {\n",
       "          clearInterval(timer);\n",
       "          console.log(\"Bokeh: ERROR: Unable to run BokehJS code because BokehJS library is missing\");\n",
       "        }\n",
       "      }\n",
       "    }, 10, root)\n",
       "  }\n",
       "})(window);"
      ],
      "application/vnd.bokehjs_exec.v0+json": ""
     },
     "metadata": {
      "application/vnd.bokehjs_exec.v0+json": {
       "id": "5112"
      }
     },
     "output_type": "display_data"
    }
   ],
   "source": [
    "# Make figure\n",
    "p = bokeh.plotting.figure(\n",
    "    frame_width=400,\n",
    "    frame_height=300,\n",
    "    x_axis_label='Hamming Distance',\n",
    "    y_axis_label='ECDF',\n",
    "    \n",
    ")\n",
    "dists, ecdf_dists = ecdf_vals(dists)\n",
    "p.circle(dists, ecdf_dists, legend_label = 'Not all different ')\n",
    "\n",
    "dists_diff, ecdf_dists_diff = ecdf_vals(dists_diff)\n",
    "p.circle(dists_diff, ecdf_dists_diff, legend_label = 'all different', color = 'orange')\n",
    "p.legend.location = 'bottom_right'\n",
    "p.x_range = bokeh.models.Range1d(.1, .6)\n",
    "bokeh.io.show(p)"
   ]
  },
  {
   "cell_type": "code",
   "execution_count": null,
   "metadata": {},
   "outputs": [],
   "source": []
  }
 ],
 "metadata": {
  "kernelspec": {
   "display_name": "Python 3",
   "language": "python",
   "name": "python3"
  },
  "language_info": {
   "codemirror_mode": {
    "name": "ipython",
    "version": 3
   },
   "file_extension": ".py",
   "mimetype": "text/x-python",
   "name": "python",
   "nbconvert_exporter": "python",
   "pygments_lexer": "ipython3",
   "version": "3.7.9"
  }
 },
 "nbformat": 4,
 "nbformat_minor": 4
}
