{
 "cells": [
  {
   "cell_type": "code",
   "execution_count": 1,
   "metadata": {},
   "outputs": [
    {
     "data": {
      "text/html": [
       "\n",
       "    <div class=\"bk-root\">\n",
       "        <a href=\"https://bokeh.org\" target=\"_blank\" class=\"bk-logo bk-logo-small bk-logo-notebook\"></a>\n",
       "        <span id=\"1001\">Loading BokehJS ...</span>\n",
       "    </div>"
      ]
     },
     "metadata": {},
     "output_type": "display_data"
    },
    {
     "data": {
      "application/javascript": [
       "\n",
       "(function(root) {\n",
       "  function now() {\n",
       "    return new Date();\n",
       "  }\n",
       "\n",
       "  var force = true;\n",
       "\n",
       "  if (typeof root._bokeh_onload_callbacks === \"undefined\" || force === true) {\n",
       "    root._bokeh_onload_callbacks = [];\n",
       "    root._bokeh_is_loading = undefined;\n",
       "  }\n",
       "\n",
       "  var JS_MIME_TYPE = 'application/javascript';\n",
       "  var HTML_MIME_TYPE = 'text/html';\n",
       "  var EXEC_MIME_TYPE = 'application/vnd.bokehjs_exec.v0+json';\n",
       "  var CLASS_NAME = 'output_bokeh rendered_html';\n",
       "\n",
       "  /**\n",
       "   * Render data to the DOM node\n",
       "   */\n",
       "  function render(props, node) {\n",
       "    var script = document.createElement(\"script\");\n",
       "    node.appendChild(script);\n",
       "  }\n",
       "\n",
       "  /**\n",
       "   * Handle when an output is cleared or removed\n",
       "   */\n",
       "  function handleClearOutput(event, handle) {\n",
       "    var cell = handle.cell;\n",
       "\n",
       "    var id = cell.output_area._bokeh_element_id;\n",
       "    var server_id = cell.output_area._bokeh_server_id;\n",
       "    // Clean up Bokeh references\n",
       "    if (id != null && id in Bokeh.index) {\n",
       "      Bokeh.index[id].model.document.clear();\n",
       "      delete Bokeh.index[id];\n",
       "    }\n",
       "\n",
       "    if (server_id !== undefined) {\n",
       "      // Clean up Bokeh references\n",
       "      var cmd = \"from bokeh.io.state import curstate; print(curstate().uuid_to_server['\" + server_id + \"'].get_sessions()[0].document.roots[0]._id)\";\n",
       "      cell.notebook.kernel.execute(cmd, {\n",
       "        iopub: {\n",
       "          output: function(msg) {\n",
       "            var id = msg.content.text.trim();\n",
       "            if (id in Bokeh.index) {\n",
       "              Bokeh.index[id].model.document.clear();\n",
       "              delete Bokeh.index[id];\n",
       "            }\n",
       "          }\n",
       "        }\n",
       "      });\n",
       "      // Destroy server and session\n",
       "      var cmd = \"import bokeh.io.notebook as ion; ion.destroy_server('\" + server_id + \"')\";\n",
       "      cell.notebook.kernel.execute(cmd);\n",
       "    }\n",
       "  }\n",
       "\n",
       "  /**\n",
       "   * Handle when a new output is added\n",
       "   */\n",
       "  function handleAddOutput(event, handle) {\n",
       "    var output_area = handle.output_area;\n",
       "    var output = handle.output;\n",
       "\n",
       "    // limit handleAddOutput to display_data with EXEC_MIME_TYPE content only\n",
       "    if ((output.output_type != \"display_data\") || (!output.data.hasOwnProperty(EXEC_MIME_TYPE))) {\n",
       "      return\n",
       "    }\n",
       "\n",
       "    var toinsert = output_area.element.find(\".\" + CLASS_NAME.split(' ')[0]);\n",
       "\n",
       "    if (output.metadata[EXEC_MIME_TYPE][\"id\"] !== undefined) {\n",
       "      toinsert[toinsert.length - 1].firstChild.textContent = output.data[JS_MIME_TYPE];\n",
       "      // store reference to embed id on output_area\n",
       "      output_area._bokeh_element_id = output.metadata[EXEC_MIME_TYPE][\"id\"];\n",
       "    }\n",
       "    if (output.metadata[EXEC_MIME_TYPE][\"server_id\"] !== undefined) {\n",
       "      var bk_div = document.createElement(\"div\");\n",
       "      bk_div.innerHTML = output.data[HTML_MIME_TYPE];\n",
       "      var script_attrs = bk_div.children[0].attributes;\n",
       "      for (var i = 0; i < script_attrs.length; i++) {\n",
       "        toinsert[toinsert.length - 1].firstChild.setAttribute(script_attrs[i].name, script_attrs[i].value);\n",
       "        toinsert[toinsert.length - 1].firstChild.textContent = bk_div.children[0].textContent\n",
       "      }\n",
       "      // store reference to server id on output_area\n",
       "      output_area._bokeh_server_id = output.metadata[EXEC_MIME_TYPE][\"server_id\"];\n",
       "    }\n",
       "  }\n",
       "\n",
       "  function register_renderer(events, OutputArea) {\n",
       "\n",
       "    function append_mime(data, metadata, element) {\n",
       "      // create a DOM node to render to\n",
       "      var toinsert = this.create_output_subarea(\n",
       "        metadata,\n",
       "        CLASS_NAME,\n",
       "        EXEC_MIME_TYPE\n",
       "      );\n",
       "      this.keyboard_manager.register_events(toinsert);\n",
       "      // Render to node\n",
       "      var props = {data: data, metadata: metadata[EXEC_MIME_TYPE]};\n",
       "      render(props, toinsert[toinsert.length - 1]);\n",
       "      element.append(toinsert);\n",
       "      return toinsert\n",
       "    }\n",
       "\n",
       "    /* Handle when an output is cleared or removed */\n",
       "    events.on('clear_output.CodeCell', handleClearOutput);\n",
       "    events.on('delete.Cell', handleClearOutput);\n",
       "\n",
       "    /* Handle when a new output is added */\n",
       "    events.on('output_added.OutputArea', handleAddOutput);\n",
       "\n",
       "    /**\n",
       "     * Register the mime type and append_mime function with output_area\n",
       "     */\n",
       "    OutputArea.prototype.register_mime_type(EXEC_MIME_TYPE, append_mime, {\n",
       "      /* Is output safe? */\n",
       "      safe: true,\n",
       "      /* Index of renderer in `output_area.display_order` */\n",
       "      index: 0\n",
       "    });\n",
       "  }\n",
       "\n",
       "  // register the mime type if in Jupyter Notebook environment and previously unregistered\n",
       "  if (root.Jupyter !== undefined) {\n",
       "    var events = require('base/js/events');\n",
       "    var OutputArea = require('notebook/js/outputarea').OutputArea;\n",
       "\n",
       "    if (OutputArea.prototype.mime_types().indexOf(EXEC_MIME_TYPE) == -1) {\n",
       "      register_renderer(events, OutputArea);\n",
       "    }\n",
       "  }\n",
       "\n",
       "  \n",
       "  if (typeof (root._bokeh_timeout) === \"undefined\" || force === true) {\n",
       "    root._bokeh_timeout = Date.now() + 5000;\n",
       "    root._bokeh_failed_load = false;\n",
       "  }\n",
       "\n",
       "  var NB_LOAD_WARNING = {'data': {'text/html':\n",
       "     \"<div style='background-color: #fdd'>\\n\"+\n",
       "     \"<p>\\n\"+\n",
       "     \"BokehJS does not appear to have successfully loaded. If loading BokehJS from CDN, this \\n\"+\n",
       "     \"may be due to a slow or bad network connection. Possible fixes:\\n\"+\n",
       "     \"</p>\\n\"+\n",
       "     \"<ul>\\n\"+\n",
       "     \"<li>re-rerun `output_notebook()` to attempt to load from CDN again, or</li>\\n\"+\n",
       "     \"<li>use INLINE resources instead, as so:</li>\\n\"+\n",
       "     \"</ul>\\n\"+\n",
       "     \"<code>\\n\"+\n",
       "     \"from bokeh.resources import INLINE\\n\"+\n",
       "     \"output_notebook(resources=INLINE)\\n\"+\n",
       "     \"</code>\\n\"+\n",
       "     \"</div>\"}};\n",
       "\n",
       "  function display_loaded() {\n",
       "    var el = document.getElementById(\"1001\");\n",
       "    if (el != null) {\n",
       "      el.textContent = \"BokehJS is loading...\";\n",
       "    }\n",
       "    if (root.Bokeh !== undefined) {\n",
       "      if (el != null) {\n",
       "        el.textContent = \"BokehJS \" + root.Bokeh.version + \" successfully loaded.\";\n",
       "      }\n",
       "    } else if (Date.now() < root._bokeh_timeout) {\n",
       "      setTimeout(display_loaded, 100)\n",
       "    }\n",
       "  }\n",
       "\n",
       "\n",
       "  function run_callbacks() {\n",
       "    try {\n",
       "      root._bokeh_onload_callbacks.forEach(function(callback) {\n",
       "        if (callback != null)\n",
       "          callback();\n",
       "      });\n",
       "    } finally {\n",
       "      delete root._bokeh_onload_callbacks\n",
       "    }\n",
       "    console.debug(\"Bokeh: all callbacks have finished\");\n",
       "  }\n",
       "\n",
       "  function load_libs(css_urls, js_urls, callback) {\n",
       "    if (css_urls == null) css_urls = [];\n",
       "    if (js_urls == null) js_urls = [];\n",
       "\n",
       "    root._bokeh_onload_callbacks.push(callback);\n",
       "    if (root._bokeh_is_loading > 0) {\n",
       "      console.debug(\"Bokeh: BokehJS is being loaded, scheduling callback at\", now());\n",
       "      return null;\n",
       "    }\n",
       "    if (js_urls == null || js_urls.length === 0) {\n",
       "      run_callbacks();\n",
       "      return null;\n",
       "    }\n",
       "    console.debug(\"Bokeh: BokehJS not loaded, scheduling load and callback at\", now());\n",
       "    root._bokeh_is_loading = css_urls.length + js_urls.length;\n",
       "\n",
       "    function on_load() {\n",
       "      root._bokeh_is_loading--;\n",
       "      if (root._bokeh_is_loading === 0) {\n",
       "        console.debug(\"Bokeh: all BokehJS libraries/stylesheets loaded\");\n",
       "        run_callbacks()\n",
       "      }\n",
       "    }\n",
       "\n",
       "    function on_error() {\n",
       "      console.error(\"failed to load \" + url);\n",
       "    }\n",
       "\n",
       "    for (var i = 0; i < css_urls.length; i++) {\n",
       "      var url = css_urls[i];\n",
       "      const element = document.createElement(\"link\");\n",
       "      element.onload = on_load;\n",
       "      element.onerror = on_error;\n",
       "      element.rel = \"stylesheet\";\n",
       "      element.type = \"text/css\";\n",
       "      element.href = url;\n",
       "      console.debug(\"Bokeh: injecting link tag for BokehJS stylesheet: \", url);\n",
       "      document.body.appendChild(element);\n",
       "    }\n",
       "\n",
       "    const hashes = {\"https://cdn.bokeh.org/bokeh/release/bokeh-2.0.2.min.js\": \"ufR9RFnRs6lniiaFvtJziE0YeidtAgBRH6ux2oUItHw5WTvE1zuk9uzhUU/FJXDp\", \"https://cdn.bokeh.org/bokeh/release/bokeh-widgets-2.0.2.min.js\": \"8QM/PGWBT+IssZuRcDcjzwIh1mkOmJSoNMmyYDZbCfXJg3Ap1lEvdVgFuSAwhb/J\", \"https://cdn.bokeh.org/bokeh/release/bokeh-tables-2.0.2.min.js\": \"Jm8cH3Rg0P6UeZhVY5cLy1WzKajUT9KImCY+76hEqrcJt59/d8GPvFHjCkYgnSIn\", \"https://cdn.bokeh.org/bokeh/release/bokeh-gl-2.0.2.min.js\": \"Ozhzj+SI7ywm74aOI/UajcWz+C0NjsPunEVyVIrxzYkB+jA+2tUw8x5xJCbVtK5I\"};\n",
       "\n",
       "    for (var i = 0; i < js_urls.length; i++) {\n",
       "      var url = js_urls[i];\n",
       "      var element = document.createElement('script');\n",
       "      element.onload = on_load;\n",
       "      element.onerror = on_error;\n",
       "      element.async = false;\n",
       "      element.src = url;\n",
       "      if (url in hashes) {\n",
       "        element.crossOrigin = \"anonymous\";\n",
       "        element.integrity = \"sha384-\" + hashes[url];\n",
       "      }\n",
       "      console.debug(\"Bokeh: injecting script tag for BokehJS library: \", url);\n",
       "      document.head.appendChild(element);\n",
       "    }\n",
       "  };\n",
       "\n",
       "  function inject_raw_css(css) {\n",
       "    const element = document.createElement(\"style\");\n",
       "    element.appendChild(document.createTextNode(css));\n",
       "    document.body.appendChild(element);\n",
       "  }\n",
       "\n",
       "  \n",
       "  var js_urls = [\"https://cdn.bokeh.org/bokeh/release/bokeh-2.0.2.min.js\", \"https://cdn.bokeh.org/bokeh/release/bokeh-widgets-2.0.2.min.js\", \"https://cdn.bokeh.org/bokeh/release/bokeh-tables-2.0.2.min.js\", \"https://cdn.bokeh.org/bokeh/release/bokeh-gl-2.0.2.min.js\"];\n",
       "  var css_urls = [];\n",
       "  \n",
       "\n",
       "  var inline_js = [\n",
       "    function(Bokeh) {\n",
       "      Bokeh.set_log_level(\"info\");\n",
       "    },\n",
       "    function(Bokeh) {\n",
       "    \n",
       "    \n",
       "    }\n",
       "  ];\n",
       "\n",
       "  function run_inline_js() {\n",
       "    \n",
       "    if (root.Bokeh !== undefined || force === true) {\n",
       "      \n",
       "    for (var i = 0; i < inline_js.length; i++) {\n",
       "      inline_js[i].call(root, root.Bokeh);\n",
       "    }\n",
       "    if (force === true) {\n",
       "        display_loaded();\n",
       "      }} else if (Date.now() < root._bokeh_timeout) {\n",
       "      setTimeout(run_inline_js, 100);\n",
       "    } else if (!root._bokeh_failed_load) {\n",
       "      console.log(\"Bokeh: BokehJS failed to load within specified timeout.\");\n",
       "      root._bokeh_failed_load = true;\n",
       "    } else if (force !== true) {\n",
       "      var cell = $(document.getElementById(\"1001\")).parents('.cell').data().cell;\n",
       "      cell.output_area.append_execute_result(NB_LOAD_WARNING)\n",
       "    }\n",
       "\n",
       "  }\n",
       "\n",
       "  if (root._bokeh_is_loading === 0) {\n",
       "    console.debug(\"Bokeh: BokehJS loaded, going straight to plotting\");\n",
       "    run_inline_js();\n",
       "  } else {\n",
       "    load_libs(css_urls, js_urls, function() {\n",
       "      console.debug(\"Bokeh: BokehJS plotting callback run at\", now());\n",
       "      run_inline_js();\n",
       "    });\n",
       "  }\n",
       "}(window));"
      ],
      "application/vnd.bokehjs_load.v0+json": "\n(function(root) {\n  function now() {\n    return new Date();\n  }\n\n  var force = true;\n\n  if (typeof root._bokeh_onload_callbacks === \"undefined\" || force === true) {\n    root._bokeh_onload_callbacks = [];\n    root._bokeh_is_loading = undefined;\n  }\n\n  \n\n  \n  if (typeof (root._bokeh_timeout) === \"undefined\" || force === true) {\n    root._bokeh_timeout = Date.now() + 5000;\n    root._bokeh_failed_load = false;\n  }\n\n  var NB_LOAD_WARNING = {'data': {'text/html':\n     \"<div style='background-color: #fdd'>\\n\"+\n     \"<p>\\n\"+\n     \"BokehJS does not appear to have successfully loaded. If loading BokehJS from CDN, this \\n\"+\n     \"may be due to a slow or bad network connection. Possible fixes:\\n\"+\n     \"</p>\\n\"+\n     \"<ul>\\n\"+\n     \"<li>re-rerun `output_notebook()` to attempt to load from CDN again, or</li>\\n\"+\n     \"<li>use INLINE resources instead, as so:</li>\\n\"+\n     \"</ul>\\n\"+\n     \"<code>\\n\"+\n     \"from bokeh.resources import INLINE\\n\"+\n     \"output_notebook(resources=INLINE)\\n\"+\n     \"</code>\\n\"+\n     \"</div>\"}};\n\n  function display_loaded() {\n    var el = document.getElementById(\"1001\");\n    if (el != null) {\n      el.textContent = \"BokehJS is loading...\";\n    }\n    if (root.Bokeh !== undefined) {\n      if (el != null) {\n        el.textContent = \"BokehJS \" + root.Bokeh.version + \" successfully loaded.\";\n      }\n    } else if (Date.now() < root._bokeh_timeout) {\n      setTimeout(display_loaded, 100)\n    }\n  }\n\n\n  function run_callbacks() {\n    try {\n      root._bokeh_onload_callbacks.forEach(function(callback) {\n        if (callback != null)\n          callback();\n      });\n    } finally {\n      delete root._bokeh_onload_callbacks\n    }\n    console.debug(\"Bokeh: all callbacks have finished\");\n  }\n\n  function load_libs(css_urls, js_urls, callback) {\n    if (css_urls == null) css_urls = [];\n    if (js_urls == null) js_urls = [];\n\n    root._bokeh_onload_callbacks.push(callback);\n    if (root._bokeh_is_loading > 0) {\n      console.debug(\"Bokeh: BokehJS is being loaded, scheduling callback at\", now());\n      return null;\n    }\n    if (js_urls == null || js_urls.length === 0) {\n      run_callbacks();\n      return null;\n    }\n    console.debug(\"Bokeh: BokehJS not loaded, scheduling load and callback at\", now());\n    root._bokeh_is_loading = css_urls.length + js_urls.length;\n\n    function on_load() {\n      root._bokeh_is_loading--;\n      if (root._bokeh_is_loading === 0) {\n        console.debug(\"Bokeh: all BokehJS libraries/stylesheets loaded\");\n        run_callbacks()\n      }\n    }\n\n    function on_error() {\n      console.error(\"failed to load \" + url);\n    }\n\n    for (var i = 0; i < css_urls.length; i++) {\n      var url = css_urls[i];\n      const element = document.createElement(\"link\");\n      element.onload = on_load;\n      element.onerror = on_error;\n      element.rel = \"stylesheet\";\n      element.type = \"text/css\";\n      element.href = url;\n      console.debug(\"Bokeh: injecting link tag for BokehJS stylesheet: \", url);\n      document.body.appendChild(element);\n    }\n\n    const hashes = {\"https://cdn.bokeh.org/bokeh/release/bokeh-2.0.2.min.js\": \"ufR9RFnRs6lniiaFvtJziE0YeidtAgBRH6ux2oUItHw5WTvE1zuk9uzhUU/FJXDp\", \"https://cdn.bokeh.org/bokeh/release/bokeh-widgets-2.0.2.min.js\": \"8QM/PGWBT+IssZuRcDcjzwIh1mkOmJSoNMmyYDZbCfXJg3Ap1lEvdVgFuSAwhb/J\", \"https://cdn.bokeh.org/bokeh/release/bokeh-tables-2.0.2.min.js\": \"Jm8cH3Rg0P6UeZhVY5cLy1WzKajUT9KImCY+76hEqrcJt59/d8GPvFHjCkYgnSIn\", \"https://cdn.bokeh.org/bokeh/release/bokeh-gl-2.0.2.min.js\": \"Ozhzj+SI7ywm74aOI/UajcWz+C0NjsPunEVyVIrxzYkB+jA+2tUw8x5xJCbVtK5I\"};\n\n    for (var i = 0; i < js_urls.length; i++) {\n      var url = js_urls[i];\n      var element = document.createElement('script');\n      element.onload = on_load;\n      element.onerror = on_error;\n      element.async = false;\n      element.src = url;\n      if (url in hashes) {\n        element.crossOrigin = \"anonymous\";\n        element.integrity = \"sha384-\" + hashes[url];\n      }\n      console.debug(\"Bokeh: injecting script tag for BokehJS library: \", url);\n      document.head.appendChild(element);\n    }\n  };\n\n  function inject_raw_css(css) {\n    const element = document.createElement(\"style\");\n    element.appendChild(document.createTextNode(css));\n    document.body.appendChild(element);\n  }\n\n  \n  var js_urls = [\"https://cdn.bokeh.org/bokeh/release/bokeh-2.0.2.min.js\", \"https://cdn.bokeh.org/bokeh/release/bokeh-widgets-2.0.2.min.js\", \"https://cdn.bokeh.org/bokeh/release/bokeh-tables-2.0.2.min.js\", \"https://cdn.bokeh.org/bokeh/release/bokeh-gl-2.0.2.min.js\"];\n  var css_urls = [];\n  \n\n  var inline_js = [\n    function(Bokeh) {\n      Bokeh.set_log_level(\"info\");\n    },\n    function(Bokeh) {\n    \n    \n    }\n  ];\n\n  function run_inline_js() {\n    \n    if (root.Bokeh !== undefined || force === true) {\n      \n    for (var i = 0; i < inline_js.length; i++) {\n      inline_js[i].call(root, root.Bokeh);\n    }\n    if (force === true) {\n        display_loaded();\n      }} else if (Date.now() < root._bokeh_timeout) {\n      setTimeout(run_inline_js, 100);\n    } else if (!root._bokeh_failed_load) {\n      console.log(\"Bokeh: BokehJS failed to load within specified timeout.\");\n      root._bokeh_failed_load = true;\n    } else if (force !== true) {\n      var cell = $(document.getElementById(\"1001\")).parents('.cell').data().cell;\n      cell.output_area.append_execute_result(NB_LOAD_WARNING)\n    }\n\n  }\n\n  if (root._bokeh_is_loading === 0) {\n    console.debug(\"Bokeh: BokehJS loaded, going straight to plotting\");\n    run_inline_js();\n  } else {\n    load_libs(css_urls, js_urls, function() {\n      console.debug(\"Bokeh: BokehJS plotting callback run at\", now());\n      run_inline_js();\n    });\n  }\n}(window));"
     },
     "metadata": {},
     "output_type": "display_data"
    }
   ],
   "source": [
    "import os\n",
    "import glob\n",
    "import copy\n",
    "import numpy as np\n",
    "import Bio\n",
    "import scipy.spatial\n",
    "import pickle\n",
    "import matplotlib.pyplot as plt\n",
    "import pandas as pd\n",
    "from rnai_scripts import *\n",
    "import bokeh.io\n",
    "import bokeh.plotting\n",
    "\n",
    "# Enable viewing Bokeh plots in the notebook\n",
    "bokeh.io.output_notebook()"
   ]
  },
  {
   "cell_type": "markdown",
   "metadata": {},
   "source": [
    "# RNAi recoding "
   ]
  },
  {
   "cell_type": "markdown",
   "metadata": {},
   "source": [
    "## Reading in the Smed transcriptome\n",
    "We read in the Smed_v6 transcriptome orfs that were extracted using orfipy. We then join them all into one string and obtain the codon frequencies. "
   ]
  },
  {
   "cell_type": "code",
   "execution_count": 2,
   "metadata": {},
   "outputs": [],
   "source": [
    "fname = 'data/dd_Smed_v6_transcripts_orfs_large3.fa' # makes smallest proteins be around 30 amino acids\n",
    "descriptors, seqs = read_many_fasta(fname)\n",
    "# join all ORFS into one large transcriptome \n",
    "transcriptome = ''.join(seqs)\n",
    "# get aminoacidweights and codon weights \n",
    "\n",
    "codon_frequencies_dic = get_codon_frequencies(transcriptome) \n",
    "\n"
   ]
  },
  {
   "cell_type": "markdown",
   "metadata": {},
   "source": [
    "Now we find the GC count in the transcriptome of Sophie Walton"
   ]
  },
  {
   "cell_type": "code",
   "execution_count": 3,
   "metadata": {},
   "outputs": [
    {
     "name": "stdout",
     "output_type": "stream",
     "text": [
      "0.3607041500977551\n"
     ]
    }
   ],
   "source": [
    "print((transcriptome.count('C') + transcriptome.count('G'))/len(transcriptome))"
   ]
  },
  {
   "cell_type": "markdown",
   "metadata": {},
   "source": [
    "I also found a published version of amino acid frequencies:"
   ]
  },
  {
   "cell_type": "code",
   "execution_count": 4,
   "metadata": {},
   "outputs": [
    {
     "name": "stdout",
     "output_type": "stream",
     "text": [
      "1.00000000001\n"
     ]
    }
   ],
   "source": [
    "df = pd.read_csv('data/codon_usage_smed.csv')\n",
    "\n",
    "\n",
    "AAs = df['codon'].values\n",
    "freqs = df['frequency'].values/1000.\n",
    "\n",
    "codon_frequencies_dic_published = {}\n",
    "for i in range(len(AAs)):\n",
    "    codon_frequencies_dic_published[AAs[i]] = freqs[i]\n",
    "print(sum(freqs))"
   ]
  },
  {
   "cell_type": "markdown",
   "metadata": {},
   "source": [
    "Now we get frequencies of doublets"
   ]
  },
  {
   "cell_type": "code",
   "execution_count": 5,
   "metadata": {},
   "outputs": [],
   "source": [
    "doubletscode = get_codon_frequencies_doublets(transcriptome)"
   ]
  },
  {
   "cell_type": "markdown",
   "metadata": {},
   "source": [
    "Let's calculate the average discrepency between the doublets vs. codon frequencies. "
   ]
  },
  {
   "cell_type": "code",
   "execution_count": 6,
   "metadata": {},
   "outputs": [
    {
     "name": "stdout",
     "output_type": "stream",
     "text": [
      "1.5624986385038425e-13\n",
      "0.0016427577738011736\n",
      "0.10513649752327511\n"
     ]
    }
   ],
   "source": [
    "diff_published_vs_me = {}\n",
    "for a in AAs:\n",
    "    \n",
    "    diff_published_vs_me[a] = codon_frequencies_dic_published[a] - codon_frequencies_dic[a]\n",
    "values = np.array(list(diff_published_vs_me.values()))\n",
    "print(np.mean(values))\n",
    "print(np.mean(np.abs(values))) # values usually on order \n",
    "print(np.sum(np.abs(values)))"
   ]
  },
  {
   "cell_type": "markdown",
   "metadata": {},
   "source": [
    "Here we find the discrepencies between the frequencies of each doublet vs. the product frequency of the separate codons. "
   ]
  },
  {
   "cell_type": "code",
   "execution_count": 7,
   "metadata": {},
   "outputs": [],
   "source": [
    "\n",
    "diff_dic = {}\n",
    "diff_dic_norm = {}\n",
    "doublets_high = {}\n",
    "for pair in doubletscode.keys():\n",
    "    \n",
    "    # we ignore stop codons being first or conditions where ATG is at the end of a codon for now \n",
    "\n",
    "    if 'TAG' == pair[:3]:\n",
    "        continue\n",
    "    if 'TGA' == pair[:3]:\n",
    "        continue\n",
    "\n",
    "    \n",
    "    freq1 = codon_frequencies_dic[pair[:3]]\n",
    "    freq2 = codon_frequencies_dic[pair[3:]]\n",
    "    \n",
    "    if doubletscode[pair] == 0.0:\n",
    "        continue\n",
    "    diff_dic_norm[pair] = (doubletscode[pair] - freq1*freq2)/(doubletscode[pair])\n",
    "    diff_dic[pair] = (doubletscode[pair] - freq1*freq2)\n",
    "  #  if 'TAA' == pair[:3]:\n",
    "   #     print(doubletscode[pair], diff_dic_norm[pair])"
   ]
  },
  {
   "cell_type": "code",
   "execution_count": 8,
   "metadata": {},
   "outputs": [
    {
     "name": "stdout",
     "output_type": "stream",
     "text": [
      "1.0\n"
     ]
    },
    {
     "data": {
      "text/html": [
       "\n",
       "\n",
       "\n",
       "\n",
       "\n",
       "\n",
       "  <div class=\"bk-root\" id=\"8c766d6c-9e66-42e7-8a05-45be9b81d3a3\" data-root-id=\"1002\"></div>\n"
      ]
     },
     "metadata": {},
     "output_type": "display_data"
    },
    {
     "data": {
      "application/javascript": [
       "(function(root) {\n",
       "  function embed_document(root) {\n",
       "    \n",
       "  var docs_json = {\"781a7bbe-ab51-45f1-b902-ca3fff92821f\":{\"roots\":{\"references\":[{\"attributes\":{\"below\":[{\"id\":\"1011\"}],\"center\":[{\"id\":\"1014\"},{\"id\":\"1018\"}],\"frame_height\":300,\"frame_width\":400,\"left\":[{\"id\":\"1015\"}],\"renderers\":[{\"id\":\"1036\"}],\"title\":{\"id\":\"1038\"},\"toolbar\":{\"id\":\"1026\"},\"x_range\":{\"id\":\"1003\"},\"x_scale\":{\"id\":\"1007\"},\"y_range\":{\"id\":\"1005\"},\"y_scale\":{\"id\":\"1009\"}},\"id\":\"1002\",\"subtype\":\"Figure\",\"type\":\"Plot\"},{\"attributes\":{},\"id\":\"1042\",\"type\":\"BasicTickFormatter\"},{\"attributes\":{},\"id\":\"1020\",\"type\":\"WheelZoomTool\"},{\"attributes\":{\"overlay\":{\"id\":\"1025\"}},\"id\":\"1021\",\"type\":\"BoxZoomTool\"},{\"attributes\":{},\"id\":\"1044\",\"type\":\"Selection\"},{\"attributes\":{},\"id\":\"1045\",\"type\":\"UnionRenderers\"},{\"attributes\":{},\"id\":\"1005\",\"type\":\"DataRange1d\"},{\"attributes\":{},\"id\":\"1022\",\"type\":\"SaveTool\"},{\"attributes\":{\"data\":{\"x\":{\"__ndarray__\":\"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\",\"dtype\":\"float64\",\"shape\":[3905]},\"y\":{\"__ndarray__\":\"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\",\"dtype\":\"float64\",\"shape\":[3905]}},\"selected\":{\"id\":\"1044\"},\"selection_policy\":{\"id\":\"1045\"}},\"id\":\"1033\",\"type\":\"ColumnDataSource\"},{\"attributes\":{},\"id\":\"1003\",\"type\":\"DataRange1d\"},{\"attributes\":{},\"id\":\"1023\",\"type\":\"ResetTool\"},{\"attributes\":{},\"id\":\"1007\",\"type\":\"LinearScale\"},{\"attributes\":{\"axis_label\":\"Doublets - Codon1xCodon2\",\"formatter\":{\"id\":\"1042\"},\"ticker\":{\"id\":\"1012\"}},\"id\":\"1011\",\"type\":\"LinearAxis\"},{\"attributes\":{\"text\":\"\"},\"id\":\"1038\",\"type\":\"Title\"},{\"attributes\":{},\"id\":\"1016\",\"type\":\"BasicTicker\"},{\"attributes\":{},\"id\":\"1024\",\"type\":\"HelpTool\"},{\"attributes\":{\"axis_label\":\"ECDF\",\"formatter\":{\"id\":\"1040\"},\"ticker\":{\"id\":\"1016\"}},\"id\":\"1015\",\"type\":\"LinearAxis\"},{\"attributes\":{\"axis\":{\"id\":\"1011\"},\"ticker\":null},\"id\":\"1014\",\"type\":\"Grid\"},{\"attributes\":{},\"id\":\"1009\",\"type\":\"LinearScale\"},{\"attributes\":{\"fill_alpha\":{\"value\":0.1},\"fill_color\":{\"value\":\"#1f77b4\"},\"line_alpha\":{\"value\":0.1},\"line_color\":{\"value\":\"#1f77b4\"},\"x\":{\"field\":\"x\"},\"y\":{\"field\":\"y\"}},\"id\":\"1035\",\"type\":\"Circle\"},{\"attributes\":{\"data_source\":{\"id\":\"1033\"},\"glyph\":{\"id\":\"1034\"},\"hover_glyph\":null,\"muted_glyph\":null,\"nonselection_glyph\":{\"id\":\"1035\"},\"selection_glyph\":null,\"view\":{\"id\":\"1037\"}},\"id\":\"1036\",\"type\":\"GlyphRenderer\"},{\"attributes\":{},\"id\":\"1012\",\"type\":\"BasicTicker\"},{\"attributes\":{\"axis\":{\"id\":\"1015\"},\"dimension\":1,\"ticker\":null},\"id\":\"1018\",\"type\":\"Grid\"},{\"attributes\":{\"active_drag\":\"auto\",\"active_inspect\":\"auto\",\"active_multi\":null,\"active_scroll\":\"auto\",\"active_tap\":\"auto\",\"tools\":[{\"id\":\"1019\"},{\"id\":\"1020\"},{\"id\":\"1021\"},{\"id\":\"1022\"},{\"id\":\"1023\"},{\"id\":\"1024\"}]},\"id\":\"1026\",\"type\":\"Toolbar\"},{\"attributes\":{\"fill_color\":{\"value\":\"#1f77b4\"},\"line_color\":{\"value\":\"#1f77b4\"},\"x\":{\"field\":\"x\"},\"y\":{\"field\":\"y\"}},\"id\":\"1034\",\"type\":\"Circle\"},{\"attributes\":{\"bottom_units\":\"screen\",\"fill_alpha\":0.5,\"fill_color\":\"lightgrey\",\"left_units\":\"screen\",\"level\":\"overlay\",\"line_alpha\":1.0,\"line_color\":\"black\",\"line_dash\":[4,4],\"line_width\":2,\"render_mode\":\"css\",\"right_units\":\"screen\",\"top_units\":\"screen\"},\"id\":\"1025\",\"type\":\"BoxAnnotation\"},{\"attributes\":{\"source\":{\"id\":\"1033\"}},\"id\":\"1037\",\"type\":\"CDSView\"},{\"attributes\":{},\"id\":\"1040\",\"type\":\"BasicTickFormatter\"},{\"attributes\":{},\"id\":\"1019\",\"type\":\"PanTool\"}],\"root_ids\":[\"1002\"]},\"title\":\"Bokeh Application\",\"version\":\"2.0.2\"}};\n",
       "  var render_items = [{\"docid\":\"781a7bbe-ab51-45f1-b902-ca3fff92821f\",\"root_ids\":[\"1002\"],\"roots\":{\"1002\":\"8c766d6c-9e66-42e7-8a05-45be9b81d3a3\"}}];\n",
       "  root.Bokeh.embed.embed_items_notebook(docs_json, render_items);\n",
       "\n",
       "  }\n",
       "  if (root.Bokeh !== undefined) {\n",
       "    embed_document(root);\n",
       "  } else {\n",
       "    var attempts = 0;\n",
       "    var timer = setInterval(function(root) {\n",
       "      if (root.Bokeh !== undefined) {\n",
       "        clearInterval(timer);\n",
       "        embed_document(root);\n",
       "      } else {\n",
       "        attempts++;\n",
       "        if (attempts > 100) {\n",
       "          clearInterval(timer);\n",
       "          console.log(\"Bokeh: ERROR: Unable to run BokehJS code because BokehJS library is missing\");\n",
       "        }\n",
       "      }\n",
       "    }, 10, root)\n",
       "  }\n",
       "})(window);"
      ],
      "application/vnd.bokehjs_exec.v0+json": ""
     },
     "metadata": {
      "application/vnd.bokehjs_exec.v0+json": {
       "id": "1002"
      }
     },
     "output_type": "display_data"
    }
   ],
   "source": [
    "# Make figure\n",
    "p = bokeh.plotting.figure(\n",
    "    frame_width=400,\n",
    "    frame_height=300,\n",
    "    x_axis_label='Doublets - Codon1xCodon2',\n",
    "    y_axis_label='ECDF',\n",
    "  #  x_axis_type = 'log'\n",
    "    \n",
    ")\n",
    "diffs, ecdf_diffs = ecdf_vals(np.array(list(diff_dic.values())))\n",
    "print(np.sum(np.array(list(doubletscode.values()))))\n",
    "p.circle(diffs*1e4, ecdf_diffs)\n",
    "\n",
    "#diffs, ecdf_diffs = ecdf_vals(np.array(list(doublets.values())))\n",
    "#p.circle(diffs, ecdf_diffs, color = 'orange')\n",
    "bokeh.io.show(p)"
   ]
  },
  {
   "cell_type": "code",
   "execution_count": 9,
   "metadata": {},
   "outputs": [
    {
     "name": "stdout",
     "output_type": "stream",
     "text": [
      "1.0\n"
     ]
    },
    {
     "data": {
      "text/html": [
       "\n",
       "\n",
       "\n",
       "\n",
       "\n",
       "\n",
       "  <div class=\"bk-root\" id=\"60408202-23e1-49a0-abee-529211ebec88\" data-root-id=\"1101\"></div>\n"
      ]
     },
     "metadata": {},
     "output_type": "display_data"
    },
    {
     "data": {
      "application/javascript": [
       "(function(root) {\n",
       "  function embed_document(root) {\n",
       "    \n",
       "  var docs_json = {\"68d4da31-aa8d-42ab-a97c-39209c8b187c\":{\"roots\":{\"references\":[{\"attributes\":{\"below\":[{\"id\":\"1110\"}],\"center\":[{\"id\":\"1113\"},{\"id\":\"1117\"}],\"frame_height\":300,\"frame_width\":400,\"left\":[{\"id\":\"1114\"}],\"renderers\":[{\"id\":\"1135\"}],\"title\":{\"id\":\"1146\"},\"toolbar\":{\"id\":\"1125\"},\"x_range\":{\"id\":\"1102\"},\"x_scale\":{\"id\":\"1106\"},\"y_range\":{\"id\":\"1104\"},\"y_scale\":{\"id\":\"1108\"}},\"id\":\"1101\",\"subtype\":\"Figure\",\"type\":\"Plot\"},{\"attributes\":{},\"id\":\"1119\",\"type\":\"WheelZoomTool\"},{\"attributes\":{},\"id\":\"1121\",\"type\":\"SaveTool\"},{\"attributes\":{},\"id\":\"1106\",\"type\":\"LinearScale\"},{\"attributes\":{\"overlay\":{\"id\":\"1124\"}},\"id\":\"1120\",\"type\":\"BoxZoomTool\"},{\"attributes\":{},\"id\":\"1102\",\"type\":\"DataRange1d\"},{\"attributes\":{},\"id\":\"1104\",\"type\":\"DataRange1d\"},{\"attributes\":{},\"id\":\"1152\",\"type\":\"Selection\"},{\"attributes\":{},\"id\":\"1153\",\"type\":\"UnionRenderers\"},{\"attributes\":{},\"id\":\"1108\",\"type\":\"LinearScale\"},{\"attributes\":{\"bottom_units\":\"screen\",\"fill_alpha\":0.5,\"fill_color\":\"lightgrey\",\"left_units\":\"screen\",\"level\":\"overlay\",\"line_alpha\":1.0,\"line_color\":\"black\",\"line_dash\":[4,4],\"line_width\":2,\"render_mode\":\"css\",\"right_units\":\"screen\",\"top_units\":\"screen\"},\"id\":\"1124\",\"type\":\"BoxAnnotation\"},{\"attributes\":{\"fill_alpha\":{\"value\":0.1},\"fill_color\":{\"value\":\"#1f77b4\"},\"line_alpha\":{\"value\":0.1},\"line_color\":{\"value\":\"#1f77b4\"},\"x\":{\"field\":\"x\"},\"y\":{\"field\":\"y\"}},\"id\":\"1134\",\"type\":\"Circle\"},{\"attributes\":{\"axis_label\":\"(Doublets - Codon1xCodon2)/(doubletscode[pair])\",\"formatter\":{\"id\":\"1150\"},\"ticker\":{\"id\":\"1111\"}},\"id\":\"1110\",\"type\":\"LinearAxis\"},{\"attributes\":{},\"id\":\"1148\",\"type\":\"BasicTickFormatter\"},{\"attributes\":{},\"id\":\"1123\",\"type\":\"HelpTool\"},{\"attributes\":{\"axis\":{\"id\":\"1114\"},\"dimension\":1,\"ticker\":null},\"id\":\"1117\",\"type\":\"Grid\"},{\"attributes\":{},\"id\":\"1111\",\"type\":\"BasicTicker\"},{\"attributes\":{\"fill_color\":{\"value\":\"#1f77b4\"},\"line_color\":{\"value\":\"#1f77b4\"},\"x\":{\"field\":\"x\"},\"y\":{\"field\":\"y\"}},\"id\":\"1133\",\"type\":\"Circle\"},{\"attributes\":{\"axis\":{\"id\":\"1110\"},\"ticker\":null},\"id\":\"1113\",\"type\":\"Grid\"},{\"attributes\":{\"text\":\"\"},\"id\":\"1146\",\"type\":\"Title\"},{\"attributes\":{},\"id\":\"1115\",\"type\":\"BasicTicker\"},{\"attributes\":{},\"id\":\"1150\",\"type\":\"BasicTickFormatter\"},{\"attributes\":{\"axis_label\":\"ECDF\",\"formatter\":{\"id\":\"1148\"},\"ticker\":{\"id\":\"1115\"}},\"id\":\"1114\",\"type\":\"LinearAxis\"},{\"attributes\":{},\"id\":\"1118\",\"type\":\"PanTool\"},{\"attributes\":{\"active_drag\":\"auto\",\"active_inspect\":\"auto\",\"active_multi\":null,\"active_scroll\":\"auto\",\"active_tap\":\"auto\",\"tools\":[{\"id\":\"1118\"},{\"id\":\"1119\"},{\"id\":\"1120\"},{\"id\":\"1121\"},{\"id\":\"1122\"},{\"id\":\"1123\"}]},\"id\":\"1125\",\"type\":\"Toolbar\"},{\"attributes\":{\"data\":{\"x\":{\"__ndarray__\":\"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\",\"dtype\":\"float64\",\"shape\":[3905]},\"y\":{\"__ndarray__\":\"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\",\"dtype\":\"float64\",\"shape\":[3905]}},\"selected\":{\"id\":\"1152\"},\"selection_policy\":{\"id\":\"1153\"}},\"id\":\"1132\",\"type\":\"ColumnDataSource\"},{\"attributes\":{},\"id\":\"1122\",\"type\":\"ResetTool\"},{\"attributes\":{\"data_source\":{\"id\":\"1132\"},\"glyph\":{\"id\":\"1133\"},\"hover_glyph\":null,\"muted_glyph\":null,\"nonselection_glyph\":{\"id\":\"1134\"},\"selection_glyph\":null,\"view\":{\"id\":\"1136\"}},\"id\":\"1135\",\"type\":\"GlyphRenderer\"},{\"attributes\":{\"source\":{\"id\":\"1132\"}},\"id\":\"1136\",\"type\":\"CDSView\"}],\"root_ids\":[\"1101\"]},\"title\":\"Bokeh Application\",\"version\":\"2.0.2\"}};\n",
       "  var render_items = [{\"docid\":\"68d4da31-aa8d-42ab-a97c-39209c8b187c\",\"root_ids\":[\"1101\"],\"roots\":{\"1101\":\"60408202-23e1-49a0-abee-529211ebec88\"}}];\n",
       "  root.Bokeh.embed.embed_items_notebook(docs_json, render_items);\n",
       "\n",
       "  }\n",
       "  if (root.Bokeh !== undefined) {\n",
       "    embed_document(root);\n",
       "  } else {\n",
       "    var attempts = 0;\n",
       "    var timer = setInterval(function(root) {\n",
       "      if (root.Bokeh !== undefined) {\n",
       "        clearInterval(timer);\n",
       "        embed_document(root);\n",
       "      } else {\n",
       "        attempts++;\n",
       "        if (attempts > 100) {\n",
       "          clearInterval(timer);\n",
       "          console.log(\"Bokeh: ERROR: Unable to run BokehJS code because BokehJS library is missing\");\n",
       "        }\n",
       "      }\n",
       "    }, 10, root)\n",
       "  }\n",
       "})(window);"
      ],
      "application/vnd.bokehjs_exec.v0+json": ""
     },
     "metadata": {
      "application/vnd.bokehjs_exec.v0+json": {
       "id": "1101"
      }
     },
     "output_type": "display_data"
    }
   ],
   "source": [
    "# Make figure\n",
    "p = bokeh.plotting.figure(\n",
    "    frame_width=400,\n",
    "    frame_height=300,\n",
    "    x_axis_label='(Doublets - Codon1xCodon2)/(doubletscode[pair])',\n",
    "    y_axis_label='ECDF',\n",
    "  #  x_axis_type = 'log'\n",
    "    \n",
    ")\n",
    "diffs, ecdf_diffs = ecdf_vals(np.array(list(diff_dic_norm.values())))\n",
    "print(np.sum(np.array(list(doubletscode.values()))))\n",
    "p.circle(diffs, ecdf_diffs)\n",
    "\n",
    "#diffs, ecdf_diffs = ecdf_vals(np.array(list(doublets.values())))\n",
    "#p.circle(diffs, ecdf_diffs, color = 'orange')\n",
    "bokeh.io.show(p)"
   ]
  },
  {
   "cell_type": "code",
   "execution_count": null,
   "metadata": {},
   "outputs": [],
   "source": []
  },
  {
   "cell_type": "markdown",
   "metadata": {},
   "source": [
    "Here we look at the doublets whose normalized difference between the doublet vs the actualy codon frequency is quite small indicating that the doublet occurs much less frequent than what would be expected if the codons were independent of each other. "
   ]
  },
  {
   "cell_type": "code",
   "execution_count": 10,
   "metadata": {},
   "outputs": [
    {
     "data": {
      "text/plain": [
       "array(['CTTAAG', 'GGTATG', 'CTTATG', 'AGTATG', 'ACTATG', 'ATCTTA',\n",
       "       'CGTATG', 'CCTATG', 'GTCTTA', 'CTTAGG', 'CCGCGA', 'CCTAAG',\n",
       "       'CCCTAA', 'TGTATG', 'CCGCGG', 'ATTATG', 'TTTAAG', 'GCCTAA',\n",
       "       'TGCGAA', 'GCTTAA'], dtype='<U6')"
      ]
     },
     "execution_count": 10,
     "metadata": {},
     "output_type": "execute_result"
    }
   ],
   "source": [
    "values = np.array(list(diff_dic_norm.values()))\n",
    "inds_sort = np.argsort(values)\n",
    "keys = np.array(list(diff_dic_norm.keys()))\n",
    "keys[inds_sort][:20]"
   ]
  },
  {
   "cell_type": "code",
   "execution_count": 11,
   "metadata": {},
   "outputs": [
    {
     "data": {
      "text/plain": [
       "-1.186117909072891"
      ]
     },
     "execution_count": 11,
     "metadata": {},
     "output_type": "execute_result"
    }
   ],
   "source": [
    "diff_dic_norm['TTTAAG']"
   ]
  },
  {
   "cell_type": "code",
   "execution_count": 12,
   "metadata": {},
   "outputs": [
    {
     "data": {
      "text/plain": [
       "0.17786418531119655"
      ]
     },
     "execution_count": 12,
     "metadata": {},
     "output_type": "execute_result"
    }
   ],
   "source": [
    "diff_dic_norm['TTCAAG']"
   ]
  },
  {
   "cell_type": "markdown",
   "metadata": {},
   "source": [
    "We do this for the non normalized ones to just make sure everything is not weird because of normalization."
   ]
  },
  {
   "cell_type": "code",
   "execution_count": 13,
   "metadata": {},
   "outputs": [
    {
     "data": {
      "text/plain": [
       "array(['AAAAAA', 'ATTATG', 'AATATG', 'TTTAAA', 'ATTAAA', 'ATTAAT',\n",
       "       'TTTAAT', 'TTTATG', 'GATATG', 'GTTAAT', 'CTTAAA', 'ATTAAG',\n",
       "       'TATAAT', 'TATATG', 'GTTAAA', 'TTTAAG', 'TTTTTT', 'GTTATG',\n",
       "       'CTTAAT', 'ATTAAC'], dtype='<U6')"
      ]
     },
     "execution_count": 13,
     "metadata": {},
     "output_type": "execute_result"
    }
   ],
   "source": [
    "values = np.array(list(diff_dic.values()))*1e4\n",
    "inds_sort = np.argsort(values)\n",
    "keys = np.array(list(diff_dic.keys()))\n",
    "keys[inds_sort][:20]\n"
   ]
  },
  {
   "cell_type": "code",
   "execution_count": null,
   "metadata": {},
   "outputs": [],
   "source": []
  },
  {
   "cell_type": "markdown",
   "metadata": {},
   "source": [
    "We see that lots of As or Ts in a row seems to not be a good thing.... We should avoid this"
   ]
  },
  {
   "cell_type": "markdown",
   "metadata": {},
   "source": [
    "We use our codon frequencies dictionary to compute CAI weights (based on the weight definition for the CAI) for all codons \n",
    "\n",
    "$$w_i = \\frac{f_i}{\\max (f_j)} i,j \\in [ \\text{synonymouse codons for amino acid} ]$$\n",
    "\n",
    "Where $f_i$ is the frequency of codon $i$. \n",
    "\n",
    "We obtain two dictionaries: \n",
    "\n",
    "\n",
    "aminoacidweights: keys are amino acids, values are arrays of $w_i$ for all synonymous codons. The order of the codons is the as those used in aminoacidcode. \n",
    "    \n",
    "gencodeweights: keys are codons, values are $w_i$ for each codon"
   ]
  },
  {
   "cell_type": "code",
   "execution_count": 17,
   "metadata": {},
   "outputs": [],
   "source": [
    "aminoacidweights, gencodeweights = get_codon_weights(codon_frequencies_dic)"
   ]
  },
  {
   "cell_type": "markdown",
   "metadata": {},
   "source": [
    "We pickle dump everything so we do not have to repeat the above line later. "
   ]
  },
  {
   "cell_type": "code",
   "execution_count": 18,
   "metadata": {},
   "outputs": [],
   "source": [
    "pickle.dump( aminoacidweights,\n",
    "            open( \"data/Smed_transcriptome_aminoacidweights.p\", \"wb\" ) )\n",
    "pickle.dump( gencodeweights, \n",
    "            open( \"data/Smed_transcriptome_gencodeweights.p\", \"wb\" ) )\n",
    "pickle.dump( aminoacidcode,\n",
    "            open( \"data/aminoacidcode.p\", \"wb\" ))\n",
    "pickle.dump( doubletscode,\n",
    "            open( \"data/doubletscode.p\", \"wb\" ))"
   ]
  },
  {
   "cell_type": "markdown",
   "metadata": {},
   "source": [
    "We reload everything with pickle because why not. "
   ]
  },
  {
   "cell_type": "code",
   "execution_count": 19,
   "metadata": {},
   "outputs": [],
   "source": [
    "aminoacidweights = pickle.load( open( \"data/Smed_transcriptome_aminoacidweights.p\",\n",
    "                                     \"rb\" ) )\n",
    "gencodeweights = pickle.load( open( \"data/Smed_transcriptome_gencodeweights.p\", \n",
    "                                   \"rb\" ) )\n",
    "aminoacidcode = pickle.load(open(\"data/aminoacidcode.p\", 'rb'))\n",
    "doubletscode = pickle.load(\n",
    "            open( \"data/doubletscode.p\", \"rb\" ))"
   ]
  },
  {
   "cell_type": "markdown",
   "metadata": {},
   "source": [
    "## We recode the p53 ORF \n",
    "\n",
    "We try to only RNAi 500 bp "
   ]
  },
  {
   "cell_type": "code",
   "execution_count": 150,
   "metadata": {},
   "outputs": [],
   "source": [
    "p53_ORF = 'ATGGCCCAGCAATATATTACTTCGGCTTTCGATCCAAACTTCACAACGTTACAGCATCAGACTTCAATACATTATAAATCCTCTCCAATTGAAATGATTGTTCCGATGCAATGCAACCAAAACCAAGCCACCTTATCTATAACCCCTGTTCATATTTCTCCATTTGTTAATATATCAGATTCTAATAATCACAATTTGACGAATATCGTCGAGCCTGTTTCATCAAATACTATGTCTCCTGCTTTTAAATCCGACGACATGCCAACATTGTCTTCTTATCCAGGTCCGTATAATTTTCAAATCTTTATTCCCAACGGAGAATTTGATGAATCCAAAAGAAAAGGACAGACATGTGTGTTTCAAACCGATAAAATGGGAAATCACCAATTATTTACCAAACCTCATCCTCATTATTGGAGGTTAAATTATTCAGCTGATCCTTCTATGTCAACGGAAAACATGTATATTCGGATGGTTCCAGTTTTTGGGGATCCAGAAAAAGCTCAATGCATTTTGGAAAGATGTGCAAAACACAAAGAAGTAACAACCGATGAAAATCACTGGAAATATCGTAGCATGCTCATTGTAGAAAAAACCTGTGCACATTACTTTCAGGATTCGGCAACGAAAAGAGTTTGCATTTTATTACCGTTTGAAAAGCATGCGGAAGGAGAGATTTATTCTTCCGTCAACTGTCAATTTGCATGCTACAACAGTTGCTTTAATCAAGATTCAGGTGGTCGGAAAACACTTTATTTAATCATCACTCTAGAATTTCTCGATAAAAAAACAAATAAATTCGATGTATGGGGTCGACAGTGTTTGCAATTTCGCAGTTGTGCTTGTCCAAGTAGAGACTGGAGAGATAAAAAGATTAAAGGCGATCCAGAAATGTTACTGAAATTCAAAGAAAAACGAATCAAAACCGAAGAAAAATTAAATAATTTGGTGATTTCTAAAAGCGTCCCTATTAATATGGGTGGAAAGGATGCTATCATAAGAGTTCTTCCCTCGTTGCCAGGACTCGATGACGCTATTAACGCATTAGTTTGCGGATACTTACTGAATCGAACAACCAACATAAGCGCAATAATAGCAGCATTTAATCAGATGAAAGACGTAGAACATTTAATTATCGATCAATTCACATCAAATTTAGATCAAAATACATGTGACAGTAAAAGTCCTTCACAAACTCCAGAGTCTCAGATTTCTCCGAATACATCAAACCTTCAATTCAACGATTACGGTTCACTTTACGGTGAACCATGTCAACCCTATAGACCGATGCACCAGCAAGTTGTTAATAATTTTTCCTCTCCAGGAATTTTCAGTAAAATACCTTTTGAAACTTATCCGGTTAGTTATGACATTAAACTTTCACATGAAATGCCGCAGCACTTTGATGAGCTGCCATCAGACAACTATAATAGACACTGA'"
   ]
  },
  {
   "cell_type": "code",
   "execution_count": 151,
   "metadata": {},
   "outputs": [],
   "source": [
    "p53_protein = 'MAQQYITSAFDPNFTTLQHQTSIHYKSSPIEMIVPMQCNQNQATLSITPVHISPFVNISDSNNHNLTNIVEPVSSNTMSPAFKSDDMPTLSSYPGPYNFQIFIPNGEFDESKRKGQTCVFQTDKMGNHQLFTKPHPHYWRLNYSADPSMSTENMYIRMVPVFGDPEKAQCILERCAKHKEVTTDENHWKYRSMLIVEKTCAHYFQDSATKRVCILLPFEKHAEGEIYSSVNCQFACYNSCFNQDSGGRKTLYLIITLEFLDKKTNKFDVWGRQCLQFRSCACPSRDWRDKKIKGDPEMLLKFKEKRIKTEEKLNNLVISKSVPINMGGKDAIIRVLPSLPGLDDAINALVCGYLLNRTTNISAIIAAFNQMKDVEHLIIDQFTSNLDQNTCDSKSPSQTPESQISPNTSNLQFNDYGSLYGEPCQPYRPMHQQVVNNFSSPGIFSKIPFETYPVSYDIKLSHEMPQHFDELPSDNYNRH*'"
   ]
  },
  {
   "cell_type": "code",
   "execution_count": 152,
   "metadata": {},
   "outputs": [
    {
     "data": {
      "text/plain": [
       "True"
      ]
     },
     "execution_count": 152,
     "metadata": {},
     "output_type": "execute_result"
    }
   ],
   "source": [
    "translate(p53_ORF) == p53_protein"
   ]
  },
  {
   "cell_type": "code",
   "execution_count": 153,
   "metadata": {},
   "outputs": [
    {
     "data": {
      "text/plain": [
       "'TACCAGTATCACGTATCATTCGCTCCACCAATTGACTCTAGATTAATGCGAATAAAGATTGTACAGGGACTTTCTGAGTCTGACCTTGGAGTAGTAAAGGAGGCTCGAGCATTCGATGGAATGAACCTTTATATACCACAGTTACTTAAGAACAAGGAAACTATTATAAAGGTTAATAAGCCAACAGACAAAACAGTAGTTGACGTAAAGGTTGTATTCACAAATAACGTAAACTTCTCAGAGTGCCCAATGGTATACAACGTATTATTCAAGCGAATAGAGAACTCTTTACGAATGGTAAAGATAGGAAGAGACTACTTTTATCCAGAGAAGAAAATTGTTTTAGATAGACGAAGAATGGAGATTTGGCCAGGTTACGTTACTTCAATACAGAACTTCGATGGAGGACTTTTACTTCAGTGTGACGTTTCTCATAAGGTAATAAGAAACGACTCAGTTTACGATATTATGATGGAGATAAACAAGACAGTAAATAACAAGGGACAGATG'"
      ]
     },
     "execution_count": 153,
     "metadata": {},
     "output_type": "execute_result"
    }
   ],
   "source": [
    "seqs[228]"
   ]
  },
  {
   "cell_type": "code",
   "execution_count": 154,
   "metadata": {},
   "outputs": [],
   "source": [
    "\n",
    "\n",
    "recode = int(534)\n",
    "seqs, seqs_small, cais, dists, cais_full, dists_full = sliding_window_RNAi_recoding(recode, p53_ORF, p53_protein, aminoacidweights, gencodeweights, \n",
    "                                                 random = False, no_wobble = True, enforce_different_codons = True, wiggle = False)\n",
    "\n"
   ]
  },
  {
   "cell_type": "code",
   "execution_count": 114,
   "metadata": {},
   "outputs": [
    {
     "data": {
      "text/plain": [
       "True"
      ]
     },
     "execution_count": 114,
     "metadata": {},
     "output_type": "execute_result"
    }
   ],
   "source": [
    "translate(seqs[228]) == translate('TCCGTCAACTGTCAATTTGCATGCTACAACAGTTGCTTTAATCAAGATTCAGGTGGTCGGAAAACACTTTATTTAATCATCACTCTAGAATTTCTCGATAAAAAAACAAATAAATTCGATGTATGGGGTCGACAGTGTTTGCAATTTCGCAGTTGTGCTTGTCCAAGTAGAGACTGGAGAGATAAAAAGATTAAAGGCGATCCAGAAATGTTACTGAAATTCAAAGAAAAACGAATCAAAACCGAAGAAAAATTAAATAATTTGGTGATTTCTAAAAGCGTCCCTATTAATATGGGTGGAAAGGATGCTATCATAAGAGTTCTTCCCTCGTTGCCAGGACTCGATGACGCTATTAACGCATTAGTTTGCGGATACTTACTGAATCGAACAACCAACATAAGCGCAATAATAGCAGCATTTAATCAGATGAAAGACGTAGAACATTTAATTATCGATCAATTCACATCAAATTTAGATCAAAATACATGTGACAGTAAAAGTCCTTCACAAACTCCAGAGTCTCAGATTTCTCCG')"
   ]
  },
  {
   "cell_type": "code",
   "execution_count": 161,
   "metadata": {},
   "outputs": [
    {
     "data": {
      "text/plain": [
       "array([0.37453184, 0.37453184, 0.37453184, 0.37453184, 0.37453184,\n",
       "       0.37453184, 0.37827715, 0.37640449, 0.37265918, 0.37265918,\n",
       "       0.37265918, 0.37453184, 0.37453184, 0.37078652, 0.37078652,\n",
       "       0.36891386, 0.37078652, 0.37078652, 0.37078652, 0.37078652,\n",
       "       0.37078652, 0.37078652, 0.37265918, 0.37265918, 0.37265918,\n",
       "       0.37265918, 0.37265918, 0.37453184, 0.37265918, 0.37078652,\n",
       "       0.37078652])"
      ]
     },
     "execution_count": 161,
     "metadata": {},
     "output_type": "execute_result"
    }
   ],
   "source": [
    "dists[271:293*3]"
   ]
  },
  {
   "cell_type": "code",
   "execution_count": 164,
   "metadata": {},
   "outputs": [
    {
     "data": {
      "text/plain": [
       "0.3258426966292135"
      ]
     },
     "execution_count": 164,
     "metadata": {},
     "output_type": "execute_result"
    }
   ],
   "source": [
    "dists[1]"
   ]
  },
  {
   "cell_type": "code",
   "execution_count": 165,
   "metadata": {},
   "outputs": [
    {
     "data": {
      "text/plain": [
       "0.3707865168539326"
      ]
     },
     "execution_count": 165,
     "metadata": {},
     "output_type": "execute_result"
    }
   ],
   "source": [
    "dists[-2]"
   ]
  },
  {
   "cell_type": "code",
   "execution_count": 71,
   "metadata": {},
   "outputs": [
    {
     "data": {
      "text/plain": [
       "0.05882352941176466"
      ]
     },
     "execution_count": 71,
     "metadata": {},
     "output_type": "execute_result"
    }
   ],
   "source": [
    "dists[228] - np.min(dists)"
   ]
  },
  {
   "cell_type": "code",
   "execution_count": 64,
   "metadata": {},
   "outputs": [
    {
     "data": {
      "text/plain": [
       "'TCAGTAAATTGCCAGTTCGCTTGTTATAATTCATGTTTCAACCAGGACTCTGGAGGAAGAAAGACTTTATACCTTATAATAACATTAGAGTTCTTAGACAAGAAGACTAACAAGTTTGACGTTTGGGGAAGACAATGCTTACAGTTCAGATCATGCGCATGCCCTTCACGAGATTGGCGAGACAAGAAAATAAAGGGAGACCCTGAGATGCTTTTAAAGTTTAAGGAGAAGAGAATAAAGACAGAGGAGAAGCTTAACAACTTAGTTATATCAAAGTCAGTACCAATAAACATGGGAGGTAAAGACGCAATAATTCGAGTATTACCATCATTACCTGGTTTAGACGATGCAATAAATGCTCTTGTATGTGGTTATCTTTTAAACAGAACTACAAATATTTCAGCTATTATTGCTGCTTTCAACCAAATGAAGGATGTTGAGCACCTTATAATAGACCAGTTTACTTCTAACCTTGACCAGAACACTTGCGATTCAAAGTCACCATCTCAG'"
      ]
     },
     "execution_count": 64,
     "metadata": {},
     "output_type": "execute_result"
    }
   ],
   "source": [
    "seqs[228]"
   ]
  },
  {
   "cell_type": "code",
   "execution_count": 65,
   "metadata": {},
   "outputs": [
    {
     "data": {
      "text/plain": [
       "'SVNCQFACYNSCFNQDSGGRKTLYLIITLEFLDKKTNKFDVWGRQCLQFRSCACPSRDWRDKKIKGDPEMLLKFKEKRIKTEEKLNNLVISKSVPINMGGKDAIIRVLPSLPGLDDAINALVCGYLLNRTTNISAIIAAFNQMKDVEHLIIDQFTSNLDQNTCDSKSPSQ'"
      ]
     },
     "execution_count": 65,
     "metadata": {},
     "output_type": "execute_result"
    }
   ],
   "source": [
    "translate(seqs[228])"
   ]
  },
  {
   "cell_type": "code",
   "execution_count": 61,
   "metadata": {},
   "outputs": [
    {
     "data": {
      "text/plain": [
       "'TCCGTCAACTGTCAATTTGCATGCTACAACAGTTGCTTTAATCAAGATTCAGGTGGTCGGAAAACACTTTATTTAATCATCACTCTAGAATTTCTCGATAAAAAAACAAATAAATTCGATGTATGGGGTCGACAGTGTTTGCAATTTCGCAGTTGTGCTTGTCCAAGTAGAGACTGGAGAGATAAAAAGATTAAAGGCGATCCAGAAATGTTACTGAAATTCAAAGAAAAACGAATCAAAACCGAAGAAAAATTAAATAATTTGGTGATTTCTAAAAGCGTCCCTATTAATATGGGTGGAAAGGATGCTATCATAAGAGTTCTTCCCTCGTTGCCAGGACTCGATGACGCTATTAACGCATTAGTTTGCGGATACTTACTGAATCGAACAACCAACATAAGCGCAATAATAGCAGCATTTAATCAGATGAAAGACGTAGAACATTTAATTATCGATCAATTCACATCAAATTTAGATCAAAATACATGTGACAGTAAAAGTCCTTCACAAACTCCAGAGTCTCAGATTTCTCCGAATACATCAAACCTTCAATTCAACGATTACGGTTCACTTTACGGTGAACCATGTCAACCCTATAGACCGATGCACCAGCAAGTTGTTAATAATTTTTCCTCTCCAGGAATTTTCAGTAAAATACCTTTTGAAACTTATCCGGTTAGTTATGACATTAAACTTTCACATGAAATGCCGCAGCACTTTGATGAGCTGCCATCAGACAACTATAATAGACACTGA'"
      ]
     },
     "execution_count": 61,
     "metadata": {},
     "output_type": "execute_result"
    }
   ],
   "source": [
    "translate(p53_ORF[684:]"
   ]
  },
  {
   "cell_type": "markdown",
   "metadata": {},
   "source": [
    "We RNAi recode the subsection given to us by the prime3 thing"
   ]
  },
  {
   "cell_type": "code",
   "execution_count": 100,
   "metadata": {},
   "outputs": [],
   "source": [
    "dd = 'ATGGCCCAGCAATATATTACTTCGGCTTTCGATCCAAACTTCACAACGTTACAGCATCAGACTTCAATACATTATAAATCCTCTCCAATTGAAATGATTGTTCCGATGCAATGCAACCAAAACCAAGCCACCTTATCTATAACCCCTGTTCATATTTCTCCATTTGTTAATATATCAGATTCTAATAATCACAATTTGACGAATATCGTCGAGCCTGTTTCATCAAATACTATGTCTCCTGCTTTTAAATCCGACGACATGCCAACATTGTCTTCTTATCCAGGTCCGTATAATTTTCAAATCTTTATTCCCAACGGAGAATTTGATGAATCCAAAAGAAAAGGACAGACATGTGTGTTTCAAACCGATAAAATGGGAAATCACCAATTATTTACCAAACCTCATCCTCATTATTGGAGGTTAAATTATTCAGCTGATCCTTCTATGTCAACGGAAAACATGTATATTCGGATGGTTCCAGTTTTTGGGGATCCAGAAAAAGCTCAATGCATTTTGGAAAGATGTGCAAAACACAAAGAAGTAACAACCGATGAAAATCACTGGAAATATCGTAGCATGCTCATTGTAGAAAAAACCTGTGCACATTACTTTCAGGATTCGGCAACGAAAAGAGTTTGCATTTTATTACCGTTTGAAAAGCATGCGGAAGGAGAGATTTATTCTTCCGTCAACTGTCAATTTGCATGCTACAACAGTTGCTTTAATCAAGATTCAGGTGGTCGGAAAACACTTTATTTAATCATCACTCTAGAATTTCTCGATAAAAAAACAAATAAATTCGATGTATGGGGTCGACAGTGTTTGCAATTTCGCAGTTGTGCTTGTCCAAGTAGAGACTGGAGAGATAAAAAGATTAAAGGCGATCCAGAAATGTTACTGAAATTCAAAGAAAAACGAATCAAAACCGAAGAAAAATTAAATAATTTGGTGATTTCTAAAAGCGTCCCTATTAATATGGGTGGAAAGGATGCTATCATAAGAGTTCTTCCCTCGTTGCCAGGACTCGATGACGCTATTAACGCATTAGTTTGCGGATACTTACTGAATCGAACAACCAACATAAGCGCAATAATAGCAGCATTTAATCAGATGAAAGACGTAGAACATTTAATTATCGATCAATTCACATCAAATTTAGATCAAAATACATGTGACAGTAAAAGTCCTTCACAAACTCCAGAGTCTCAGATTTCTCCGAATACATCAAACCTTCAATTCAACGATTACGGTTCACTTTACGGTGAACCATGTCAACCCTATAGACCGATGCACCAGCAAGTTGTTAATAATTTTTCCTCTCCAGGAATTTTCAGTAAAATACCTTTTGAAACTTATCCGGTTAGTTATGACATTAAACTTTCACATGAAATGCCGCAGCACTTTGATGAGCTGCCATCAGACAACTATAATAGACACTGA'"
   ]
  },
  {
   "cell_type": "code",
   "execution_count": 137,
   "metadata": {},
   "outputs": [],
   "source": [
    "dd = 'TCCGTCAACTGTCAATTTGCATGCTACAACAGTTGCTTTAATCAAGATTCAGGTGGTCGGAAAACACTTTATTTAATCATCACTCTAGAATTTCTCGATAAAAAAACAAATAAATTCGATGTATGGGGTCGACAGTGTTTGCAATTTCGCAGTTGTGCTTGTCCAAGTAGAGACTGGAGAGATAAAAAGATTAAAGGCGATCCAGAAATGTTACTGAAATTCAAAGAAAAACGAATCAAAACCGAAGAAAAATTAAATAATTTGGTGATTTCTAAAAGCGTCCCTATTAATATGGGTGGAAAGGATGCTATCATAAGAGTTCTTCCCTCGTTGCCAGGACTCGATGACGCTATTAACGCATTAGTTTGCGGATACTTACTGAATCGAACAACCAACATAAGCGCAATAATAGCAGCATTTAATCAGATGAAAGACGTAGAACATTTAATTATCGATCAATTCACATCAAATTTAGATCAAAATACATGTGACAGTAAAAGTCCTTCACAA'"
   ]
  },
  {
   "cell_type": "code",
   "execution_count": 138,
   "metadata": {},
   "outputs": [
    {
     "data": {
      "text/plain": [
       "504"
      ]
     },
     "execution_count": 138,
     "metadata": {},
     "output_type": "execute_result"
    }
   ],
   "source": [
    "len(seqs[228])\n"
   ]
  },
  {
   "cell_type": "code",
   "execution_count": 139,
   "metadata": {},
   "outputs": [
    {
     "data": {
      "text/plain": [
       "False"
      ]
     },
     "execution_count": 139,
     "metadata": {},
     "output_type": "execute_result"
    }
   ],
   "source": [
    "translate(seqs[228]) == translate(dd)"
   ]
  },
  {
   "cell_type": "code",
   "execution_count": 99,
   "metadata": {},
   "outputs": [],
   "source": [
    "p53_rnai = 'TCCGTCAACTGTCAATTTGCATGCTACAACAGTTGCTTTAATCAAGATTCAGGTGGTCGGAAAACACTTTATTTAATCATCACTCTAGAATTTCTCGATAAAAAAACAAATAAATTCGATGTATGGGGTCGACAGTGTTTGCAATTTCGCAGTTGTGCTTGTCCAAGTAGAGACTGGAGAGATAAAAAGATTAAAGGCGATCCAGAAATGTTACTGAAATTCAAAGAAAAACGAATCAAAACCGAAGAAAAATTAAATAATTTGGTGATTTCTAAAAGCGTCCCTATTAATATGGGTGGAAAGGATGCTATCATAAGAGTTCTTCCCTCGTTGCCAGGACTCGATGACGCTATTAACGCATTAGTTTGCGGATACTTACTGAATCGAACAACCAACATAAGCGCAATAATAGCAGCATTTAATCAGATGAAAGACGTAGAACATTTAATTATCGATCAATTCACATCAAATTTAGATCAAAATACATGTGACAGTAAAAGTCCTTCACAAACTCCAGAGTCTCAGATTTCTCCG'"
   ]
  },
  {
   "cell_type": "markdown",
   "metadata": {},
   "source": [
    "## recoding vasa-1"
   ]
  },
  {
   "cell_type": "code",
   "execution_count": 72,
   "metadata": {},
   "outputs": [],
   "source": [
    "vasa1_ORF = 'ATGTCGGTTAATGATGGATTAAGTGATGAAGAATGGGGAGCATGGGGACAAACTTCTGTAGTCACAGAAAACATAAGTACTCAAAAAAATAATTCAAAACCTCAAAATGGCTTTGGCAGTGATGATGAAGTAATTATCAATACTGACACCTCAAATGTTCAAGCAATCTCAAAGTTTAGTGTAAATAGTTATAACAAAGAAAATAATTTAAATGGCGGATCTTATGAAAAAAGAGGAGGTTTTAATGGAAATAGGGGAACTAACAGATTTGCTACCAGAAAAGTAGAATCAGAGGACAAGAATGAAACTAATGGTGATAGAAATTATAACAGGAATGGTTACTCTAATGATAGAGATACTAAACCGAACTATCAGAATAACAGAAACTCAGAATTTAAAAGGAACGGAAATGAACAAAATAATTATCCAAATGATAGAAATTTTAATAAACGAGATAATAGTCCCGGTGATAAAAATCAGTATGCGAATAAAAGGAATGATTCTAGAGAACGCTCGCGTAATAATGGATTGTTTGATGATTCAAGAGAACGTAAAACTCCTCGTGGTGACAAACGTGATGATTCAAGAGATCGTAAAATAAACCGAGACGATTCGAGGGATCGTAGAAAGTATCGTGATGATTCCAGAGATCGTAGAAAGTATCGTGACGATTCCAGAGATCGTAAAAAATATCGAGACGATTCAAGGGATCGCAAGAAGTATCGTGATGATTCAAATCGTAAAAAGTATCGTGATAGCTCGATGGATCGTAGAAAACCTCGTGATGATTCCAGGGATCATAAAAAGTATCGTGACGATTCTAGAGATAAACGAAACAATTTAAAGCGCCGTGATGATTCCTATGATAATAATGATAGAAATCGAAGACCAGATAGAAGAAATCGAGATGATTCTCGCGAAAATCGAAAGAAAAGGGACGATTCGCAAGAAAATCGAACACGAAATAGAAAAGAGGAATTTAAACGTGATGAATCCTGGGAAGACCGTAGATCCGAATTCCAACGAGATCAGAGAATAAATAATGATAGTTTTGCTAGAGCAACGAAAGAAAATGGAGCTAACAATTTTGAATCGAAAAAGTTCCGTGGAAATAACGATGCAAATAATGGATTTAGAAACGACGAATTTGATGGCAATTTCCAAGGAAAACGTAATGGAAATTCCAACGATTTTTCCACTGAATTCGATAGAACTGTGACTTTGGAAGAAAATCCTGCCTATTCATCGAAAACATTTGTTCGTGGTCAAAAGCAGCCGGAACAAACCAATCAAAATGATGATGCTATTCCAATCGTTAAAAGAGCGACATTTATCCCCGATGATAATCAAGAAGATTACGAACTCCATGTAAATTCAGGAATTAATTTCGATAATTACGACAAAATCCCGGTTGAGGTTACAGGCGATGATGTTCCGCCGGCCTTGAACACGTTTTCCAGTCTTCATCTCCCGGAATTTCTCACATCGAATGTTGAAAATCTCAAATATACAAAATTGACCCCAGTGCAAAAATATGCAATTCCGATTATCGATTCCAAACGCGACCTCATGGCATGCGCACAAACCGGTTCTGGCAAAACTGCGGCTTTTCTAATCCCGATAATCAAATCTCTCAGTGAGAATGGGACGGAATCTCCAGCATCGGCAGTCGCGTTTCCGAAAGCTTTAATAATGGCTCCAACTAGGGAGTTGTGTCGTCAGATATTCACTGCTGCGCGTCATCTCTGTCGCGGTTCCAATATCAAATGTGCCTATATTTACGGTGGAATTGAAATGAACAAATCCCGACGTAATATACAAGCAACCGGTTGCGATATCCTCGTGGCGACTCCAGGCCGATTGATTCATTTCCTGGAATTAGTTTGGCTCTCTTTGAGATATTTGCAGTTTTTTGTGCTCGATGAGGCCGATCGAATGCTCGATTCCGATGGATTTTATGAAAGCGTTACGAAAATCTACAACGAGGCCAATTTTAGTGGAGACGATCGATCGATCCAAATTTCGATGTTTAGTGCAACTTTCCCCAATGAAATTCAAACTTTAGCGAGAAATCTCCTGAAAAATTATCTATTTCTAGCTGTTGGAGTTGTTGGCTCAGCAAATAGTGACGTAAAGCAGGAGATTATCCAATCGGATCAAAGGGAGAAAGTCAATACTGCAATTGAATATATAAAAACTATTCCCGATGAGAAAACTCTGATTTTCGTTGAGAGCAAAAGAATGGCCGATTTCATGGGAATAAAGCTCGGATATTTGGGATTTAAAGCGACGACAATTCACGGTGATCGGGAACAGGAACAGAGAGAAATCGCTCTTAATGATTTCAAAAGTGGCCGAGTTAATTTCATGGTTGCCACTAATGTTGCCGCTCGAGGTCTCGATATTCCGAAAGTCGATAATGTAATCAATATCGACATGCCTGACACAATCGATACGTATGTTCATCGAATCGGTAGAACCGGTCGTTGTGGAAATGTTGGACGTGCAATTAGCTTTTTCGATGAAATGAAGGATATTGGATTGGCACAAGGGCTTGTTAGTAAGCTGCAAGAAGCCAATCAGGAGTGTCCTGATTGGTTGAGAGCACTATGTGACGGATCCGGTTCCAGGATGGCCAATTACTCGAGAGACACTAGAAAAAATGTTAAAAGCTCTAAATATATTGACAACCCTACCGATGACGGATTTATGAAGGGTACAAATATTGATTATGATGACGTGAAGCCGACTTCTGAATGGCTCGAAGATTAG'"
   ]
  },
  {
   "cell_type": "code",
   "execution_count": 73,
   "metadata": {},
   "outputs": [],
   "source": [
    "vasa1_protein = 'MSVNDGLSDEEWGAWGQTSVVTENISTQKNNSKPQNGFGSDDEVIINTDTSNVQAISKFSVNSYNKENNLNGGSYEKRGGFNGNRGTNRFATRKVESEDKNETNGDRNYNRNGYSNDRDTKPNYQNNRNSEFKRNGNEQNNYPNDRNFNKRDNSPGDKNQYANKRNDSRERSRNNGLFDDSRERKTPRGDKRDDSRDRKINRDDSRDRRKYRDDSRDRRKYRDDSRDRKKYRDDSRDRKKYRDDSNRKKYRDSSMDRRKPRDDSRDHKKYRDDSRDKRNNLKRRDDSYDNNDRNRRPDRRNRDDSRENRKKRDDSQENRTRNRKEEFKRDESWEDRRSEFQRDQRINNDSFARATKENGANNFESKKFRGNNDANNGFRNDEFDGNFQGKRNGNSNDFSTEFDRTVTLEENPAYSSKTFVRGQKQPEQTNQNDDAIPIVKRATFIPDDNQEDYELHVNSGINFDNYDKIPVEVTGDDVPPALNTFSSLHLPEFLTSNVENLKYTKLTPVQKYAIPIIDSKRDLMACAQTGSGKTAAFLIPIIKSLSENGTESPASAVAFPKALIMAPTRELCRQIFTAARHLCRGSNIKCAYIYGGIEMNKSRRNIQATGCDILVATPGRLIHFLELVWLSLRYLQFFVLDEADRMLDSDGFYESVTKIYNEANFSGDDRSIQISMFSATFPNEIQTLARNLLKNYLFLAVGVVGSANSDVKQEIIQSDQREKVNTAIEYIKTIPDEKTLIFVESKRMADFMGIKLGYLGFKATTIHGDREQEQREIALNDFKSGRVNFMVATNVAARGLDIPKVDNVINIDMPDTIDTYVHRIGRTGRCGNVGRAISFFDEMKDIGLAQGLVSKLQEANQECPDWLRALCDGSGSRMANYSRDTRKNVKSSKYIDNPTDDGFMKGTNIDYDDVKPTSEWLED*'"
   ]
  },
  {
   "cell_type": "code",
   "execution_count": 74,
   "metadata": {},
   "outputs": [
    {
     "data": {
      "text/plain": [
       "True"
      ]
     },
     "execution_count": 74,
     "metadata": {},
     "output_type": "execute_result"
    }
   ],
   "source": [
    "translate(vasa1_ORF) == vasa1_protein"
   ]
  },
  {
   "cell_type": "code",
   "execution_count": 130,
   "metadata": {},
   "outputs": [],
   "source": [
    "recode = int(504)\n",
    "seqs, seqs_small, cais, dists, cais_full, dists_full = sliding_window_RNAi_recoding(recode, vasa1_ORF, vasa1_protein, aminoacidweights, gencodeweights, \n",
    "                                                 random = False, no_wobble = True, enforce_different_codons = True, wiggle = False)\n",
    "\n"
   ]
  },
  {
   "cell_type": "code",
   "execution_count": 133,
   "metadata": {},
   "outputs": [],
   "source": [
    "rnai = 'GAACGCTCGCGTAATAATGGATTGTTTGATGATTCAAGAGAACGTAAAACTCCTCGTGGTGACAAACGTGATGATTCAAGAGATCGTAAAATAAACCGAGACGATTCGAGGGATCGTAGAAAGTATCGTGATGATTCCAGAGATCGTAGAAAGTATCGTGACGATTCCAGAGATCGTAAAAAATATCGAGACGATTCAAGGGATCGCAAGAAGTATCGTGATGATTCAAATCGTAAAAAGTATCGTGATAGCTCGATGGATCGTAGAAAACCTCGTGATGATTCCAGGGATCATAAAAAGTATCGTGACGATTCTAGAGATAAACGAAACAATTTAAAGCGCCGTGATGATTCCTATGATAATAATGATAGAAATCGAAGACCAGATAGAAGAAATCGAGATGATTCTCGCGAAAATCGAAAGAAAAGGGACGATTCGCAAGAAAATCGAACACGAAATAGAAAAGAGGAATTTAAACGTGATGAATCCTGGGAAGACCGTAGA'"
   ]
  },
  {
   "cell_type": "code",
   "execution_count": 135,
   "metadata": {},
   "outputs": [
    {
     "data": {
      "text/plain": [
       "True"
      ]
     },
     "execution_count": 135,
     "metadata": {},
     "output_type": "execute_result"
    }
   ],
   "source": [
    "translate(seqs[507//3]) == translate(rnai)"
   ]
  },
  {
   "cell_type": "code",
   "execution_count": 136,
   "metadata": {},
   "outputs": [
    {
     "data": {
      "text/plain": [
       "'GAGAGATCAAGAAACAACGGTTTATTCGACGACTCTCGAGAGAGAAAGACACCAAGAGGAGATAAGAGAGACGACTCTCGAGACAGAAAGATTAATAGAGATGACTCAAGAGACAGACGAAAATACAGAGACGACTCACGAGACAGACGAAAATACAGAGATGACTCACGAGACAGAAAGAAGTACAGAGATGACTCTAGAGACAGAAAAAAATACAGAGACGACTCTAACAGAAAGAAATACAGAGACTCATCAATGGACAGACGAAAGCCAAGAGACGACTCAAGAGACCACAAGAAATACAGAGATGACTCACGAGACAAGAGAAATAACCTTAAAAGAAGAGACGACTCATACGACAACAACGACCGAAACAGACGACCTGACCGACGAAACAGAGACGACTCAAGAGAGAACAGAAAAAAGAGAGATGACTCACAGGAGAACAGAACTAGAAACCGAAAGGAAGAGTTCAAGAGAGACGAGTCATGGGAGGATAGACGA'"
      ]
     },
     "execution_count": 136,
     "metadata": {},
     "output_type": "execute_result"
    }
   ],
   "source": [
    "seqs[507//3]"
   ]
  },
  {
   "cell_type": "code",
   "execution_count": 122,
   "metadata": {},
   "outputs": [
    {
     "data": {
      "text/plain": [
       "'ERSRNNGLFDDSRERKTPRGDKRDDSRDRKINRDDSRDRRKYRDDSRDRRKYRDDSRDRKKYRDDSRDRKKYRDDSNRKKYRDSSMDRRKPRDDSRDHKKYRDDSRDKRNNLKRRDDSYDNNDRNRRPDRRNRDDSRENRKKRDDSQENRTRNRKEEFKRDESWEDRR'"
      ]
     },
     "execution_count": 122,
     "metadata": {},
     "output_type": "execute_result"
    }
   ],
   "source": [
    "translate(seqs[int(507/3)])"
   ]
  },
  {
   "cell_type": "code",
   "execution_count": 79,
   "metadata": {},
   "outputs": [
    {
     "data": {
      "text/plain": [
       "array([150, 138, 153, 152, 151, 149, 148, 147, 146, 145, 144, 143, 142,\n",
       "       141, 140, 139, 137, 136, 168, 117, 116, 182, 183, 170, 115, 169,\n",
       "       167, 119, 166, 162, 161, 160, 159, 114, 118, 123, 120, 121, 124,\n",
       "       125, 126, 127, 128, 129, 130, 181, 131, 132, 133, 134, 135, 180,\n",
       "       122, 113, 185, 184, 186, 187, 164, 165, 172, 156, 155, 154, 171,\n",
       "       163, 157, 158, 177, 111, 190, 112, 189, 188, 191, 176, 174, 175,\n",
       "       178, 173, 179, 205, 103, 207, 544, 543, 542, 105, 104, 106, 110,\n",
       "       109, 107, 108, 206, 197, 204, 195, 541, 540, 539, 192, 193, 203,\n",
       "       194, 196, 102, 199, 200, 201, 202, 101, 575, 576, 577, 545, 486,\n",
       "       100,  92, 485,  91,  99, 198, 208, 209, 210, 211,  94,  95,  96,\n",
       "        97,  98,  93, 579, 578, 525, 524, 221, 538, 537, 526, 527, 529,\n",
       "       572, 571, 570, 528, 530, 536, 535, 534, 533, 531, 532, 212, 614,\n",
       "        88, 215, 214, 213, 619,  90,  89,  87, 217, 618, 617,  84,  83,\n",
       "       616, 615, 216, 481, 227,  86,  85,  59, 546, 548, 226, 482, 470,\n",
       "       483, 484, 480, 479, 487, 225, 224, 223, 222, 518, 519, 520, 478,\n",
       "       522, 523, 477, 475, 474, 473, 472, 471, 547, 550, 549, 611, 581,\n",
       "       220, 600, 601, 602, 603, 609, 610, 612, 574, 613, 620, 621, 622,\n",
       "       623, 624, 219, 218, 580,  58, 573, 552, 562, 565, 566, 561, 560,\n",
       "       569, 559, 558, 557, 556, 555, 553, 554, 567, 551, 568, 639,  55,\n",
       "        53, 231, 230, 229, 228,  54,  56, 234,  57, 457, 458, 460, 461,\n",
       "       462, 463, 464, 233, 235, 638, 629, 637, 636, 635, 634, 633, 632,\n",
       "       631, 630, 626, 236, 625, 466, 686, 687,  82,  81,  52, 237, 465,\n",
       "       232, 467, 509, 488, 489, 496, 497, 498, 499, 468, 508, 510, 564,\n",
       "       511, 512, 513, 514, 515, 516, 517, 521, 599, 500, 607, 608, 563,\n",
       "       469, 606, 476, 604, 605, 684, 691, 690, 689, 688, 685, 459, 646,\n",
       "        24, 642, 641, 640, 456, 445, 454,  25, 444,  23,  50,  22,  60,\n",
       "       582, 583,  61, 586, 587,  51,  49, 589,  48,  62,  39,  38,  77,\n",
       "        78,  79,  80, 588, 455, 505, 419, 492, 504, 241, 240, 239, 238,\n",
       "       491, 490, 448, 592, 593, 594, 595, 596, 597, 598, 446, 420, 447,\n",
       "       418, 590, 493, 417, 449, 450, 451, 452, 453, 627, 414, 415, 628,\n",
       "       501, 416, 502, 503, 591,  68,  69,  72,  73,  74,  75,  76, 242,\n",
       "       243, 245, 246, 244, 438, 434, 436, 428, 427, 426, 425, 424, 423,\n",
       "       422, 421, 413, 412, 665, 668, 669, 670, 671, 672, 654, 676, 677,\n",
       "       435, 437,  31, 439, 652, 651, 650, 649, 648, 647, 645, 644, 643,\n",
       "       585, 584, 507, 506, 495, 494, 443, 442, 441, 440, 692, 653,  32,\n",
       "        28,  45,  46,  44,  47,  43,  42,  37,  35,  34,  30,  29,  36,\n",
       "        33,  21,  20,  19,  18,  26,   3,  65,  66,  67,   4, 249, 247,\n",
       "       248,   5, 250,  64,  15,  63,   6,  27,  16, 429, 430,  17, 431,\n",
       "       432, 252, 433, 251, 675,  40, 410, 694, 693, 683, 682, 674, 673,\n",
       "        41, 664, 695, 411, 659,  70, 660, 663, 662, 661,  71, 699,   1,\n",
       "       697, 698, 700,  14,   7, 701, 702, 696, 703,   2, 704, 706, 681,\n",
       "       680, 679, 707, 656, 705, 655, 678, 667, 666, 658, 657, 376, 380,\n",
       "       390, 377, 393, 394, 333, 334, 335, 389, 379, 388, 387, 386, 403,\n",
       "       404, 405, 406, 407, 408, 409, 385, 384, 383, 382, 256, 255, 381,\n",
       "       378, 344, 732, 730, 729, 728, 727, 726, 725, 724, 723, 731, 332,\n",
       "       733, 721, 336,  13,  12, 337, 338, 339, 340, 341, 342, 343, 722,\n",
       "       349, 331, 395, 254, 257, 258, 259, 260, 402, 401, 400, 399, 398,\n",
       "       346, 396, 397, 392, 708, 347, 328, 327, 326, 325, 324, 345, 391,\n",
       "       348, 253, 353,   9,  10,  11,   8,   0, 261, 361, 262, 323, 329,\n",
       "       330, 351, 352, 354, 355, 356, 357, 358, 359, 360, 362, 320, 363,\n",
       "       364, 365, 366, 367, 368, 375, 734, 735, 736, 737, 738, 739, 321,\n",
       "       322, 267, 270, 269, 263, 264, 265, 266, 268, 374, 373, 372, 371,\n",
       "       370, 369, 275, 271, 709, 272, 273, 274, 276, 277, 752, 713, 710,\n",
       "       719, 744, 743, 742, 741, 740, 720, 718, 711, 717, 716, 715, 714,\n",
       "       279, 712, 278, 753, 280, 318, 319, 350, 748, 317, 281, 751, 749,\n",
       "       282, 304, 303, 302, 301, 300, 299, 747, 750, 298, 297, 305, 295,\n",
       "       745, 746, 296, 293, 291, 290, 294, 283, 285, 286, 287, 288, 289,\n",
       "       292, 284, 308, 307, 316, 315, 314, 313, 312, 311, 309, 306, 310])"
      ]
     },
     "execution_count": 79,
     "metadata": {},
     "output_type": "execute_result"
    }
   ],
   "source": [
    "np.argsort(dists)[::-1]"
   ]
  },
  {
   "cell_type": "markdown",
   "metadata": {},
   "source": [
    "## recoding smedwi-3"
   ]
  },
  {
   "cell_type": "code",
   "execution_count": 84,
   "metadata": {},
   "outputs": [],
   "source": [
    "smedwi3_ORF = 'ATGTCAGGAAGTAGTGGAATAGGTAGAGGCCGCAGTCGTGGGCTGTTGATGCAAAAGTTTCTGAATAAAGATGTTCTTGTTCCTTCTGTTGAATCTTTAGAAGACAAAGCTCTTAATAAGCTAGGAATTCCACCTCCTGGGTCTACCGTAGAAAAAAATACAGAGTCAAGTTCTATATCAAGTGGAGATTCAAGAAGTAATCCCAGTGGAGATTCAAGAAATAACATAAAACTACAAGATAGTGATATTGAGAATCGCAATATTACCATTGTTACGCGACCATTATCCTGCATAGGCAGGGGCCGGGGTTTAAGCAATCCCTCAAGTTTAACTACGTCATCGGGTAAATCGGATAAAATTACTGAAAACGAAGAACCTGGTCAAATTAAAAAGTTTGTAGGTCGCGGTAGAGGATTGTTGAATTCTCAGAAAGAATGTTCAAACTCTACTCCATCTGAAGTTTCAAATGAATTGAAACAAATGAAAATTTCAAATGATGATAAAATGACGGTTTCTTCAGAAGCAAAGTCACAATTTGAGAACATTGAAAAACCTATTAGTAAATTTCGTCGACGTGAATATCCAACTCAAATAAAAGAACCATGTAATACAAGAAATGATTCATCGCCATCTTTAACTTTAAGTGCTAATTACGTTAAAGTTAGGACTACACAACCCCATATATATCAATACCATGTTTCCTTTGCACCTCCGATAGATTCAAGGTTGATGAGAATTAAAATAGTTCAAGGGTTATCAGAATCAGATTTAGGGGTTGTCAAAGAAGCAAGAGCTTTTGACGGTATGAATTTATACATTCCTCAACTTTTAAAAAATAAAGAGACAATAATTAAAGTAAACAAACCGACTGATAAGACTGTCGTGGATGTTAAAGTAGTTTTTACTAACAATGTTAATTTTAGTGAATGTCCTATGGTTTATAATGTTCTTTTTAAAAGAATTGAAAATTCACTCAGAATGGTTAAAATTGGTAGGGATTATTTCTACCCTGAAAAAAAGATAGTACTTGACCGTAGAAGGATGGAAATATGGCCGGGATATGTAACAAGTATCCAAAATTTTGACGGTGGTTTACTGTTACAATGCGATGTGTCACACAAAGTTATTCGAAATGATAGTGTGTATGACATAATGATGGAAATTAATAAAACTGTTAACAATAAAGGTCAAATGCAAACTGCTGCGATTAATCAACTATTGGGTCAAATTGTGTTGACTCCTCACAATAACCGAAATTATAGAATTACTGATATAGATTGGGCTAAAAATTGTTTAAGTGAATTCGATAAAGGAGGCGAAAAAATTAGCTACCGGGATTATTTTAGGAACACGTATGGGCTACAAATTCGTGATCTAGAGCAGCCTATGATAGTTAGTAAATCTAATAGCAGATCTGGTAAAAACCGAGGTCCCAAAGGATCAAAAGAAGTGGATGGTGGATTGGTCTATTTAATTCCAGAATTGTGTATGCTAACTGGTTTGACAGATGACATGATTAAAGATTTTCGTTTGATGAGAGAATTACACGAGCATTGTCGAGTTACTCCCAAGAAAAGACACGAAGCCTTACTGGAATTCGTGGATAACATATATAGCTGTGAGGAAGCTAAGAAACTTTTAGGATATTGGGGTATAACGATTGAAAAGGACACTGTCAACATAAATGCTTGTAAAATGAATCCAGAAATGATATATTTTGGAAATGAAGCTTCTGTTAGTGCTGGGGAACAAGCTGAATTTAAACAAGCCTTGGCACATAATAAAGTTATAGGTGGTATTCGTATTGAAAATTGGATATTAATTTCTCCAAAAAGTTTACTGACAAAAGCAAATGGTCTGTTACAGGCTTTAATGAGCAAATCTCCTAGAGTTGGAGTTATGTTTGGAAAACCCAAAATAGTTGAAATGAACAATGATCGAACAGAAGAGTATTTAAAAGAATTAAAGAGAAATGTGGCTCCTGGTGTGCAGTTAGTAGTTACAATTTTATCTGCTGTTAGAGAAGATCGATACAATGCAATAAAAAAATTTTGTTATGTGGATTGTCCTGTTCCAAGTCAAGTGGTATTAGCCCAAACATTGAAAGAAGGGCCTAAATTAAATAGTGTGGCAGTTAATATAGCCCTTCAAATAAACGCAAAATTAGGTGGAGAGCTGTGGGCTGTCAAAATACCTATTAAGAAGTTTATGGTTGTTGGACTTGATGTTTGGCATGATACTAAAGGGAGAAGTAGATCAGTTGGAGCCGTAGTTGGTTCAACTAATGCGCTATGCACAAGGTGGTTTTCGAAATCGCATTTGCAAGAACAAGATAAAGAAATTATGTACGTATTACAGTCGTGTATGTTAAGCCTTTTAAAGGCTTATTTTGAAGAAAATAATTTTTTGCCTGAGACTATCTTTATGTATAGGGATGGTGTTAGTGATGGTCAGTTAGGATATGTTCAAAAAACTGAAATTGAACAATTCTTTAAAGTTTTTGAATCGTTTAGTGCTGATTATAAACCTAATATGGTATATAATGTTGTTCAAAAGAGAATTAATACTAGGCTCTATGTAAGTGATCCGAAAAATAAAGGACAAATAAATAACCCCAATCCTGGTACAATTGTCGACCATACTGTTACGAGGGCTAACCTTTATGATTTTTTTCTTGTTTCTCAATCGGTTAGGCAGGGAACTGTAACTCCGACGCATTACGTTGTTTTATGTGACAATTCTAAATACACTCCGCATCAGGTTCAGTTGATGGCTTATAAAACATGTCATATATATTACAATTGGCCAGGAACGGTTCGAGTACCAGCACCTTGTATGTATGCTCATAAATTGGCATATATGGTTGGTCAGAATTTGAAAGCTGAACCTAGTAATCTTCTATGTGACAGACTTTTTTATTTGTAA'"
   ]
  },
  {
   "cell_type": "code",
   "execution_count": 87,
   "metadata": {},
   "outputs": [],
   "source": [
    "smedwi3_protein = 'MSGSSGIGRGRSRGLLMQKFLNKDVLVPSVESLEDKALNKLGIPPPGSTVEKNTESSSISSGDSRSNPSGDSRNNIKLQDSDIENRNITIVTRPLSCIGRGRGLSNPSSLTTSSGKSDKITENEEPGQIKKFVGRGRGLLNSQKECSNSTPSEVSNELKQMKISNDDKMTVSSEAKSQFENIEKPISKFRRREYPTQIKEPCNTRNDSSPSLTLSANYVKVRTTQPHIYQYHVSFAPPIDSRLMRIKIVQGLSESDLGVVKEARAFDGMNLYIPQLLKNKETIIKVNKPTDKTVVDVKVVFTNNVNFSECPMVYNVLFKRIENSLRMVKIGRDYFYPEKKIVLDRRRMEIWPGYVTSIQNFDGGLLLQCDVSHKVIRNDSVYDIMMEINKTVNNKGQMQTAAINQLLGQIVLTPHNNRNYRITDIDWAKNCLSEFDKGGEKISYRDYFRNTYGLQIRDLEQPMIVSKSNSRSGKNRGPKGSKEVDGGLVYLIPELCMLTGLTDDMIKDFRLMRELHEHCRVTPKKRHEALLEFVDNIYSCEEAKKLLGYWGITIEKDTVNINACKMNPEMIYFGNEASVSAGEQAEFKQALAHNKVIGGIRIENWILISPKSLLTKANGLLQALMSKSPRVGVMFGKPKIVEMNNDRTEEYLKELKRNVAPGVQLVVTILSAVREDRYNAIKKFCYVDCPVPSQVVLAQTLKEGPKLNSVAVNIALQINAKLGGELWAVKIPIKKFMVVGLDVWHDTKGRSRSVGAVVGSTNALCTRWFSKSHLQEQDKEIMYVLQSCMLSLLKAYFEENNFLPETIFMYRDGVSDGQLGYVQKTEIEQFFKVFESFSADYKPNMVYNVVQKRINTRLYVSDPKNKGQINNPNPGTIVDHTVTRANLYDFFLVSQSVRQGTVTPTHYVVLCDNSKYTPHQVQLMAYKTCHIYYNWPGTVRVPAPCMYAHKLAYMVGQNLKAEPSNLLCDRLFYL*'"
   ]
  },
  {
   "cell_type": "code",
   "execution_count": 89,
   "metadata": {},
   "outputs": [
    {
     "data": {
      "text/plain": [
       "True"
      ]
     },
     "execution_count": 89,
     "metadata": {},
     "output_type": "execute_result"
    }
   ],
   "source": [
    "translate(smedwi3_ORF) == smedwi3_protein"
   ]
  },
  {
   "cell_type": "code",
   "execution_count": 145,
   "metadata": {},
   "outputs": [],
   "source": [
    "recode = int(510)\n",
    "seqs, seqs_small, cais, dists, cais_full, dists_full = sliding_window_RNAi_recoding(recode, smedwi3_ORF, smedwi3_protein, aminoacidweights, gencodeweights, \n",
    "                                                 random = False, no_wobble = True, enforce_different_codons = True, wiggle = False)\n",
    "\n"
   ]
  },
  {
   "cell_type": "code",
   "execution_count": 140,
   "metadata": {},
   "outputs": [],
   "source": [
    "rnaiwi3 = 'GGAATAGGTAGAGGCCGCAGTCGTGGGCTGTTGATGCAAAAGTTTCTGAATAAAGATGTTCTTGTTCCTTCTGTTGAATCTTTAGAAGACAAAGCTCTTAATAAGCTAGGAATTCCACCTCCTGGGTCTACCGTAGAAAAAAATACAGAGTCAAGTTCTATATCAAGTGGAGATTCAAGAAGTAATCCCAGTGGAGATTCAAGAAATAACATAAAACTACAAGATAGTGATATTGAGAATCGCAATATTACCATTGTTACGCGACCATTATCCTGCATAGGCAGGGGCCGGGGTTTAAGCAATCCCTCAAGTTTAACTACGTCATCGGGTAAATCGGATAAAATTACTGAAAACGAAGAACCTGGTCAAATTAAAAAGTTTGTAGGTCGCGGTAGAGGATTGTTGAATTCTCAGAAAGAATGTTCAAACTCTACTCCATCTGAAGTTTCAAATGAATTGAAACAAATGAAAATTTCAAATGATGATAAAATGACGGTTTCTTCAGAAGCA'"
   ]
  },
  {
   "cell_type": "code",
   "execution_count": 146,
   "metadata": {},
   "outputs": [
    {
     "data": {
      "text/plain": [
       "'GIGRGRSRGLLMQKFLNKDVLVPSVESLEDKALNKLGIPPPGSTVEKNTESSSISSGDSRSNPSGDSRNNIKLQDSDIENRNITIVTRPLSCIGRGRGLSNPSSLTTSSGKSDKITENEEPGQIKKFVGRGRGLLNSQKECSNSTPSEVSNELKQMKISNDDKMTVSSEA'"
      ]
     },
     "execution_count": 146,
     "metadata": {},
     "output_type": "execute_result"
    }
   ],
   "source": [
    "translate(rnaiwi3)"
   ]
  },
  {
   "cell_type": "code",
   "execution_count": 147,
   "metadata": {},
   "outputs": [
    {
     "data": {
      "text/plain": [
       "True"
      ]
     },
     "execution_count": 147,
     "metadata": {},
     "output_type": "execute_result"
    }
   ],
   "source": [
    "translate(seqs[5]) == translate(rnaiwi3)"
   ]
  },
  {
   "cell_type": "code",
   "execution_count": 148,
   "metadata": {},
   "outputs": [
    {
     "data": {
      "text/plain": [
       "'GGTATTGGACGAGGAAGATCAAGAGGATTATTAATGCAGAAATTCTTAAACAAGGACGTATTAGTACCATCAGTAGAGTCACTTGAGGATAAGGCATTAAACAAATTAGGTATACCTCCACCAGGATCAACAGTTGAGAAGAACACTGAATCTTCATCAATTTCTTCAGGTGACTCTCGATCAAACCCATCAGGTGACTCTCGAAACAATATTAAGTTACAGGACTCAGACATAGAAAACAGAAACATAACAATAGTAACAAGACCTCTTTCATGTATTGGAAGAGGAAGAGGACTTTCAAACCCATCTTCACTTACAACATCTTCAGGAAAGTCAGACAAGATAACAGAGAATGAGGAGCCAGGACAGATAAAGAAATTCGTTGGAAGAGGACGAGGTTTATTAAACTCACAAAAGGAGTGCTCTAATTCAACACCTTCAGAGGTATCTAACGAGTTAAAGCAGATGAAGATATCTAACGACGACAAGATGACAGTATCATCTGAGGCT'"
      ]
     },
     "execution_count": 148,
     "metadata": {},
     "output_type": "execute_result"
    }
   ],
   "source": [
    "seqs[5]"
   ]
  },
  {
   "cell_type": "code",
   "execution_count": null,
   "metadata": {},
   "outputs": [],
   "source": []
  },
  {
   "cell_type": "markdown",
   "metadata": {},
   "source": [
    "## Recode p53 subdomain"
   ]
  },
  {
   "cell_type": "code",
   "execution_count": 166,
   "metadata": {},
   "outputs": [],
   "source": [
    "p53_domain = 'TCTTCTTATCCAGGTCCGTATAATTTTCAAATCTTTATTCCCAACGGAGAATTTGATGAATCCAAAAGAAAAGGACAGACATGTGTGTTTCAAACCGATAAAATGGGAAATCACCAATTATTTACCAAACCTCATCCTCATTATTGGAGGTTAAATTATTCAGCTGATCCTTCTATGTCAACGGAAAACATGTATATTCGGATGGTTCCAGTTTTTGGGGATCCAGAAAAAGCTCAATGCATTTTGGAAAGATGTGCAAAACACAAAGAAGTAACAACCGATGAAAATCACTGGAAATATCGTAGCATGCTCATTGTAGAAAAAACCTGTGCACATTACTTTCAGGATTCGGCAACGAAAAGAGTTTGCATTTTATTACCGTTTGAAAAGCATGCGGAAGGAGAGATTTATTCTTCCGTCAACTGTCAATTTGCATGCTACAACAGTTGCTTTAATCAAGATTCAGGTGGTCGGAAAACACTTTATTTAATCATCACTCTAGAATTTCTCGATAAAAAAACAAATAAATTCGATGTATGGGGTCGACAGTGTTTGCAATTTCGCAGTTGTGCTTGTCCAAGTAGAGACTGGAGAGAT'"
   ]
  },
  {
   "cell_type": "code",
   "execution_count": 167,
   "metadata": {},
   "outputs": [],
   "source": [
    "p53_domainprotein = translate(p53_domain)"
   ]
  },
  {
   "cell_type": "code",
   "execution_count": 168,
   "metadata": {},
   "outputs": [
    {
     "data": {
      "text/plain": [
       "'SSYPGPYNFQIFIPNGEFDESKRKGQTCVFQTDKMGNHQLFTKPHPHYWRLNYSADPSMSTENMYIRMVPVFGDPEKAQCILERCAKHKEVTTDENHWKYRSMLIVEKTCAHYFQDSATKRVCILLPFEKHAEGEIYSSVNCQFACYNSCFNQDSGGRKTLYLIITLEFLDKKTNKFDVWGRQCLQFRSCACPSRDWRD'"
      ]
     },
     "execution_count": 168,
     "metadata": {},
     "output_type": "execute_result"
    }
   ],
   "source": [
    "p53_domainprotein"
   ]
  },
  {
   "cell_type": "code",
   "execution_count": 182,
   "metadata": {},
   "outputs": [],
   "source": [
    "recode = 501\n",
    "seqs, seqs_small, cais, dists, cais_full, dists_full = sliding_window_RNAi_recoding(recode, p53_domain, p53_domainprotein,\n",
    "                                                                                    aminoacidweights, gencodeweights, \n",
    "                                                 random = False, no_wobble = True, enforce_different_codons = True, wiggle = False)\n",
    "\n"
   ]
  },
  {
   "cell_type": "code",
   "execution_count": 183,
   "metadata": {},
   "outputs": [
    {
     "data": {
      "text/plain": [
       "array([0.34730539, 0.34730539, 0.34730539, 0.3493014 , 0.3493014 ,\n",
       "       0.3493014 , 0.3493014 , 0.3493014 , 0.3493014 , 0.3493014 ,\n",
       "       0.3493014 , 0.3493014 , 0.3493014 , 0.34730539, 0.34730539,\n",
       "       0.34730539, 0.34730539, 0.34730539, 0.34730539, 0.34730539,\n",
       "       0.34730539, 0.3493014 , 0.35329341, 0.35329341, 0.35329341,\n",
       "       0.35329341, 0.35329341, 0.35728543, 0.35728543, 0.35728543,\n",
       "       0.35528942, 0.35528942])"
      ]
     },
     "execution_count": 183,
     "metadata": {},
     "output_type": "execute_result"
    }
   ],
   "source": [
    "dists"
   ]
  },
  {
   "cell_type": "code",
   "execution_count": 172,
   "metadata": {},
   "outputs": [
    {
     "data": {
      "text/plain": [
       "array([207.94382022, 207.94382022, 206.8258427 , 206.8258427 ,\n",
       "       206.8258427 , 206.8258427 , 206.8258427 , 206.8258427 ,\n",
       "       206.8258427 , 206.8258427 , 207.94382022, 210.17977528,\n",
       "       210.17977528, 210.17977528, 210.17977528, 210.17977528,\n",
       "       212.41573034, 212.41573034, 212.41573034, 211.29775281,\n",
       "       211.29775281])"
      ]
     },
     "execution_count": 172,
     "metadata": {},
     "output_type": "execute_result"
    }
   ],
   "source": [
    "dists*len(p53_domain)"
   ]
  },
  {
   "cell_type": "code",
   "execution_count": 184,
   "metadata": {},
   "outputs": [
    {
     "data": {
      "text/plain": [
       "27"
      ]
     },
     "execution_count": 184,
     "metadata": {},
     "output_type": "execute_result"
    }
   ],
   "source": [
    "np.argmax(dists)"
   ]
  },
  {
   "cell_type": "code",
   "execution_count": 186,
   "metadata": {},
   "outputs": [
    {
     "data": {
      "text/plain": [
       "'CVFQTDKMGNHQLFTKPHPHYWRLNYSADPSMSTENMYIRMVPVFGDPEKAQCILERCAKHKEVTTDENHWKYRSMLIVEKTCAHYFQDSATKRVCILLPFEKHAEGEIYSSVNCQFACYNSCFNQDSGGRKTLYLIITLEFLDKKTNKFDVWGRQCLQFRSCACPS'"
      ]
     },
     "execution_count": 186,
     "metadata": {},
     "output_type": "execute_result"
    }
   ],
   "source": [
    "translate(seqs[27])"
   ]
  },
  {
   "cell_type": "code",
   "execution_count": 190,
   "metadata": {},
   "outputs": [
    {
     "data": {
      "text/plain": [
       "'TGCGTTTTCCAGACAGACAAGATGGGTAACCATCAGCTTTTCACAAAGCCACACCCACACTACTGGAGACTTAACTACTCTGCAGACCCATCAATGTCTACAGAGAATATGTACATAAGAATGGTACCTGTATTCGGAGACCCTGAGAAGGCACAGTGTATATTAGAGCGATGCGCTAAGCATAAGGAGGTTACTACAGACGAGAACCATTGGAAGTACAGATCAATGTTAATAGTTGAGAAGACATGCGCTCACTATTTCCAAGACTCAGCTACAAAGCGAGTATGTATACTTCTTCCATTCGAGAAACACGCAGAGGGTGAAATATACTCATCAGTAAATTGCCAGTTCGCTTGTTATAATTCATGTTTCAACCAGGACTCTGGAGGAAGAAAGACTTTATACCTTATAATAACATTAGAGTTCTTAGACAAGAAGACTAACAAGTTTGACGTTTGGGGAAGACAATGCTTACAGTTCAGATCATGCGCATGCCCTTCA'"
      ]
     },
     "execution_count": 190,
     "metadata": {},
     "output_type": "execute_result"
    }
   ],
   "source": [
    "seqs[27]"
   ]
  },
  {
   "cell_type": "code",
   "execution_count": 176,
   "metadata": {},
   "outputs": [
    {
     "data": {
      "text/plain": [
       "0.34831460674157305"
      ]
     },
     "execution_count": 176,
     "metadata": {},
     "output_type": "execute_result"
    }
   ],
   "source": [
    "dists[1]"
   ]
  },
  {
   "cell_type": "code",
   "execution_count": 177,
   "metadata": {},
   "outputs": [
    {
     "data": {
      "text/plain": [
       "0.35580524344569286"
      ]
     },
     "execution_count": 177,
     "metadata": {},
     "output_type": "execute_result"
    }
   ],
   "source": [
    "dists[16]"
   ]
  },
  {
   "cell_type": "code",
   "execution_count": 178,
   "metadata": {},
   "outputs": [
    {
     "data": {
      "text/plain": [
       "'TCATACCCTGGACCATACAACTTCCAGATATTCATACCAAATGGTGAGTTCGACGAGTCAAAGCGAAAGGGTCAAACTTGCGTTTTCCAGACAGACAAGATGGGTAACCATCAGCTTTTCACAAAGCCACACCCACACTACTGGAGACTTAACTACTCTGCAGACCCATCAATGTCTACAGAGAATATGTACATAAGAATGGTACCTGTATTCGGAGACCCTGAGAAGGCACAGTGTATATTAGAGCGATGCGCTAAGCATAAGGAGGTTACTACAGACGAGAACCATTGGAAGTACAGATCAATGTTAATAGTTGAGAAGACATGCGCTCACTATTTCCAAGACTCAGCTACAAAGCGAGTATGTATACTTCTTCCATTCGAGAAACACGCAGAGGGTGAAATATACTCATCAGTAAATTGCCAGTTCGCTTGTTATAATTCATGTTTCAACCAGGACTCTGGAGGAAGAAAGACTTTATACCTTATAATAACATTAGAGTTCTTAGACAAGAAGACTAACAAGTTTGACGTT'"
      ]
     },
     "execution_count": 178,
     "metadata": {},
     "output_type": "execute_result"
    }
   ],
   "source": [
    "seqs[1]"
   ]
  },
  {
   "cell_type": "code",
   "execution_count": 179,
   "metadata": {},
   "outputs": [
    {
     "data": {
      "text/plain": [
       "0.35580524344569286"
      ]
     },
     "execution_count": 179,
     "metadata": {},
     "output_type": "execute_result"
    }
   ],
   "source": [
    "dists[16]"
   ]
  },
  {
   "cell_type": "code",
   "execution_count": 181,
   "metadata": {},
   "outputs": [
    {
     "data": {
      "text/plain": [
       "'EFDESKRKGQTCVFQTDKMGNHQLFTKPHPHYWRLNYSADPSMSTENMYIRMVPVFGDPEKAQCILERCAKHKEVTTDENHWKYRSMLIVEKTCAHYFQDSATKRVCILLPFEKHAEGEIYSSVNCQFACYNSCFNQDSGGRKTLYLIITLEFLDKKTNKFDVWGRQCLQFRSCACPS'"
      ]
     },
     "execution_count": 181,
     "metadata": {},
     "output_type": "execute_result"
    }
   ],
   "source": [
    "translate(seqs[16])"
   ]
  },
  {
   "cell_type": "code",
   "execution_count": null,
   "metadata": {},
   "outputs": [],
   "source": []
  }
 ],
 "metadata": {
  "kernelspec": {
   "display_name": "Python 3",
   "language": "python",
   "name": "python3"
  },
  "language_info": {
   "codemirror_mode": {
    "name": "ipython",
    "version": 3
   },
   "file_extension": ".py",
   "mimetype": "text/x-python",
   "name": "python",
   "nbconvert_exporter": "python",
   "pygments_lexer": "ipython3",
   "version": "3.7.9"
  }
 },
 "nbformat": 4,
 "nbformat_minor": 4
}
