{
 "cells": [
  {
   "cell_type": "code",
   "execution_count": 26,
   "metadata": {},
   "outputs": [],
   "source": [
    "import os\n",
    "import glob\n",
    "import copy\n",
    "import numpy as np\n",
    "import Bio\n",
    "import scipy.spatial"
   ]
  },
  {
   "cell_type": "code",
   "execution_count": 85,
   "metadata": {},
   "outputs": [],
   "source": [
    "# create dictionaries of amino acids and codons \n",
    "gencode = {\n",
    "    'ATA':'I', 'ATC':'I', 'ATT':'I', 'ATG':'M',\n",
    "    'ACA':'T', 'ACC':'T', 'ACG':'T', 'ACT':'T',\n",
    "    'AAC':'N', 'AAT':'N', 'AAA':'K', 'AAG':'K',\n",
    "    'AGC':'S', 'AGT':'S', 'AGA':'R', 'AGG':'R',\n",
    "    'CTA':'L', 'CTC':'L', 'CTG':'L', 'CTT':'L',\n",
    "    'CCA':'P', 'CCC':'P', 'CCG':'P', 'CCT':'P',\n",
    "    'CAC':'H', 'CAT':'H', 'CAA':'Q', 'CAG':'Q',\n",
    "    'CGA':'R', 'CGC':'R', 'CGG':'R', 'CGT':'R',\n",
    "    'GTA':'V', 'GTC':'V', 'GTG':'V', 'GTT':'V',\n",
    "    'GCA':'A', 'GCC':'A', 'GCG':'A', 'GCT':'A',\n",
    "    'GAC':'D', 'GAT':'D', 'GAA':'E', 'GAG':'E',\n",
    "    'GGA':'G', 'GGC':'G', 'GGG':'G', 'GGT':'G',\n",
    "    'TCA':'S', 'TCC':'S', 'TCG':'S', 'TCT':'S',\n",
    "    'TTC':'F', 'TTT':'F', 'TTA':'L', 'TTG':'L',\n",
    "    'TAC':'Y', 'TAT':'Y', 'TAA':'*', 'TAG':'*',\n",
    "    'TGC':'C', 'TGT':'C', 'TGA':'*', 'TGG':'W'}\n",
    "\n",
    "aminoacidcode = {}\n",
    "for x in gencode.values():\n",
    "    aminoacidcode[x] = []\n",
    "for x,y in gencode.items():\n",
    "    aminoacidcode[y] = aminoacidcode[y] + [x]\n",
    "    \n",
    "    \n",
    "\n",
    "def read_fasta(filename):\n",
    "    \"\"\"Read a sequence in from a FASTA file containing a single sequence.\n",
    "\n",
    "    We assume that the first line of the file is the descriptor and all\n",
    "    subsequent lines are sequence.\n",
    "    \n",
    "    This function from solution 4.1 of Caltech Bi 203 bootcamp \n",
    "    \"\"\"\n",
    "    with open(filename, 'r') as f:\n",
    "        # Read in descriptor\n",
    "        descriptor = f.readline().rstrip()\n",
    "\n",
    "        # Read in sequence, stripping the whitespace from each line\n",
    "        seq = ''\n",
    "        line = f.readline().rstrip()\n",
    "        while line != '':\n",
    "            seq += line\n",
    "            line = f.readline().rstrip()\n",
    "\n",
    "    return descriptor, seq\n",
    "\n",
    "def read_fasta_many_seqs(filename):\n",
    "    \"\"\"Read a sequence in from a FASTA file containing many_sequences. Returns \n",
    "    list of descriptors and sequences\n",
    "    \n",
    "    This function from solution 4.1 of Caltech Bi 203 bootcamp \n",
    "    \"\"\"\n",
    "    descriptors = []\n",
    "    seqs = []\n",
    "    current_seq = ''\n",
    "    end = False\n",
    "    it = 0\n",
    "    with open(filename, 'r') as f:\n",
    "        while not end:\n",
    "            line  = f.readline().rstrip()\n",
    "            if line == '':\n",
    "                end = True\n",
    "            elif '>' in line:\n",
    "                if len(descriptors) >= 1:\n",
    "                    seqs.append(current_seq)\n",
    "                descriptors.append(line)\n",
    "                current_seq = ''\n",
    "\n",
    "            else:\n",
    "                current_seq = current_seq + line\n",
    "            \n",
    "    return descriptors, seqs\n",
    "\n",
    "def get_random_codon(aminoacid, aminoacidcode = aminoacidcode, dont_use = '', \n",
    "                    weights = np.zeros(1)):\n",
    "    '''Gets a random codon for aminoacid, aminoacid must be single letter amino acid code'''\n",
    "    \n",
    "    codon_list = aminoacidcode[aminoacid]\n",
    "\n",
    "    if sum(weights == 0):\n",
    "        weights = np.ones(len(codon_list)) # uniformly distributed weights list \n",
    "    if len(codon_list) < 2:\n",
    "        dont_use = '' # only one option \n",
    "        \n",
    "    if dont_use != '':\n",
    "        ind = codon_list.index(dont_use.upper())\n",
    "        if ind + 1 == len(codon_list):\n",
    "            codon_list = codon_list[:ind]\n",
    "            weights = np.array(list(weights[:ind]))\n",
    "        else:\n",
    "            codon_list = codon_list[:ind] + codon_list[ind + 1:]\n",
    "            weights = np.array(list(weights[:ind])  + list(weights[ind + 1:]))   \n",
    "\n",
    "    return np.random.choice(codon_list, p = weights/np.sum(weights))\n",
    "\n",
    "\n",
    "\n",
    "\n",
    "    \n",
    "        \n",
    "\n",
    "def translate(dna_seq):\n",
    "    \"\"\"\n",
    "    Translates an ORF to a protein (must be DNA) \n",
    "    \"\"\"\n",
    "    dna_seq = dna_seq.upper()\n",
    "    ncodons = int(len(dna_seq)/3)\n",
    " \n",
    "    if len(dna_seq) % 3 > 0.:\n",
    "        raise ValueError(\"Length of DNA sequence must be divisble by 3\")\n",
    "        \n",
    "    protein_seq = ''\n",
    "    for i in range(ncodons):\n",
    "        protein_seq = protein_seq + gencode[dna_seq[i*3:(i+1)*3]]\n",
    "    return protein_seq\n",
    "    \n",
    "def random_reverse_translate(protein_seq, weights_dic = None, change_seq = ''):\n",
    "    \"\"\"\n",
    "    Return a random cDNA sequence for a given protein sequence (protein_seq). \n",
    "    \"\"\"\n",
    "    cDNA_seq = ''\n",
    "    weights = np.zeros(1)\n",
    "    for i, aminoacid in enumerate(protein_seq):\n",
    "        if weights_dic:\n",
    "            weights = weights_dic[aminoacid]\n",
    "        if len(change_seq) > 0:\n",
    "            cDNA_seq = cDNA_seq + get_random_codon(aminoacid, \n",
    "                                               weights = weights, dont_use = change_seq[3*i:3*(i+1)])\n",
    "        else:\n",
    "            cDNA_seq = cDNA_seq + get_random_codon(aminoacid, weights = weights)\n",
    "            \n",
    "        \n",
    "    assert translate(cDNA_seq) == protein_seq\n",
    "    return cDNA_seq\n",
    "\n",
    "def get_codon_frequencies(transcriptome):\n",
    "    '''\n",
    "    Obtains codon frequencies from transcriptome \n",
    "    \n",
    "    transcriptome: a string of all transcripts of an organism concatenated\n",
    "    '''\n",
    "    \n",
    "    codon_counts_dic = {}\n",
    "    for codon in gencode.keys():\n",
    "        codon_counts_dic[codon] = 0.\n",
    "        \n",
    "    \n",
    "    ncodons = int(len(transcriptome)//3)\n",
    "    for i in range(ncodons):\n",
    "        codon = transcriptome[i*3:(i+1)*3].upper()\n",
    "  \n",
    "        codon_counts_dic[codon] = codon_counts_dic[codon] + 1 \n",
    "    codon_frequencies_dic = {}\n",
    "    for codon in codon_counts_dic.keys():\n",
    "        codon_frequencies_dic[codon] = codon_counts_dic[codon]/ncodons\n",
    "    return codon_frequencies_dic\n",
    "\n",
    "\n",
    "def get_codon_weights_dic(transcriptome):\n",
    "    '''Creates a codon weighths for each codon from a given transcriptome \n",
    "    weights are computed as follows: w_i,j = x_i,j/yj where x_i,j is the frequency of codon i for amino acid j\n",
    "    in the transcriptome and y_j is the frequency of the maximally frequent codon for amino acid j \n",
    "    \n",
    "    transcriptome: a string of all transcripts of an organism concatenated\n",
    "    '''\n",
    "    \n",
    "    codon_frequencies_dic = get_codon_frequencies(transcriptome)\n",
    "    \n",
    "    aminoacid_weights_dic = {}\n",
    "    gencode_weights_dic = {}\n",
    "    \n",
    "    for aminoacid in aminoacidcode.keys():\n",
    "        codons = aminoacidcode[aminoacid]\n",
    "        codon_weight_array = np.zeros(len(codons))\n",
    "        codon_freq_array = np.zeros(len(codons))\n",
    "        y_j = 0 \n",
    "        for i, c in enumerate(codons):\n",
    "            freq = codon_frequencies_dic[c]\n",
    "            codon_freq_array[i] = freq\n",
    "            if freq > y_j:\n",
    "                y_j = freq\n",
    "        codon_weight_array = codon_freq_array/y_j \n",
    "        aminoacid_weights_dic[aminoacid] = codon_weight_array\n",
    "        for i, c in enumerate(codons):\n",
    "            gencode_weights_dic[c] = codon_weight_array[i]\n",
    "    return aminoacid_weights_dic, gencode_weights_dic \n",
    "\n",
    "def get_CAI(dna_seq, weights_dic):\n",
    "    if len(dna_seq) % 3 > 0.:\n",
    "        raise ValueError(\"Length of DNA sequence must be divisble by 3\")\n",
    "    ncodons = int(len(dna_seq)//3)\n",
    "    cai = 1\n",
    "    for i in range(ncodons):\n",
    "        codon = dna_seq[i*3:(i+1)*3].upper()\n",
    "        cai = cai*weights_dic[codon]\n",
    "    return cai**(1/ncodons)\n",
    "\n",
    "\n",
    "def get_hamming_dist(seq1, seq2):\n",
    "    if len(seq1) != len(seq2):\n",
    "        raise ValueError(\"sequence lengths must be equal\")\n",
    "    dist = 0.\n",
    "    for i in range(len(seq1)):\n",
    "        if seq1[i] != seq2[i]:\n",
    "            dist += 1\n",
    "    return dist\n",
    "        \n",
    "def get_distance(seq1, seq2):\n",
    "    \n",
    "    return get_hamming_dist(seq1, seq2)/len(seq1)\n",
    "\n",
    "\n",
    "def get_rnai_score(dna_seq1, dna_seq2, weights_dic, weight_distance = .5):\n",
    "    cai = get_CAI(dna_seq1, weights_dic)\n",
    "    dist = get_distance(dna_seq1, dna_seq2)\n",
    "    combined_score = (1-weight_distance)*cai + weight_distance*dist\n",
    "    return cai, dist, combined_score \n",
    "\n",
    " "
   ]
  },
  {
   "cell_type": "code",
   "execution_count": 28,
   "metadata": {},
   "outputs": [],
   "source": [
    "\n",
    "_, genome_seq = read_fasta('data/salmonella_spi1_region.fna')\n",
    "\n",
    "\n",
    "_, gfp_protein_seq = read_fasta('data/P42212.fasta')\n",
    "\n",
    "gfp_protein_seq_small = gfp_protein_seq[:10]\n",
    "\n",
    "\n",
    "gfp_random_seq_small = random_reverse_translate(gfp_protein_seq_small)\n"
   ]
  },
  {
   "cell_type": "code",
   "execution_count": 29,
   "metadata": {},
   "outputs": [],
   "source": [
    "aminoacid_weights_dic, gencode_weights_dic = get_codon_weights_dic(genome_seq)\n"
   ]
  },
  {
   "cell_type": "code",
   "execution_count": 30,
   "metadata": {},
   "outputs": [],
   "source": [
    "gfp_random_seq_small1 = random_reverse_translate(gfp_protein_seq, \n",
    "                                        weights_dic = aminoacid_weights_dic )\n",
    "gfp_random_seq_small2 = random_reverse_translate(gfp_protein_seq, \n",
    "                                        weights_dic = aminoacid_weights_dic )\n",
    "cai = get_CAI(gfp_random_seq_small1, gencode_weights_dic, \n",
    "              )"
   ]
  },
  {
   "cell_type": "code",
   "execution_count": null,
   "metadata": {},
   "outputs": [],
   "source": []
  },
  {
   "cell_type": "code",
   "execution_count": 33,
   "metadata": {},
   "outputs": [],
   "source": [
    "def read_fasta(filename):\n",
    "    \"\"\"Read a sequence in from a FASTA file containing a single sequence.\n",
    "\n",
    "    We assume that the first line of the file is the descriptor and all\n",
    "    subsequent lines are sequence.\n",
    "    \n",
    "    This function from solution 4.1 of Caltech Bi 203 bootcamp \n",
    "    \"\"\"\n",
    "    descriptors = []\n",
    "    seqs = []\n",
    "    current_seq = ''\n",
    "    end = False\n",
    "    it = 0\n",
    "    with open(filename, 'r') as f:\n",
    "        while not end:\n",
    "            line  = f.readline().rstrip()\n",
    "            if line == '':\n",
    "                end = True\n",
    "                seqs.append(current_seq)\n",
    "            elif '>' in line:\n",
    "                if len(descriptors) >= 1:\n",
    "                 \n",
    "                    seqs.append(current_seq)\n",
    "\n",
    "                descriptors.append(line)\n",
    "                current_seq = ''\n",
    "                \n",
    "            else:\n",
    "                current_seq = current_seq + line\n",
    "            \n",
    "    return descriptors, seqs"
   ]
  },
  {
   "cell_type": "code",
   "execution_count": 34,
   "metadata": {},
   "outputs": [],
   "source": [
    "fname = 'data/dd_Smed_v6_transcripts_orfs.fa'\n",
    "descriptors, seqs = read_fasta(fname)\n",
    "\n",
    "transcriptome = ''.join(seqs)\n",
    "\n"
   ]
  },
  {
   "cell_type": "code",
   "execution_count": 35,
   "metadata": {},
   "outputs": [],
   "source": [
    "aminoacidweights, gencodeweights = get_codon_weights_dic(transcriptome)"
   ]
  },
  {
   "cell_type": "code",
   "execution_count": 36,
   "metadata": {},
   "outputs": [],
   "source": [
    "H2B_ORF = 'atggcaattaaaggtaagatcgctgctaagtctgttaagaagatttcaaaggaagttgctcctaaaacagacaaaaagaaaaggatacataaacgcaaagaaagttatggtatttacatctacaaagtgttgagacaagttcatccagatactggaatttctggcaaagcaatgtctattatgaatagctttgtcaacgatgttttcgaaagaatcgcttcggaggctagcaagttggcaacttataataagaaatcaaccataaccagcagagagattcaaactgcagtcaggttaattttaccaggagaattggctaaacacgcagttagtgaaggaaccaaagctgttacaaaatacacaggatccaaa'"
   ]
  },
  {
   "cell_type": "code",
   "execution_count": 37,
   "metadata": {},
   "outputs": [
    {
     "data": {
      "text/plain": [
       "375"
      ]
     },
     "execution_count": 37,
     "metadata": {},
     "output_type": "execute_result"
    }
   ],
   "source": [
    "H2B_ORF = H2B_ORF.upper() + 'TAA'\n",
    "len(H2B_ORF)"
   ]
  },
  {
   "cell_type": "code",
   "execution_count": 38,
   "metadata": {},
   "outputs": [],
   "source": [
    "H2B_protein = 'MAIKGKIAAKSVKKISKEVAPKTDKKKRIHKRKESYGIYIYKVLRQVHPDTGISGKAMSIMNSFVNDVFERIASEASKLATYNKKSTITSREIQTAVRLILPGELAKHAVSEGTKAVTKYTGSK*'\n"
   ]
  },
  {
   "cell_type": "code",
   "execution_count": 86,
   "metadata": {},
   "outputs": [],
   "source": [
    "def get_RNAi_seq(ORF, protein, aminoacidweights, gencodeweights, trials = 10000, enforce_different_codons = False):\n",
    "    seqs = []\n",
    "    scores = []\n",
    "    cais = []\n",
    "    dists = []\n",
    "    for i in range(trials):\n",
    "        if enforce_different_codons:\n",
    "            random_seq = random_reverse_translate(protein,\n",
    "                                          weights_dic = aminoacidweights, \n",
    "                                             change_seq = ORF)\n",
    "        else:\n",
    "            random_seq = random_reverse_translate(protein,\n",
    "                                          weights_dic = aminoacidweights)\n",
    "        seqs.append(random_seq)\n",
    "        cai, dist, score = get_rnai_score(random_seq, ORF, \n",
    "                           gencode_weights_dic, weight_distance = .5)\n",
    "        scores.append(score)\n",
    "        cais.append(cai)\n",
    "        dists.append(dist)\n",
    "        \n",
    "    return seqs, scores, cais, dists"
   ]
  },
  {
   "cell_type": "code",
   "execution_count": 62,
   "metadata": {},
   "outputs": [],
   "source": [
    "def get_random_codon(aminoacid, aminoacidcode = aminoacidcode, dont_use = '', \n",
    "                    weights = np.zeros(1)):\n",
    "    '''Gets a random codon for aminoacid, aminoacid must be single letter amino acid code'''\n",
    "    \n",
    "    codon_list = aminoacidcode[aminoacid]\n",
    "\n",
    "    if sum(weights == 0):\n",
    "        weights = np.ones(len(codon_list)) # uniformly distributed weights list \n",
    "    if len(codon_list) < 2:\n",
    "        dont_use = '' # only one option \n",
    "        \n",
    "    if dont_use != '':\n",
    "        ind = codon_list.index(dont_use.upper())\n",
    "        if ind + 1 == len(codon_list):\n",
    "            codon_list = codon_list[:ind]\n",
    "            weights = np.array(list(weights[:ind]))\n",
    "        else:\n",
    "            codon_list = codon_list[:ind] + codon_list[ind + 1:]\n",
    "            weights = np.array(list(weights[:ind])  + list(weights[ind + 1:]))   \n",
    "\n",
    "    return np.random.choice(codon_list, p = weights/np.sum(weights))\n",
    "\n",
    "\n"
   ]
  },
  {
   "cell_type": "code",
   "execution_count": 70,
   "metadata": {},
   "outputs": [
    {
     "name": "stdout",
     "output_type": "stream",
     "text": [
      "ATC\n"
     ]
    }
   ],
   "source": [
    "print(aminoacidcode['I'][1])"
   ]
  },
  {
   "cell_type": "code",
   "execution_count": 84,
   "metadata": {},
   "outputs": [
    {
     "name": "stdout",
     "output_type": "stream",
     "text": [
      "['ATA', 'ATC', 'ATT']\n"
     ]
    },
    {
     "data": {
      "text/plain": [
       "'ATC'"
      ]
     },
     "execution_count": 84,
     "metadata": {},
     "output_type": "execute_result"
    }
   ],
   "source": [
    "a = get_random_codon('I', dont_use = aminoacidcode['I'][2])\n",
    "a"
   ]
  },
  {
   "cell_type": "code",
   "execution_count": 44,
   "metadata": {},
   "outputs": [
    {
     "data": {
      "text/plain": [
       "3"
      ]
     },
     "execution_count": 44,
     "metadata": {},
     "output_type": "execute_result"
    }
   ],
   "source": [
    "len(aminoacidcode['I'])"
   ]
  },
  {
   "cell_type": "code",
   "execution_count": 90,
   "metadata": {},
   "outputs": [],
   "source": [
    "seqs, scores, cais, dists = get_RNAi_seq(H2B_ORF, H2B_protein, aminoacidweights,\n",
    "                            gencodeweights, trials = 100,  enforce_different_codons = True)\n"
   ]
  },
  {
   "cell_type": "code",
   "execution_count": 92,
   "metadata": {},
   "outputs": [
    {
     "data": {
      "text/plain": [
       "0.7441160506249707"
      ]
     },
     "execution_count": 92,
     "metadata": {},
     "output_type": "execute_result"
    }
   ],
   "source": [
    "max_score_ind = np.argmax(np.array(dists))\n",
    "max_score = scores[max_score_ind]\n",
    "cais[max_score_ind]"
   ]
  },
  {
   "cell_type": "code",
   "execution_count": 93,
   "metadata": {},
   "outputs": [
    {
     "data": {
      "image/png": "[encoded data removed]",
      "text/plain": [
       "<Figure size 432x288 with 1 Axes>"
      ]
     },
     "metadata": {
      "needs_background": "light"
     },
     "output_type": "display_data"
    },
    {
     "data": {
      "image/png": "[encoded data removed]",
      "text/plain": [
       "<Figure size 432x288 with 1 Axes>"
      ]
     },
     "metadata": {
      "needs_background": "light"
     },
     "output_type": "display_data"
    },
    {
     "data": {
      "image/png": "[encoded data removed]",
      "text/plain": [
       "<Figure size 432x288 with 1 Axes>"
      ]
     },
     "metadata": {
      "needs_background": "light"
     },
     "output_type": "display_data"
    }
   ],
   "source": [
    "import matplotlib.pyplot as plt\n",
    "\n",
    "plt.hist(scores)\n",
    "plt.title('scores')\n",
    "plt.show()\n",
    "\n",
    "plt.hist(dists)\n",
    "plt.title('dists')\n",
    "plt.show()\n",
    "plt.hist(cais)\n",
    "plt.title('cais')\n",
    "plt.show()"
   ]
  },
  {
   "cell_type": "code",
   "execution_count": 155,
   "metadata": {},
   "outputs": [
    {
     "data": {
      "text/plain": [
       "95"
      ]
     },
     "execution_count": 155,
     "metadata": {},
     "output_type": "execute_result"
    }
   ],
   "source": [
    "np.argmax(scores)"
   ]
  },
  {
   "cell_type": "code",
   "execution_count": 154,
   "metadata": {},
   "outputs": [
    {
     "data": {
      "text/plain": [
       "0.272"
      ]
     },
     "execution_count": 154,
     "metadata": {},
     "output_type": "execute_result"
    }
   ],
   "source": [
    "dists[64]"
   ]
  },
  {
   "cell_type": "code",
   "execution_count": 145,
   "metadata": {},
   "outputs": [
    {
     "data": {
      "text/plain": [
       "1.0"
      ]
     },
     "execution_count": 145,
     "metadata": {},
     "output_type": "execute_result"
    }
   ],
   "source": [
    "scipy.spatial.distance.hamming(seqs[1], seqs[2])"
   ]
  },
  {
   "cell_type": "code",
   "execution_count": 140,
   "metadata": {},
   "outputs": [
    {
     "data": {
      "text/plain": [
       "'ATGGCTATAAAAGGCAAAATAGCAGCTAAGTCTGTCAAGAAAATAAGCAAAGAGGTCGCGCCAAAAACTGACAAGAAAAAGCGGATACATAAGCGTAAGGAGTCTTACGGCATATATATATATAAAGTTCTGCGACAGGTTCATCCTGATACCGGGATATCAGGTAAAGCCATGTCGATAATGAATTCGTTTGTTAACGACGTTTTTGAAAGAATAGCATCGGAGGCAAGTAAATTGGCTACATACAATAAGAAGTCGACAATCACAAGCCGTGAGATCCAAACTGCTGTCCGTCTCATACTTCCCGGTGAACTAGCGAAGCATGCGGTTAGCGAAGGAACAAAGGCCGTTACCAAATATACGGGATCGAAATAA'"
      ]
     },
     "execution_count": 140,
     "metadata": {},
     "output_type": "execute_result"
    }
   ],
   "source": [
    "seqs[1]"
   ]
  },
  {
   "cell_type": "code",
   "execution_count": 141,
   "metadata": {},
   "outputs": [
    {
     "data": {
      "text/plain": [
       "'ATGGCCATCAAAGGGAAGATCGCCGCGAAGTCAGTAAAAAAGATAAGTAAAGAAGTGGCACCTAAAACAGACAAGAAGAAACGGATCCATAAGAGAAAGGAGTCTTATGGGATCTATATCTATAAAGTACTGCGTCAAGTGCACCCGGATACAGGTATATCGGGGAAAGCTATGTCTATAATGAACAGTTTCGTTAATGATGTTTTTGAACGTATCGCCAGCGAAGCATCGAAACTCGCAACCTATAATAAAAAGTCCACGATCACCTCGAGGGAGATCCAGACAGCCGTACGCCTCATTTTACCGGGCGAGCTTGCGAAACATGCGGTCTCCGAGGGCACCAAAGCTGTAACTAAATACACTGGCTCTAAATGA'"
      ]
     },
     "execution_count": 141,
     "metadata": {},
     "output_type": "execute_result"
    }
   ],
   "source": [
    "seqs[2]"
   ]
  },
  {
   "cell_type": "code",
   "execution_count": null,
   "metadata": {},
   "outputs": [],
   "source": []
  }
 ],
 "metadata": {
  "kernelspec": {
   "display_name": "Python 3",
   "language": "python",
   "name": "python3"
  },
  "language_info": {
   "codemirror_mode": {
    "name": "ipython",
    "version": 3
   },
   "file_extension": ".py",
   "mimetype": "text/x-python",
   "name": "python",
   "nbconvert_exporter": "python",
   "pygments_lexer": "ipython3",
   "version": "3.7.9"
  }
 },
 "nbformat": 4,
 "nbformat_minor": 4
}
